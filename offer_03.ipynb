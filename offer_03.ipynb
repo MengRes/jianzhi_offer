{
 "cells": [
  {
   "cell_type": "markdown",
   "metadata": {},
   "source": [
    "## 剑指 03. 数组中重复的数字\n",
    "\n",
    "在一个长度为 n 的数组里的所有数字都在 0 到 n-1 的范围内。 数组中某些数字是重复的，但不知道有几个数字是重复的。也不知道每个数字重复几次。请找出数组中任意一个重复的数字。 例如，如果输入长度为 7 的数组 [2,3,1,0,2,5,3]，那么对应的输出是 2 或者 3。存在不合法的输入的话输出 -1。\n",
    "\n",
    "**示例**\n",
    "\n",
    "Input: [2,3,1,0,2,5,3]\n",
    "\n",
    "Output: 2 or 3"
   ]
  },
  {
   "cell_type": "markdown",
   "metadata": {},
   "source": [
    "### Naive method:\n",
    "\n",
    "建立一个新的列表 `new_list`，遍历数组，对于每个数字，判断其是否在新的列表 `new_list` 中出现过，如果没有出现过，则添加到新的数组中。如果出现过，该数字为输出。"
   ]
  },
  {
   "cell_type": "code",
   "execution_count": 1,
   "metadata": {},
   "outputs": [],
   "source": [
    "from typing import List\n",
    "\n",
    "class Solution:\n",
    "    def duplicate(self , numbers: List[int]) -> int:\n",
    "        # write code here\n",
    "        single_list = []\n",
    "        repeated_num = -1\n",
    "        for i in range(len(numbers)):\n",
    "            if numbers[i] in single_list:\n",
    "                repeated_num = numbers[i]\n",
    "                break\n",
    "            else:\n",
    "                single_list.append(numbers[i])\n",
    "        return repeated_num"
   ]
  },
  {
   "cell_type": "code",
   "execution_count": 2,
   "metadata": {},
   "outputs": [
    {
     "name": "stdout",
     "output_type": "stream",
     "text": [
      "2\n"
     ]
    }
   ],
   "source": [
    "numbers = [2, 3, 1, 0, 2, 5, 3]\n",
    "\n",
    "solution = Solution()\n",
    "result = solution.duplicate(numbers = numbers)\n",
    "print(result)"
   ]
  }
 ],
 "metadata": {
  "kernelspec": {
   "display_name": "python311",
   "language": "python",
   "name": "python3"
  },
  "language_info": {
   "codemirror_mode": {
    "name": "ipython",
    "version": 3
   },
   "file_extension": ".py",
   "mimetype": "text/x-python",
   "name": "python",
   "nbconvert_exporter": "python",
   "pygments_lexer": "ipython3",
   "version": "3.11.5"
  }
 },
 "nbformat": 4,
 "nbformat_minor": 2
}
