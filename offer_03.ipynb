{
 "cells": [
  {
   "cell_type": "markdown",
   "metadata": {},
   "source": [
    "## 03. 数组中重复的数字\n",
    "\n",
    "在一个长度为 n 的数组里的所有数字都在 0 到 n-1 的范围内。 数组中某些数字是重复的，但不知道有几个数字是重复的。也不知道每个数字重复几次。请找出数组中任意一个重复的数字。 例如，如果输入长度为 7 的数组 [2,3,1,0,2,5,3]，那么对应的输出是 2 或者 3。存在不合法的输入的话输出 -1。\n",
    "\n",
    "数据范围：$0≤n≤10000$   \n",
    "进阶：时间复杂度 $O(n)$，空间复杂度 $O(n)$\n",
    "\n",
    "示例:  \n",
    "Input: [2,3,1,0,2,5,3]  \n",
    "Output: 2 or 3\n",
    "\n",
    "Leetcode link: [LCR.120 shu-zu-zhong-zhong-fu-de-shu-zi-lcof](https://leetcode.cn/problems/shu-zu-zhong-zhong-fu-de-shu-zi-lcof/description/)\n"
   ]
  },
  {
   "cell_type": "markdown",
   "metadata": {},
   "source": [
    "方法一：\n",
    "\n",
    "既然是找重复的问题，那我们利用哈希表记录频率也是一样可以的。只要遇到的元素在哈希表中出现过，它就重复了。\n",
    "\n",
    "具体做法：\n",
    "1. 遍历数组，将没有出现过的元素加入哈希表。\n",
    "2. 遇到的元素在哈希表中出现过就是重复数组。\n",
    "3. 遍历结束也没找到就返回-1.\n",
    "\n",
    "时间复杂度：$O(n)$，其中 n 为数组长度，遍历一次数组，哈希表每次操作都是 $O(1)$  \n",
    "空间复杂度：$O(n)$，哈希表最大的空间为数组长度"
   ]
  },
  {
   "cell_type": "code",
   "execution_count": 1,
   "metadata": {},
   "outputs": [],
   "source": [
    "from typing import List\n",
    "\n",
    "class Solution:\n",
    "    def duplicate(self , numbers: List[int]) -> int:\n",
    "        # write code here\n",
    "        single_list = []\n",
    "        repeated_num = -1\n",
    "        for i in range(len(numbers)):\n",
    "            if numbers[i] in single_list:\n",
    "                repeated_num = numbers[i]\n",
    "                break\n",
    "            else:\n",
    "                single_list.append(numbers[i])\n",
    "        return repeated_num"
   ]
  },
  {
   "cell_type": "code",
   "execution_count": 2,
   "metadata": {},
   "outputs": [
    {
     "name": "stdout",
     "output_type": "stream",
     "text": [
      "2\n"
     ]
    }
   ],
   "source": [
    "numbers = [2, 3, 1, 0, 2, 5, 3]\n",
    "\n",
    "solution = Solution()\n",
    "result = solution.duplicate(numbers = numbers)\n",
    "print(result)"
   ]
  },
  {
   "cell_type": "markdown",
   "metadata": {},
   "source": [
    "方法二：\n",
    "\n",
    "既然数组长度为 n 只包含了 0 到 n−1 的数字，那么如果数字没有重复，这些数字排序后将会与其下标一一对应。那我们就可以考虑遍历数组，每次检查数字与下标是不是一致的，一致的说明它在属于它的位置上，不一致我们就将其交换到该数字作为下标的位置上，如果交换过程中，那个位置已经出现了等于它下标的数字，那肯定就重复了。\n",
    "\n",
    "具体做法：\n",
    "1. 遍历数组，遇到数组元素与下标相同的不用管。\n",
    "2. 遇到数组元素与下标不同，就将其交换到属于它的位置，交换前检查那个位置是否有相同的元素，若有则重复。\n",
    "3. 遍历结束完全交换也没重复，则返回-1.\n",
    "\n",
    "时间复杂度：$O(n)$，其中 n 为数组长度，遍历一次数组，所有的交换都是 $O(1)$  \n",
    "空间复杂度：$O(1)$，常数级变量，无额外辅助空间"
   ]
  },
  {
   "cell_type": "code",
   "execution_count": null,
   "metadata": {},
   "outputs": [],
   "source": [
    "from typing import List\n",
    "\n",
    "class Solution:\n",
    "    #交换函数\n",
    "    def swap(self, numbers: List[int], a: int, b: int):\n",
    "        temp = numbers[a]\n",
    "        numbers[a] = numbers[b]\n",
    "        numbers[b] = temp\n",
    "    \n",
    "    def duplicate(self , numbers: List[int]) -> int:\n",
    "        for i in range(len(numbers)):\n",
    "            #该位置本来就是对的\n",
    "            if numbers[i] == i:\n",
    "                continue\n",
    "            #位置不对，需要换到自己对应的位置\n",
    "            else:\n",
    "                #对应位置相等，重复\n",
    "                if numbers[i] == numbers[numbers[i]]:\n",
    "                    return numbers[i]\n",
    "                #交换位置\n",
    "                else:\n",
    "                    self.swap(numbers, i, numbers[i])\n",
    "                    i -= 1\n",
    "        #没有重复\n",
    "        return -1\n"
   ]
  }
 ],
 "metadata": {
  "kernelspec": {
   "display_name": "python311",
   "language": "python",
   "name": "python3"
  },
  "language_info": {
   "codemirror_mode": {
    "name": "ipython",
    "version": 3
   },
   "file_extension": ".py",
   "mimetype": "text/x-python",
   "name": "python",
   "nbconvert_exporter": "python",
   "pygments_lexer": "ipython3",
   "version": "3.11.5"
  }
 },
 "nbformat": 4,
 "nbformat_minor": 2
}
