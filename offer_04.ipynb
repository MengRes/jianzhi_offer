{
 "cells": [
  {
   "cell_type": "markdown",
   "metadata": {},
   "source": [
    "## 04. 二维数组中的查找\n",
    "\n",
    "在一个 `n*m` 的二维数组中，每一行都按照从左到右递增的顺序排序，每一列都按照从上到下递增的顺序排序。请完成一个函数，输入这样的一个二维数组和一个整数，判断数组中是否含有该整数。\n",
    "\n",
    "示例:\n",
    "\n",
    "现有矩阵 matrix 如下：\n",
    "\n",
    "```\n",
    "[\n",
    "  [1,   4,  7, 11, 15],\n",
    "  [2,   5,  8, 12, 19],\n",
    "  [3,   6,  9, 16, 22],\n",
    "  [10, 13, 14, 17, 24],\n",
    "  [18, 21, 23, 26, 30]\n",
    "]\n",
    "```\n",
    "\n",
    "给定 target = 5，返回 true。\n",
    "\n",
    "给定 target = 20，返回 false。\n",
    "\n",
    "限制：\n",
    "\n",
    "0 <= n <= 1000\n",
    "0 <= m <= 1000"
   ]
  },
  {
   "cell_type": "markdown",
   "metadata": {},
   "source": [
    "### Naive method\n",
    "\n",
    "遍历 matrix，设置初始结果为 False，如果发现遍历的数字等于 target，将结果置为 True，否则 pass。"
   ]
  },
  {
   "cell_type": "code",
   "execution_count": 1,
   "metadata": {},
   "outputs": [],
   "source": [
    "class Solution():\n",
    "    def find_num_matrix(self, input_matrix, target):\n",
    "        result = False\n",
    "        for i in range(len(input_matrix)):\n",
    "            for j in range(len(input_matrix[i])):\n",
    "                if input_matrix[i][j] == target:\n",
    "                    result = True\n",
    "                else:\n",
    "                    pass\n",
    "        return result"
   ]
  },
  {
   "cell_type": "code",
   "execution_count": 2,
   "metadata": {},
   "outputs": [
    {
     "data": {
      "text/plain": [
       "False"
      ]
     },
     "execution_count": 2,
     "metadata": {},
     "output_type": "execute_result"
    }
   ],
   "source": [
    "input_matrix = [[1,   4,  7, 11, 15],\n",
    "                [2,   5,  8, 12, 19],\n",
    "                [3,   6,  9, 16, 22],\n",
    "                [10, 13, 14, 17, 24],\n",
    "                [18, 21, 23, 26, 30]]\n",
    "find_solution = Solution()\n",
    "find_solution.find_num_matrix(input_matrix, target=20)"
   ]
  },
  {
   "cell_type": "markdown",
   "metadata": {},
   "source": []
  }
 ],
 "metadata": {
  "kernelspec": {
   "display_name": "python311",
   "language": "python",
   "name": "python3"
  },
  "language_info": {
   "codemirror_mode": {
    "name": "ipython",
    "version": 3
   },
   "file_extension": ".py",
   "mimetype": "text/x-python",
   "name": "python",
   "nbconvert_exporter": "python",
   "pygments_lexer": "ipython3",
   "version": "3.11.5"
  },
  "orig_nbformat": 4
 },
 "nbformat": 4,
 "nbformat_minor": 2
}
