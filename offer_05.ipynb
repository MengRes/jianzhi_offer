{
 "cells": [
  {
   "cell_type": "markdown",
   "metadata": {},
   "source": [
    "## 剑指 Offer 05. 替换空格\n",
    "\n",
    "请实现一个函数，把字符串 s 中的每个空格替换成\"%20\"。\n",
    "\n",
    "示例 1：\n",
    "\n",
    "```\n",
    "输入：s = \"We are happy.\"\n",
    "输出：\"We%20are%20happy.\"\n",
    "```\n",
    "\n",
    "限制：\n",
    "\n",
    "0 <= s 的长度 <= 10000"
   ]
  },
  {
   "cell_type": "markdown",
   "metadata": {},
   "source": [
    "### Naive method\n",
    "\n",
    "使用空格分割字符串，然后每个分割的部分用 %20 连接起来。注意最后一个分割的部分尾部不需要再连接 %20。"
   ]
  },
  {
   "cell_type": "code",
   "execution_count": 6,
   "metadata": {},
   "outputs": [],
   "source": [
    "class Solution:\n",
    "    def replaceSpace(self , s: str) -> str:\n",
    "        str_list = s.split(\" \")\n",
    "        output_str = \"\"\n",
    "        for i in range(len(str_list)):\n",
    "            if i < (len(str_list) - 1):\n",
    "                output_str = output_str + str_list[i] + \"%20\"\n",
    "            else:\n",
    "                output_str = output_str + str_list[i]\n",
    "        return output_str"
   ]
  },
  {
   "cell_type": "code",
   "execution_count": 7,
   "metadata": {},
   "outputs": [
    {
     "name": "stdout",
     "output_type": "stream",
     "text": [
      "We%20are%20happy%20\n"
     ]
    }
   ],
   "source": [
    "input_str = \"We are happy \"\n",
    "\n",
    "solution = Solution()\n",
    "output_str = solution.replaceSpace(input_str)\n",
    "print(output_str)"
   ]
  },
  {
   "cell_type": "markdown",
   "metadata": {},
   "source": [
    "不使用 split 函数:"
   ]
  },
  {
   "cell_type": "code",
   "execution_count": 9,
   "metadata": {},
   "outputs": [
    {
     "name": "stdout",
     "output_type": "stream",
     "text": [
      "We%20are%20happy%20\n"
     ]
    }
   ],
   "source": [
    "class Solution:\n",
    "    def replaceSpace(self , s: str) -> str:\n",
    "        output_str = \"\"\n",
    "        for i in str(s):\n",
    "            if i == \" \":\n",
    "                output_str = output_str + \"%20\"\n",
    "            else:\n",
    "                output_str = output_str + i\n",
    "        return output_str\n",
    "    \n",
    "input_str = \"We are happy \"\n",
    "\n",
    "find_solution = Solution()\n",
    "output_str = find_solution.replaceSpace(input_str)\n",
    "print(output_str)"
   ]
  },
  {
   "cell_type": "markdown",
   "metadata": {},
   "source": [
    "遍历字符串中的每个字符，如果不是空格，直接赋值到新的字符串中，否则，赋值 %20 到新的字符串中。"
   ]
  }
 ],
 "metadata": {
  "kernelspec": {
   "display_name": "python311",
   "language": "python",
   "name": "python3"
  },
  "language_info": {
   "codemirror_mode": {
    "name": "ipython",
    "version": 3
   },
   "file_extension": ".py",
   "mimetype": "text/x-python",
   "name": "python",
   "nbconvert_exporter": "python",
   "pygments_lexer": "ipython3",
   "version": "3.11.5"
  },
  "orig_nbformat": 4
 },
 "nbformat": 4,
 "nbformat_minor": 2
}
