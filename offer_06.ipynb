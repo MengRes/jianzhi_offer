{
 "cells": [
  {
   "cell_type": "markdown",
   "metadata": {},
   "source": [
    "### 剑指 Offer 06. 从尾到头打印链表\n",
    "\n",
    "输入一个链表的头节点，按链表从尾到头的顺序返回每个节点的值（用数组返回）。\n",
    "\n",
    "0 <= 链表长度 <= 10000\n",
    "\n",
    "示例：\n",
    "\n",
    "```\n",
    "输入：{1,2,3}\n",
    "返回值：[3,2,1]\n",
    "```"
   ]
  },
  {
   "cell_type": "markdown",
   "metadata": {},
   "source": [
    "#### 方法 1\n",
    "\n",
    "分析：\n",
    "\n",
    "由于链表不能逆序访问，所以先将链表读到的元素加载到列表中，然后逆序读取列表中的元素。\n",
    "\n",
    "复杂度分析：\n",
    "\n",
    "时间复杂度：$O(n)$，遍历链表是一个 $O(n)$，弹空一个栈需要 $O(n)$\n",
    "空间复杂度：$O(n)$，栈空间最大长度是链表的长度 $n$"
   ]
  },
  {
   "cell_type": "code",
   "execution_count": 5,
   "metadata": {},
   "outputs": [],
   "source": [
    "from typing import List\n",
    "\n",
    "class ListNode:\n",
    "    def __init__(self, x):\n",
    "        self.val = x\n",
    "        self.next = None\n",
    "\n",
    "# @param listNode ListNode类 \n",
    "# @return int整型一维数组\n",
    "#\n",
    "class Solution:\n",
    "    def printListFromTailToHead(self , listNode: ListNode) -> List[int]:\n",
    "        # write code here\n",
    "        res = []\n",
    "        output_list = []\n",
    "        while listNode:\n",
    "            res.append(listNode.val)\n",
    "            listNode = listNode.next\n",
    "        for i in range(1, len(res)+1):\n",
    "            output_list.append(res[-i])\n",
    "        return output_list"
   ]
  },
  {
   "cell_type": "markdown",
   "metadata": {},
   "source": [
    "#### 方法 2\n",
    "\n",
    "分析：\n",
    "\n",
    "链表无法逆序访问，无法直接遍历链表得到从尾到头的逆序结果。但是我们都知道递归是到达底层后才会往上回溯，因此我们可以考虑递归遍历链表，因此三段式如下：\n",
    "\n",
    "终止条件： 递归进入链表尾，即节点为空节点时结束递归。\n",
    "返回值： 每次返回子问题之后的全部输出。\n",
    "本级任务： 每级子任务递归地进入下一级，等下一级的子问题输出数组返回时，将自己的节点值添加在数组末尾。\n",
    "\n",
    "复杂度分析：\n",
    "\n",
    "时间复杂度：$O(n)$，其中 $n$ 为链表长度，递归遍历一次链表\n",
    "空间复杂度：$O(n)$，递归栈的最大空间为链表长度"
   ]
  },
  {
   "cell_type": "code",
   "execution_count": 2,
   "metadata": {},
   "outputs": [],
   "source": [
    "from typing import List\n",
    "\n",
    "class ListNode:\n",
    "    def __init__(self, x):\n",
    "        self.val = x\n",
    "        self.next = None\n",
    "\n",
    "# @param listNode ListNode类 \n",
    "# @return int整型一维数组\n",
    "\n",
    "import sys\n",
    "sys.setrecursionlimit(100000)\n",
    "\n",
    "class Solution:\n",
    "    def recursion(self, head: ListNode, res: List[int]):\n",
    "        if head:\n",
    "            # 先往链表深处遍历\n",
    "            self.recursion(head.next, res)\n",
    "            # 再填充到数组就是逆序\n",
    "            res.append(head.val)\n",
    "\n",
    "    def printListFromTailToHead(self , listNode: ListNode) -> List[int]:\n",
    "        # write code here\n",
    "        res = []\n",
    "        self.recursion(listNode, res)\n",
    "        return res"
   ]
  },
  {
   "cell_type": "markdown",
   "metadata": {},
   "source": [
    "sys.setrecursionlimit(limit) 是Python中的一个函数，用于设置递归深度的限制。递归深度是指在递归函数中调用自身的次数，如果递归深度太大，可能会导致栈溢出（Stack Overflow）错误。设置递归深度限制可以帮助防止栈溢出错误。\n",
    "\n",
    "具体来说，sys.setrecursionlimit(limit) 允许将Python解释器的递归深度设置为 limit，其中 limit 是一个整数。请注意，更改递归深度的限制可能会对系统性能产生影响，因此应小心使用。"
   ]
  }
 ],
 "metadata": {
  "kernelspec": {
   "display_name": "python38",
   "language": "python",
   "name": "python3"
  },
  "language_info": {
   "codemirror_mode": {
    "name": "ipython",
    "version": 3
   },
   "file_extension": ".py",
   "mimetype": "text/x-python",
   "name": "python",
   "nbconvert_exporter": "python",
   "pygments_lexer": "ipython3",
   "version": "3.8.17"
  }
 },
 "nbformat": 4,
 "nbformat_minor": 2
}
