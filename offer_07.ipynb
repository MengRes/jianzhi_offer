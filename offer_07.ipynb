{
 "cells": [
  {
   "cell_type": "markdown",
   "metadata": {},
   "source": [
    "## 07. 重建二叉树\n",
    "\n",
    "给定节点数为 n 的二叉树的前序遍历和中序遍历结果，请重建出该二叉树并返回它的头结点。\n",
    "例如输入前序遍历序列 {1,2,4,7,3,5,6,8} 和中序遍历序列 {4,7,2,1,5,3,8,6}，则重建出如下图所示。\n",
    "\n",
    "<center>\n",
    "    <img src = images/07_0.png width = 20%>\n",
    "</center>\n",
    "\n",
    "Leetcode link: [LC.105](https://leetcode.cn/problems/construct-binary-tree-from-preorder-and-inorder-traversal/description/)"
   ]
  },
  {
   "cell_type": "markdown",
   "metadata": {},
   "source": [
    "思路分析\n",
    "\n",
    "1. 前序遍历特点：前序遍历的第一个节点是当前树的根节点。\n",
    "2. 中序遍历特点：在中序遍历中，根节点的左侧是左子树的节点，右侧是右子树的节点。\n",
    "\n",
    "重建方法：\n",
    "1. 从前序遍历中找到根节点。\n",
    "2. 在中序遍历中根据根节点划分左子树和右子树。\n",
    "3. 递归处理左子树和右子树，直到子树为空。\n",
    "\n",
    "时间复杂度:\n",
    "\n",
    "每次递归时需要在中序遍历中查找根节点的位置，时间复杂度为 $O(n)$。总体递归调用次数为 $O(n)$，因此时间复杂度为 $O(n^2)$。使用哈希表优化中序索引查找可以降低到 $O(n)$。\n",
    "\n",
    "空间复杂度: 递归调用栈的空间复杂度为 $O(n)$。"
   ]
  },
  {
   "cell_type": "code",
   "execution_count": 1,
   "metadata": {},
   "outputs": [],
   "source": [
    "from typing import List\n",
    "\n",
    "class TreeNode:\n",
    "    def __init__(self, x):\n",
    "        self.val = x\n",
    "        self.left = None\n",
    "        self.right = None\n",
    "\n",
    "class Solution:\n",
    "    def reConstructBinaryTree(self, preOrder: List[int], vinOrder: List[int]) -> TreeNode:\n",
    "        if not preOrder or not vinOrder:\n",
    "            return None\n",
    "\n",
    "        # 前序遍历的第一个节点是根节点\n",
    "        root_val = preOrder[0]\n",
    "        root = TreeNode(root_val)\n",
    "\n",
    "        # 找到根节点在中序遍历中的位置\n",
    "        root_index_in_inorder = vinOrder.index(root_val)\n",
    "\n",
    "        # 划分左子树和右子树\n",
    "        left_inorder = vinOrder[:root_index_in_inorder]\n",
    "        right_inorder = vinOrder[root_index_in_inorder + 1:]\n",
    "\n",
    "        left_preOrder = preOrder[1:1 + len(left_inorder)]\n",
    "        right_preOrder = preOrder[1 + len(left_inorder):]\n",
    "\n",
    "        # 递归构建左右子树\n",
    "        root.left = Solution().reConstructBinaryTree(left_preOrder, left_inorder)\n",
    "        root.right = Solution().reConstructBinaryTree(right_preOrder, right_inorder)\n",
    "\n",
    "        return root"
   ]
  },
  {
   "cell_type": "code",
   "execution_count": 3,
   "metadata": {},
   "outputs": [
    {
     "name": "stdout",
     "output_type": "stream",
     "text": [
      "3 9 20 15 7 "
     ]
    }
   ],
   "source": [
    "preorder = [3, 9, 20, 15, 7]\n",
    "inorder = [9, 3, 15, 20, 7]\n",
    "\n",
    "solution = Solution()\n",
    "result_tree = solution.reConstructBinaryTree(preorder, inorder)\n",
    "\n",
    "def print_tree(node):\n",
    "    if not node:\n",
    "        return\n",
    "    print(node.val, end=\" \")\n",
    "    print_tree(node.left)\n",
    "    print_tree(node.right)\n",
    "\n",
    "print_tree(result_tree)"
   ]
  }
 ],
 "metadata": {
  "kernelspec": {
   "display_name": "python312",
   "language": "python",
   "name": "python3"
  },
  "language_info": {
   "codemirror_mode": {
    "name": "ipython",
    "version": 3
   },
   "file_extension": ".py",
   "mimetype": "text/x-python",
   "name": "python",
   "nbconvert_exporter": "python",
   "pygments_lexer": "ipython3",
   "version": "3.12.7"
  }
 },
 "nbformat": 4,
 "nbformat_minor": 2
}
