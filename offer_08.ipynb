{
 "cells": [
  {
   "cell_type": "markdown",
   "metadata": {},
   "source": [
    "## 08. 二叉树的下一个结点\n",
    "\n",
    "给定一个二叉树其中的一个结点，请找出中序遍历顺序的下一个结点并且返回。注意，树中的结点不仅包含左右子结点，同时包含指向父结点的 next 指针。"
   ]
  },
  {
   "cell_type": "markdown",
   "metadata": {},
   "source": [
    "我们首先要根据给定输入中的结点指针向父级进行迭代，直到找到该树的根节点；然后根据根节点进行中序遍历，当遍历到和给定树节点相同的节点时，下一个节点就是我们的目标返回节点。\n",
    "\n",
    "具体做法：\n",
    "\n",
    "1. 首先先根据当前给出的结点找到根节点\n",
    "2. 然后根节点调用中序遍历\n",
    "3. 将中序遍历结果存储下来\n",
    "4. 最终拿当前结点匹配是否有符合要求的下一个结点"
   ]
  },
  {
   "cell_type": "code",
   "execution_count": null,
   "metadata": {},
   "outputs": [],
   "source": [
    "class TreeLinkNode:\n",
    "    def __init__(self, x):\n",
    "        self.val = x\n",
    "        self.left = None\n",
    "        self.right = None\n",
    "        self.next = None\n",
    "\n",
    "\n",
    "class Solution:\n",
    "    nodes = []\n",
    "    def GetNext(self, pNode):\n",
    "        # 查找根节点\n",
    "        root = pNode\n",
    "        while root.next:\n",
    "            root = root.next\n",
    "        # 中序遍历打造nodes\n",
    "        self.InOrder(root)\n",
    "        # 匹配节点\n",
    "        for i in range(len(self.nodes) - 1):\n",
    "            cur = self.nodes[i]\n",
    "            if pNode == cur:\n",
    "                return self.nodes[i+1]\n",
    "        return None\n",
    "    # 中序遍历\n",
    "    def InOrder(self, root):\n",
    "        if root == None:\n",
    "            return\n",
    "        self.InOrder(root.left)\n",
    "        self.nodes.append(root)\n",
    "        self.InOrder(root.right)\n"
   ]
  }
 ],
 "metadata": {
  "kernelspec": {
   "display_name": "python312",
   "language": "python",
   "name": "python3"
  },
  "language_info": {
   "name": "python",
   "version": "3.12.7"
  }
 },
 "nbformat": 4,
 "nbformat_minor": 2
}
