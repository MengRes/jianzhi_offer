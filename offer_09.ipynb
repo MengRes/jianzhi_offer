{
 "cells": [
  {
   "cell_type": "markdown",
   "metadata": {},
   "source": [
    "## 09. 用两个栈实现队列\n",
    "\n",
    "用两个栈来实现一个队列，使用 n 个元素来完成 n 次在队列尾部插入整数 (push) 和 n 次在队列头部删除整数 (pop) 的功能。 队列中的元素为 int 类型。保证操作合法，即保证 pop 操作时队列内已有元素。\n",
    "\n",
    "Leetcode link: [LC.232](https://leetcode.cn/problems/implement-queue-using-stacks/description/)"
   ]
  },
  {
   "cell_type": "markdown",
   "metadata": {},
   "source": [
    "用两个栈实现队列的核心思想是：\n",
    "\n",
    "+ 一个栈负责入队（push）操作，称为输入栈（in_stack）。\n",
    "+ 另一个栈负责出队（pop）操作，称为输出栈（out_stack）。\n",
    "+ 当需要从队列头部删除元素时，如果输出栈为空，就将输入栈中的所有元素依次弹出并压入输出栈，从而实现顺序的反转。"
   ]
  },
  {
   "cell_type": "code",
   "execution_count": 1,
   "metadata": {},
   "outputs": [],
   "source": [
    "class Solution:\n",
    "    def __init__(self):\n",
    "        self.stack1 = []\n",
    "        self.stack2 = []\n",
    "    def push(self, node):\n",
    "        # write code here\n",
    "        self.stack1.append(node)\n",
    "    def pop(self):\n",
    "        # return xx\n",
    "        for i in range(len(self.stack1)):\n",
    "            if i > 0:\n",
    "                self.stack2.append(self.stack1[i])\n",
    "            else:\n",
    "                pop_num = self.stack1[0]\n",
    "        self.stack1 = self.stack2\n",
    "        self.stack2 = []\n",
    "        return pop_num\n"
   ]
  },
  {
   "cell_type": "code",
   "execution_count": 2,
   "metadata": {},
   "outputs": [
    {
     "name": "stdout",
     "output_type": "stream",
     "text": [
      "1\n",
      "2\n",
      "3\n",
      "4\n",
      "5\n"
     ]
    }
   ],
   "source": [
    "solution = Solution()\n",
    "queue = solution\n",
    "\n",
    "# 插入元素\n",
    "queue.push(1)\n",
    "queue.push(2)\n",
    "queue.push(3)\n",
    "\n",
    "# 删除元素并打印\n",
    "print(queue.pop())  # 输出 1\n",
    "print(queue.pop())  # 输出 2\n",
    "\n",
    "# 插入更多元素\n",
    "queue.push(4)\n",
    "queue.push(5)\n",
    "\n",
    "# 删除剩余元素并打印\n",
    "print(queue.pop())  # 输出 3\n",
    "print(queue.pop())  # 输出 4\n",
    "print(queue.pop())  # 输出 5"
   ]
  }
 ],
 "metadata": {
  "kernelspec": {
   "display_name": "python312",
   "language": "python",
   "name": "python3"
  },
  "language_info": {
   "codemirror_mode": {
    "name": "ipython",
    "version": 3
   },
   "file_extension": ".py",
   "mimetype": "text/x-python",
   "name": "python",
   "nbconvert_exporter": "python",
   "pygments_lexer": "ipython3",
   "version": "3.12.7"
  }
 },
 "nbformat": 4,
 "nbformat_minor": 2
}
