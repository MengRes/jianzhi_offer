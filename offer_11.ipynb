{
 "cells": [
  {
   "cell_type": "markdown",
   "metadata": {},
   "source": [
    "## 剑指 Offer 11. 旋转数组的最小数字\n",
    "\n",
    "把一个数组最开始的若干个元素搬到数组的末尾，我们称之为数组的旋转。输入一个递增排序的数组的一个旋转，输出旋转数组的最小元素。例如，数组 `[3,4,5,1,2]` 为 `[1,2,3,4,5]` 的一个旋转，该数组的最小值为 1。\n",
    "\n",
    "示例 1：\n",
    "\n",
    "```\n",
    "输入：[3,4,5,1,2]\n",
    "输出：1\n",
    "```\n",
    "\n",
    "示例 2：\n",
    "\n",
    "```\n",
    "输入：[2,2,2,0,1]\n",
    "输出：0\n",
    "```"
   ]
  },
  {
   "cell_type": "code",
   "execution_count": 4,
   "metadata": {},
   "outputs": [
    {
     "name": "stdout",
     "output_type": "stream",
     "text": [
      "1\n"
     ]
    }
   ],
   "source": [
    "class Solution():\n",
    "    def min_num_rotate(self, input_array):\n",
    "        min_num = 0\n",
    "        for i in range(len(input_array) -1):\n",
    "            if input_array[i] > input_array[i+1]:\n",
    "                min_num = input_array[i+1]\n",
    "                break\n",
    "        return min_num\n",
    "    \n",
    "input_array = [3, 4, 5, 1, 2]\n",
    "find_solution = Solution()\n",
    "min_num = find_solution.min_num_rotate(input_array)\n",
    "print(min_num)"
   ]
  },
  {
   "cell_type": "markdown",
   "metadata": {},
   "source": [
    "分析：\n",
    "\n",
    "可以看到输入的数组是两个递增序列，而在最小数字这里，最小数字小于其前面一个数字。设置两个 pivot，如果发现第一个 pivot 比第二个大，则最小数字为第二个 pivot。"
   ]
  }
 ],
 "metadata": {
  "kernelspec": {
   "display_name": "python38",
   "language": "python",
   "name": "python3"
  },
  "language_info": {
   "codemirror_mode": {
    "name": "ipython",
    "version": 3
   },
   "file_extension": ".py",
   "mimetype": "text/x-python",
   "name": "python",
   "nbconvert_exporter": "python",
   "pygments_lexer": "ipython3",
   "version": "3.8.17"
  },
  "orig_nbformat": 4
 },
 "nbformat": 4,
 "nbformat_minor": 2
}
