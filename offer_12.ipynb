{
 "cells": [
  {
   "cell_type": "markdown",
   "metadata": {},
   "source": [
    "## 12. 矩阵中的路径\n",
    "\n",
    "请设计一个函数，用来判断在一个矩阵中是否存在一条包含某字符串所有字符的路径。路径可以从矩阵中的任意一格开始，每一步可以在矩阵中向左、右、上、下移动一格。\n",
    "\n",
    "如果一条路径经过了矩阵的某一格，那么该路径不能再次进入该格子。例如，在下面的3×4的矩阵中包含一条字符串 `bfce` 的路径（路径中的字母用加粗标出）。\n",
    "\n",
    "[[a,**b**,c,e], \n",
    " [s,**f**,**c**,s], \n",
    " [a,d,**e**,e]]\n",
    "\n",
    "但矩阵中不包含字符串 `abfb` 的路径，因为字符串的第一个字符 `b` 占据了矩阵中的第一行第二个格子之后，路径不能再次进入这个格子。\n",
    "\n",
    "示例 1：\n",
    "\n",
    "```\n",
    "输入：board = [[\"A\",\"B\",\"C\",\"E\"],[\"S\",\"F\",\"C\",\"S\"],[\"A\",\"D\",\"E\",\"E\"]], word = \"ABCCED\"\n",
    "输出：true\n",
    "```\n",
    "\n",
    "示例 2：\n",
    "\n",
    "```\n",
    "输入：board = [[\"a\",\"b\"],[\"c\",\"d\"]], word = \"abcd\"\n",
    "输出：false\n",
    "```\n",
    "\n",
    "提示：\n",
    "\n",
    "1 <= board.length <= 200\n",
    "1 <= board[i].length <= 200\n",
    "\n",
    "Leetcode link: [LC.79](https://leetcode.cn/problems/word-search/description/)"
   ]
  },
  {
   "cell_type": "code",
   "execution_count": 1,
   "metadata": {},
   "outputs": [],
   "source": [
    "from typing import List\n",
    "\n",
    "class Solution:\n",
    "    def hasPath(self , matrix: List[List[str]], word: str) -> bool:\n",
    "        # write code here\n",
    "        if len(matrix) == 0 or len(matrix[0]) == 0:\n",
    "            return False\n",
    "        for i in range(len(matrix)):\n",
    "            for j in range(len(matrix[0])):\n",
    "                if matrix[i][j] == word[0] and self.dfs(matrix, i, j, word, 0):\n",
    "                    return True\n",
    "        return False\n",
    "\n",
    "    def dfs(self, matrix, i, j, word, idx):\n",
    "        if i < 0 or i >= len(matrix) or j < 0 or j >= len(matrix[0]):\n",
    "            return False \n",
    "        if matrix[i][j] != word[idx]:\n",
    "            return False\n",
    "        if idx == len(word)-1:\n",
    "            return True\n",
    "        tmp = matrix[i][j]\n",
    "        matrix[i][j] = '#'\n",
    "        if self.dfs(matrix, i+1, j, word, idx+1) or \\\n",
    "        self.dfs(matrix, i-1, j, word, idx+1) or \\\n",
    "        self.dfs(matrix, i, j+1, word, idx+1) or \\\n",
    "        self.dfs(matrix, i, j-1, word, idx+1):\n",
    "            return True\n",
    "        matrix[i][j] = tmp\n",
    "        return False\n"
   ]
  }
 ],
 "metadata": {
  "kernelspec": {
   "display_name": "python312",
   "language": "python",
   "name": "python3"
  },
  "language_info": {
   "codemirror_mode": {
    "name": "ipython",
    "version": 3
   },
   "file_extension": ".py",
   "mimetype": "text/x-python",
   "name": "python",
   "nbconvert_exporter": "python",
   "pygments_lexer": "ipython3",
   "version": "3.12.7"
  },
  "orig_nbformat": 4
 },
 "nbformat": 4,
 "nbformat_minor": 2
}
