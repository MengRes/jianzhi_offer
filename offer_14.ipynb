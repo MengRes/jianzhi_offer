{
 "cells": [
  {
   "cell_type": "markdown",
   "metadata": {},
   "source": [
    "## 14. 剪绳子\n",
    "\n",
    "给你一根长度为 n 的绳子，请把绳子剪成整数长的 m 段（ m，n 都是整数，n > 1 并且 m > 1 ，m <= n ），每段绳子的长度记为 k[1],...,k[m] 。请问 k[1] * k[2] * ... * k[m] 可能的最大乘积是多少？例如，当绳子的长度是 8 时，我们把它剪成长度分别为 2、3、3 的三段，此时得到的最大乘积是 18 。"
   ]
  },
  {
   "cell_type": "markdown",
   "metadata": {},
   "source": [
    "方法一\n",
    "\n",
    "一旦分出一段长度为1的小段，只会减少总长度，还不能增加乘积，因此长度为2的绳子不分比分开的乘积大，长度为3的绳子不分比分开的乘积大，长度为4的绳子分成2*2比较大。前面的我们都可以通过这样递推得到，后面的呢？\n",
    "\n",
    "同样递推！如果我有一个长度为 n 的绳子，我们要怎么确定其分出最大的乘积，我们可以尝试其中一段不可分的为 j，那么如果另一段 n−j 最大乘积已知，我们可以遍历所有 j 找到这个最大乘积。因此用 dp[i] 表示长度为 i 的绳子可以被剪出来的最大乘积，那么后续遍历每个 j 的时候，我们取最大 dp[i]=max(dp[i],j∗dp[i−j]) 就好了。\n",
    "\n",
    "具体做法：\n",
    "\n",
    "1. 检查当 number 不超过3的时候直接计算。\n",
    "2. 用 dp 数组表示长度为 i 的绳子可以被剪出来的最大乘积，初始化前面 4 个容易推断的。\n",
    "3. 遍历每个长度，对于每个长度的最大乘积，可以遍历从 1 到 i 的每个固定一段，按照上述公式求的最大值。\n",
    "4. 最后数组最后一位就是答案。"
   ]
  },
  {
   "cell_type": "code",
   "execution_count": null,
   "metadata": {},
   "outputs": [],
   "source": [
    "class Solution:\n",
    "    def cutRope(self , number: int) -> int:\n",
    "        #不超过3直接计算\n",
    "        if number <= 3:\n",
    "            return number - 1\n",
    "        #dp[i]表示长度为i的绳子可以被剪出来的最大乘积\n",
    "        dp = [0 for i in range(number + 1)]\n",
    "        dp[1] = 1\n",
    "        dp[2] = 2\n",
    "        dp[3] = 3\n",
    "        dp[4] = 4\n",
    "        #遍历后续每一个长度\n",
    "        for i in range(5, number + 1):\n",
    "            #可以被分成各种长度的两份\n",
    "            for j in range(1, i):\n",
    "                #取最大值\n",
    "                dp[i] = max(dp[i], j * dp[i - j])\n",
    "        return dp[number]"
   ]
  },
  {
   "cell_type": "markdown",
   "metadata": {},
   "source": [
    "方法二\n",
    "\n",
    "使用贪心思想，不断将绳子分成每段长度为3即可，不足3的可以考虑，如果最后剩余的是2，直接乘上，如果最后剩余的是1，则取出一个3组成4分成长度为2的两段，因为 $2 * 2 > 1 * 3$。"
   ]
  },
  {
   "cell_type": "code",
   "execution_count": null,
   "metadata": {},
   "outputs": [],
   "source": [
    "class Solution:\n",
    "    def cutRope(self , number: int) -> int:\n",
    "        #不超过3直接计算\n",
    "        if number <= 3: \n",
    "            return number - 1\n",
    "        res = 1\n",
    "        while number > 4:\n",
    "            #连续乘3\n",
    "            res *= 3 \n",
    "            number -= 3 \n",
    "        return res * number\n"
   ]
  }
 ],
 "metadata": {
  "language_info": {
   "name": "python"
  }
 },
 "nbformat": 4,
 "nbformat_minor": 2
}
