{
 "cells": [
  {
   "cell_type": "markdown",
   "metadata": {},
   "source": [
    "## 15. 二进制中 1 的个数\n",
    "\n",
    "输入一个整数 n ，输出该数 32 位二进制表示中 1 的个数。其中负数用补码表示。\n",
    "\n",
    "Leetcode link: [LC.191](https://leetcode.cn/problems/number-of-1-bits/description/)"
   ]
  },
  {
   "cell_type": "markdown",
   "metadata": {},
   "source": [
    "方法一：\n",
    "\n",
    "n & 0xFFFFFFFF 将负数转换为补码形式。通过位操作逐位检查是否为 1，直到所有位都被处理。"
   ]
  },
  {
   "cell_type": "code",
   "execution_count": 1,
   "metadata": {},
   "outputs": [],
   "source": [
    "class Solution:\n",
    "    def NumberOf1(self , n: int) -> int:\n",
    "        # write code here\n",
    "        count = 0\n",
    "        num = n & 0xFFFFFFFF  # 将 n 限制为 32 位整数\n",
    "        while num:\n",
    "            count += num & 1  # 检查最低位是否为 1\n",
    "            num >>= 1         # 右移一位\n",
    "        return count"
   ]
  },
  {
   "cell_type": "code",
   "execution_count": 2,
   "metadata": {},
   "outputs": [
    {
     "name": "stdout",
     "output_type": "stream",
     "text": [
      "3\n"
     ]
    }
   ],
   "source": [
    "solution = Solution()\n",
    "n = 11\n",
    "result = solution.NumberOf1(n)\n",
    "print(result)"
   ]
  }
 ],
 "metadata": {
  "kernelspec": {
   "display_name": "python312",
   "language": "python",
   "name": "python3"
  },
  "language_info": {
   "codemirror_mode": {
    "name": "ipython",
    "version": 3
   },
   "file_extension": ".py",
   "mimetype": "text/x-python",
   "name": "python",
   "nbconvert_exporter": "python",
   "pygments_lexer": "ipython3",
   "version": "3.12.7"
  }
 },
 "nbformat": 4,
 "nbformat_minor": 2
}
