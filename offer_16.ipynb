{
 "cells": [
  {
   "cell_type": "markdown",
   "metadata": {},
   "source": [
    "## 16. 数值的整数次方\n",
    "\n",
    "实现函数 double Power(double base, int exponent)，求base的exponent次方。\n",
    "\n",
    "注意：\n",
    "1. 保证 base 和 exponent 不同时为 0\n",
    "2. 不得使用库函数，同时不需要考虑大数问题\n",
    "3. 有特殊判题，不用考虑小数点后面 0 的位数。"
   ]
  },
  {
   "cell_type": "code",
   "execution_count": 1,
   "metadata": {},
   "outputs": [],
   "source": [
    "class Solution:\n",
    "    def Power(self , base: float, exponent: int) -> float:\n",
    "        # write code here\n",
    "        #处理负数次方\n",
    "        if exponent < 0:\n",
    "            base = 1 / base\n",
    "            exponent = -exponent\n",
    "        res = 1.0\n",
    "        #累乘\n",
    "        for i in range(exponent):\n",
    "            res *= base\n",
    "        return res"
   ]
  },
  {
   "cell_type": "code",
   "execution_count": 2,
   "metadata": {},
   "outputs": [
    {
     "name": "stdout",
     "output_type": "stream",
     "text": [
      "9.261000000000001\n"
     ]
    }
   ],
   "source": [
    "solution = Solution()\n",
    "base = 2.10000\n",
    "exponent = 3\n",
    "result = solution.Power(base, exponent)\n",
    "print(result)"
   ]
  }
 ],
 "metadata": {
  "kernelspec": {
   "display_name": "python311",
   "language": "python",
   "name": "python3"
  },
  "language_info": {
   "codemirror_mode": {
    "name": "ipython",
    "version": 3
   },
   "file_extension": ".py",
   "mimetype": "text/x-python",
   "name": "python",
   "nbconvert_exporter": "python",
   "pygments_lexer": "ipython3",
   "version": "3.11.5"
  }
 },
 "nbformat": 4,
 "nbformat_minor": 2
}
