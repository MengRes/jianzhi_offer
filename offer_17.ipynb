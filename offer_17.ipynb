{
 "cells": [
  {
   "cell_type": "markdown",
   "metadata": {},
   "source": [
    "## 17. 打印从1到最大的n位数\n",
    "\n",
    "输入数字 n，按顺序打印出从 1 到最大的 n 位十进制数。比如输入 3，则打印出 1、2、3 一直到最大的 3 位数 999。  \n",
    "\n",
    "1. 用返回一个整数列表来代替打印\n",
    "2. n 为正整数，0 < n <= 5\n",
    "\n",
    "输入：1  \n",
    "返回值：[1,2,3,4,5,6,7,8,9]"
   ]
  },
  {
   "cell_type": "code",
   "execution_count": 1,
   "metadata": {},
   "outputs": [
    {
     "name": "stdout",
     "output_type": "stream",
     "text": [
      "[1, 2, 3, 4, 5, 6, 7, 8, 9]\n"
     ]
    }
   ],
   "source": [
    "from typing import List\n",
    "\n",
    "class Solution:\n",
    "    def printNumbers(self , n: int) -> List[int]:\n",
    "        result = []\n",
    "        max = 10 ** n\n",
    "        for i in range(1, max):\n",
    "            result.append(i)\n",
    "        return result\n",
    "\n",
    "\n",
    "solution = Solution()\n",
    "n = 1\n",
    "result = solution.printNumbers(n)\n",
    "print(result)"
   ]
  }
 ],
 "metadata": {
  "kernelspec": {
   "display_name": "python312",
   "language": "python",
   "name": "python3"
  },
  "language_info": {
   "codemirror_mode": {
    "name": "ipython",
    "version": 3
   },
   "file_extension": ".py",
   "mimetype": "text/x-python",
   "name": "python",
   "nbconvert_exporter": "python",
   "pygments_lexer": "ipython3",
   "version": "3.12.7"
  }
 },
 "nbformat": 4,
 "nbformat_minor": 2
}
