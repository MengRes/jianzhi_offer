{
 "cells": [
  {
   "cell_type": "markdown",
   "metadata": {},
   "source": [
    "## 18. 删除链表的节点\n",
    "\n",
    "给定单向链表的头指针和一个要删除的节点的值，定义一个函数删除该节点。返回删除后的链表的头节点。\n",
    "\n",
    "1. 题目保证链表中节点的值互不相同\n",
    "2. 该题只会输出返回的链表和结果做对比\n",
    "\n",
    "数据范围: 0<=链表节点值<=10000，0<=链表长度<=10000"
   ]
  },
  {
   "cell_type": "markdown",
   "metadata": {},
   "source": [
    "方法\n",
    "\n",
    "既然是整个链表元素都不相同，我们要删除给定的一个元素，那我们首先肯定要找到这个元素，然后考虑删除它。\n",
    "\n",
    "删除一个链表节点，肯定是断掉它的前一个节点指向它的指针，然后指向它的后一个节点，即越过了需要删除的这个节点。\n",
    "\n",
    "具体做法：\n",
    "\n",
    "1. 首先我们加入一个头部节点，方便于如果可能的话删除掉第一个元素。\n",
    "2. 准备两个指针遍历链表，一个指针指向当前要遍历的元素，另一个指针指向该元素的前序节点，便于获取它的指针。\n",
    "3. 遍历链表，找到目标节点，则断开连接，指向后一个。\n",
    "4. 返回时去掉我们加入的头节点。"
   ]
  },
  {
   "cell_type": "code",
   "execution_count": null,
   "metadata": {},
   "outputs": [],
   "source": [
    "class ListNode:\n",
    "    def __init__(self, x):\n",
    "        self.val = x\n",
    "        self.next = None\n",
    "\n",
    "class Solution:\n",
    "    def deleteNode(self , head: ListNode, val: int) -> ListNode:\n",
    "        #加入一个头节点\n",
    "        res = ListNode(0)\n",
    "        res.next = head\n",
    "        #前序节点\n",
    "        pre = res\n",
    "        #当前节点\n",
    "        cur = head\n",
    "        #遍历链表\n",
    "        while cur is not None:\n",
    "            #找到目标节点\n",
    "            if cur.val == val:\n",
    "                #断开连接\n",
    "                pre.next = cur.next\n",
    "                break\n",
    "            pre = cur\n",
    "            cur = cur.next\n",
    "        #返回去掉头节点\n",
    "        return res.next\n"
   ]
  }
 ],
 "metadata": {
  "language_info": {
   "name": "python"
  }
 },
 "nbformat": 4,
 "nbformat_minor": 2
}
