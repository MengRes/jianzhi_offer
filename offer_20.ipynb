{
 "cells": [
  {
   "cell_type": "markdown",
   "metadata": {},
   "source": [
    "## 20. 表示数值的字符串\n",
    "\n",
    "请实现一个函数用来判断字符串str是否表示数值（包括科学计数法的数字，小数和整数）。\n",
    "\n",
    "科学计数法的数字(按顺序）可以分成以下几个部分:\n",
    "1. 若干空格\n",
    "2. 一个整数或者小数\n",
    "3. （可选）一个 'e' 或 'E' ，后面跟着一个整数(可正可负)\n",
    "4. 若干空格\n",
    "\n",
    "小数（按顺序）可以分成以下几个部分：\n",
    "1. 若干空格\n",
    "2. （可选）一个符号字符（'+' 或 '-'）\n",
    "3. 可能是以下描述格式之一:\n",
    "    + 至少一位数字，后面跟着一个点 '.'\n",
    "    + 至少一位数字，后面跟着一个点 '.' ，后面再跟着至少一位数字\n",
    "    + 一个点 '.' ，后面跟着至少一位数字\n",
    "4. 若干空格\n",
    "\n",
    "整数（按顺序）可以分成以下几个部分：\n",
    "1. 若干空格\n",
    "2. （可选）一个符号字符（'+' 或 '-')\n",
    "3. 至少一位数字\n",
    "4. 若干空格\n",
    "\n",
    "例如，字符串[\"+100\",\"5e2\",\"-123\",\"3.1416\",\"-1E-16\"]都表示数值。\n",
    "但是[\"12e\",\"1a3.14\",\"1.2.3\",\"+-5\",\"12e+4.3\"]都不是数值。"
   ]
  },
  {
   "cell_type": "markdown",
   "metadata": {},
   "source": [
    "判断一个字符串是否表示数值的实现，可以分为几个步骤：解析整数、小数和科学计数法的规则，同时跳过空格。"
   ]
  },
  {
   "cell_type": "code",
   "execution_count": null,
   "metadata": {},
   "outputs": [],
   "source": [
    "class Solution:\n",
    "    def isNumeric(self, str):\n",
    "        def scan_integer(index):\n",
    "            # 扫描整数部分，返回扫描结束后的索引\n",
    "            if index < len(s) and (s[index] == '+' or s[index] == '-'):\n",
    "                index += 1  # 跳过符号\n",
    "            return scan_unsigned_integer(index)\n",
    "\n",
    "        def scan_unsigned_integer(index):\n",
    "            # 扫描无符号整数部分，返回扫描结束后的索引\n",
    "            start = index\n",
    "            while index < len(s) and s[index].isdigit():\n",
    "                index += 1\n",
    "            return index > start, index\n",
    "\n",
    "        s = str.strip()  # 去掉首尾空格\n",
    "        if not s:\n",
    "            return False\n",
    "\n",
    "        index = 0\n",
    "\n",
    "        # 检查整数或小数部分\n",
    "        is_numeric, index = scan_integer(index)\n",
    "        if index < len(s) and s[index] == '.':  # 小数点\n",
    "            index += 1\n",
    "            # 检查小数点后数字\n",
    "            has_fraction, index = scan_unsigned_integer(index)\n",
    "            is_numeric = is_numeric or has_fraction  # 小数点前后有数字即可\n",
    "\n",
    "        # 检查科学计数法\n",
    "        if index < len(s) and (s[index] == 'e' or s[index] == 'E'):\n",
    "            index += 1\n",
    "            has_exponent, index = scan_integer(index)  # 'e' 后必须有整数\n",
    "            is_numeric = is_numeric and has_exponent\n",
    "\n",
    "        # 检查是否到字符串末尾\n",
    "        return is_numeric and index == len(s)"
   ]
  }
 ],
 "metadata": {
  "kernelspec": {
   "display_name": "python312",
   "language": "python",
   "name": "python3"
  },
  "language_info": {
   "name": "python",
   "version": "3.12.7"
  }
 },
 "nbformat": 4,
 "nbformat_minor": 2
}
