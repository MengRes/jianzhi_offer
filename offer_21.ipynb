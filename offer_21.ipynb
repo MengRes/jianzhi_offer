{
 "cells": [
  {
   "cell_type": "markdown",
   "metadata": {},
   "source": [
    "## 21. 调整数组顺序使奇数位于偶数前面（一）\n",
    "\n",
    "输入一个长度为 n 整数数组，实现一个函数来调整该数组中数字的顺序，使得所有的奇数位于数组的前面部分，所有的偶数位于数组的后面部分，并保证奇数和奇数，偶数和偶数之间的相对位置不变。\n",
    "\n",
    "\n",
    "数据范围：$0≤n≤5000$，数组中每个数的值 $0≤val≤10000$  \n",
    "要求：时间复杂度 $O(n)$，空间复杂度 $O(n)$  \n",
    "进阶：时间复杂度 $O(n^2)$, 空间复杂度 $O(1)$\n"
   ]
  },
  {
   "cell_type": "code",
   "execution_count": null,
   "metadata": {},
   "outputs": [],
   "source": [
    "class Solution:\n",
    "    def reOrderArray(self , array: List[int]) -> List[int]:\n",
    "        # write code here\n",
    "        odd_list = []\n",
    "        even_list = []\n",
    "        for i in range(len(array)):\n",
    "            if array[i] % 2 == 1:\n",
    "                odd_list.append(array[i])\n",
    "            else:\n",
    "                even_list.append(array[i])\n",
    "        output_list = odd_list + even_list\n",
    "        return output_list"
   ]
  },
  {
   "cell_type": "markdown",
   "metadata": {},
   "source": [
    "双指针指的是在遍历对象的过程中，不是普通的使用单个指针进行访问，而是使用两个指针（特殊情况甚至可以多个），两个指针或是同方向访问两个链表、或是同方向访问一个链表（快慢指针）、或是相反方向扫描（对撞指针），从而达到我们需要的目的。\n",
    "\n",
    "思路：\n",
    "\n",
    "既然要把所有的奇数放在数组前面，所有的偶数放在数组后面，那可以统计奇数在原数组中出现了多少次，这样就可以找到二者的分界线。\n",
    "\n",
    "有了分界线以后，前面就是奇数，后面就是偶数，可以利用两个指针分别指向二者的开头，遇到一个元素就添加到相应位置，然后指针移动。\n",
    "\n",
    "具体做法：\n",
    "\n",
    "1. 遍历数组，统计奇数出现的次数，即找到了偶数开始的位置。\n",
    "2. 准备一个和原数组同样长的新数组承接输出，准备双指针，x指向奇数开始的位置，y指向偶数开始的位置。\n",
    "3. 遍历原数组，遇到奇数添加在指针x后面，遇到偶数添加在指针y后面，直到遍历结束。"
   ]
  },
  {
   "cell_type": "code",
   "execution_count": null,
   "metadata": {},
   "outputs": [],
   "source": [
    "from typing import List\n",
    "\n",
    "class Solution:\n",
    "    def reOrderArray(self , array: List[int]) -> List[int]:\n",
    "        n = len(array)\n",
    "        res = [0 for i in range(n)]\n",
    "        #统计奇数个数\n",
    "        odd = 0 \n",
    "        #遍历统计\n",
    "        for a in array:\n",
    "            if a % 2:\n",
    "                odd += 1\n",
    "        #x与y分别表示答案中奇偶数的坐标\n",
    "        x = 0\n",
    "        y = odd\n",
    "        for i in range(n):\n",
    "            #奇数在前\n",
    "            if array[i] % 2: \n",
    "                res[x] = array[i]\n",
    "                x += 1\n",
    "            #偶数在后\n",
    "            else: \n",
    "                res[y] = array[i]\n",
    "                y += 1\n",
    "        return res\n"
   ]
  }
 ],
 "metadata": {
  "language_info": {
   "name": "python"
  }
 },
 "nbformat": 4,
 "nbformat_minor": 2
}
