{
 "cells": [
  {
   "cell_type": "markdown",
   "metadata": {},
   "source": [
    "## 22. 链表中倒数第k个节点\n",
    "\n",
    "输入一个长度为 n 的链表，设链表中的元素的值为 $a_i$，返回该链表中倒数第k个节点。\n",
    "如果该链表长度小于k，请返回一个长度为 0 的链表。\n",
    "\n",
    "\n",
    "数据范围：$0≤n≤10^5$, $0≤a_i≤10^9$, $0≤k≤10^9$\n",
    "\n",
    "要求：空间复杂度 $O(n)$，时间复杂度 $O(n)$。\n",
    "进阶：空间复杂度 $O(1)$，时间复杂度 $O(n)$。"
   ]
  },
  {
   "cell_type": "markdown",
   "metadata": {},
   "source": [
    "方法一：先找长度再找最后k\n",
    "\n",
    "链表不能逆向遍历，也不能直接访问。但是对于倒数第 k 个位置，我们只需要知道是正数多少位还是可以直接遍历得到的。\n",
    "\n",
    "具体做法：\n",
    "\n",
    "1. 可以先遍历一次链表找到链表的长度。\n",
    "2. 然后比较链表长度是否比 k 小，如果比 k 小返回一个空节点。\n",
    "3. 如果链表足够长，则我们从头节点往后遍历 n−k 次即可找到所求。"
   ]
  },
  {
   "cell_type": "code",
   "execution_count": null,
   "metadata": {},
   "outputs": [],
   "source": [
    "class ListNode:\n",
    "    def __init__(self, x):\n",
    "        self.val = x\n",
    "        self.next = None\n",
    "\n",
    "class Solution:\n",
    "    def FindKthToTail(self , pHead: ListNode, k: int) -> ListNode:\n",
    "        # write code here\n",
    "        length = 0\n",
    "        pivot = pHead\n",
    "        while pivot is not None:\n",
    "            length += 1\n",
    "            pivot = pivot.next\n",
    "        if length < k:\n",
    "            return None\n",
    "        pivot = pHead\n",
    "        for i in range(length - k):\n",
    "            pivot = pivot.next\n",
    "        return pivot"
   ]
  }
 ],
 "metadata": {
  "language_info": {
   "name": "python"
  }
 },
 "nbformat": 4,
 "nbformat_minor": 2
}
