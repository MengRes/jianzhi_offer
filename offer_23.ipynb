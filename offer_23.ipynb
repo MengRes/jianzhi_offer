{
 "cells": [
  {
   "cell_type": "markdown",
   "metadata": {},
   "source": [
    "## 剑指offer 23 链表中环的入口节点\n",
    "\n",
    "给一个长度为n链表，若其中包含环，请找出该链表的环的入口结点，否则，返回null。\n",
    "\n",
    "数据范围：$n≤10000$，$1<=结点值<=10000$\n",
    "\n",
    "要求：空间复杂度 $O(1)$，时间复杂度 $O(n)$\n",
    "\n",
    "例如，输入{1,2},{3,4,5}时，对应的环形链表如下图所示：\n",
    "\n",
    "<center>\n",
    "    <img src = https://uploadfiles.nowcoder.com/images/20211025/423483716_1635154005498/DA92C945EF643F1143567935F20D6B46 width=80%>\n",
    "</center>\n",
    "\n",
    "可以看到环的入口结点的结点值为3，所以返回结点值为3的结点。"
   ]
  },
  {
   "cell_type": "markdown",
   "metadata": {},
   "source": [
    "首先这题要我们找链表的环入口结点，最常规易懂的解法就是遍历整个链表结点，然后用哈希表来存储已访问过的结点，最后进行对比。 若该结点已存在哈希表中，则代表该结点是我们要找的环形链表的入口结点；否则把结点添加到哈希表中，继续往下遍历。\n",
    "\n",
    "时间复杂度：O(n) (因为最糟糕的情况就是遍历了整个链表，n 代表链表中的结点数）\n",
    "空间复杂度：O(n) (最糟糕的情况是把整个链表的结点插入哈希表中）"
   ]
  },
  {
   "cell_type": "code",
   "execution_count": 1,
   "metadata": {},
   "outputs": [],
   "source": [
    "class Solution:\n",
    "    def EntryNodeOfLoop(self, pHead):\n",
    "        # write code here\n",
    "        if pHead is None:\n",
    "            return None\n",
    "        pivot = pHead\n",
    "        val_list = []\n",
    "        while pivot:\n",
    "            if pivot.val in val_list:\n",
    "                return pivot\n",
    "            else:\n",
    "                val_list.append(pivot.val)\n",
    "                pivot = pivot.next"
   ]
  }
 ],
 "metadata": {
  "kernelspec": {
   "display_name": "python311",
   "language": "python",
   "name": "python3"
  },
  "language_info": {
   "codemirror_mode": {
    "name": "ipython",
    "version": 3
   },
   "file_extension": ".py",
   "mimetype": "text/x-python",
   "name": "python",
   "nbconvert_exporter": "python",
   "pygments_lexer": "ipython3",
   "version": "3.11.5"
  }
 },
 "nbformat": 4,
 "nbformat_minor": 2
}
