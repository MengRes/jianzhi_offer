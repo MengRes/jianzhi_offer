{
 "cells": [
  {
   "cell_type": "markdown",
   "metadata": {},
   "source": [
    "## 24. 反转链表\n",
    "\n",
    "给定一个单链表的头结点 pHead (该头节点是有值的)，长度为 n，反转该链表后，返回新链表的表头。\n",
    "\n",
    "数据范围： $0≤n≤1000$\n",
    "要求：空间复杂度 $O(1)$ ，时间复杂度 $O(n)$。\n",
    "\n",
    "如当输入链表{1,2,3}时，经反转后，原链表变为{3,2,1}，所以对应的输出为{3,2,1}。"
   ]
  },
  {
   "cell_type": "code",
   "execution_count": 1,
   "metadata": {},
   "outputs": [],
   "source": [
    "class ListNode:\n",
    "    def __init__(self, x):\n",
    "        self.val = x\n",
    "        self.next = None"
   ]
  },
  {
   "cell_type": "markdown",
   "metadata": {},
   "source": [
    "方法一：迭代（推荐使用）\n",
    "\n",
    "思路：\n",
    "\n",
    "将链表反转，就是将每个表元的指针从向后变成向前，那我们可以遍历原始链表，将遇到的节点一一指针逆向即可。指针怎么逆向？不过就是断掉当前节点向后的指针，改为向前罢了。\n",
    "\n",
    "1. temp 为当前节点的下一节点\n",
    "2. 当前节点的下一节点指向前驱节点\n",
    "3. 更新前驱节点为当前节点\n",
    "4. 更新当前节点为下一节点\n",
    "\n",
    "时间复杂度：$O(n)$，遍历链表一次，一次循环。空间复杂度：$O(1)$，常数级变量，无额外辅助空间使用"
   ]
  },
  {
   "cell_type": "code",
   "execution_count": 2,
   "metadata": {},
   "outputs": [],
   "source": [
    "class Solution:\n",
    "    def ReverseList(self, head: ListNode) -> ListNode:\n",
    "        if head is None:\n",
    "            return None\n",
    "        \n",
    "        pivot = head\n",
    "        prev = None\n",
    "        while pivot:\n",
    "            temp = pivot.next\n",
    "            pivot.next = prev\n",
    "            prev = pivot\n",
    "            pivot = temp\n",
    "        return prev"
   ]
  }
 ],
 "metadata": {
  "kernelspec": {
   "display_name": "python311",
   "language": "python",
   "name": "python3"
  },
  "language_info": {
   "codemirror_mode": {
    "name": "ipython",
    "version": 3
   },
   "file_extension": ".py",
   "mimetype": "text/x-python",
   "name": "python",
   "nbconvert_exporter": "python",
   "pygments_lexer": "ipython3",
   "version": "3.11.5"
  }
 },
 "nbformat": 4,
 "nbformat_minor": 2
}
