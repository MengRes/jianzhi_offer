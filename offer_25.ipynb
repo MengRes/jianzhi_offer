{
 "cells": [
  {
   "cell_type": "markdown",
   "metadata": {},
   "source": [
    "## 剑指 Offer 25. 合并两个排序的链表\n",
    "\n",
    "输入两个递增的链表，单个链表的长度为n，合并这两个链表并使新链表中的节点仍然是递增排序的。\n",
    "\n",
    "数据范围： $0≤n≤1000$，节点值 $−1000≤节点值≤1000$\n",
    "要求：空间复杂度 $O(1)$，时间复杂度 $O(n)$\n",
    "\n",
    "<center>\n",
    "    <img src = https://uploadfiles.nowcoder.com/images/20211014/423483716_1634208575589/09DD8C2662B96CE14928333F055C5580 width=80%>\n",
    "</center>"
   ]
  },
  {
   "cell_type": "code",
   "execution_count": 1,
   "metadata": {},
   "outputs": [],
   "source": [
    "class ListNode:\n",
    "    def __init__(self, x):\n",
    "        self.val = x\n",
    "        self.next = None"
   ]
  },
  {
   "cell_type": "markdown",
   "metadata": {},
   "source": [
    "方法一：双指针迭代（推荐使用）\n",
    "知识点：双指针\n",
    "\n",
    "双指针指的是在遍历对象的过程中，不是普通的使用单个指针进行访问，而是使用两个指针（特殊情况甚至可以多个），两个指针或是同方向访问两个链表、或是同方向访问一个链表（快慢指针）、或是相反方向扫描（对撞指针），从而达到我们需要的目的。\n",
    "\n",
    "思路：\n",
    "\n",
    "这道题既然两个链表已经是排好序的，都是从小到大的顺序，那我们要将其组合，可以使用归并排序的思想：每次比较两个头部，从中取出最小的元素，然后依次往后。这样两个链表依次往后，我们肯定需要两个指针同方向访问才能实现。\n",
    "\n",
    "具体过程：\n",
    "\n",
    "1. 判断空链表的情况，只要有一个链表为空，那答案必定就是另一个链表了，就算另一个链表也为空。\n",
    "2. 新建一个空的表头后面连接两个链表排序后的节点，两个指针分别指向两链表头。\n",
    "3. 遍历两个链表都不为空的情况，取较小值添加在新的链表后面，每次只把被添加的链表的指针后移。\n",
    "4. 遍历到最后肯定有一个链表还有剩余的节点，它们的值将大于前面所有的，直接连在新的链表后面即可。\n",
    "\n",
    "\n",
    "时间复杂度：$O(n)$，最坏情况遍历两个链表共 $2∗n$ 个节点。\n",
    "\n",
    "空间复杂度：$O(1)$，无额外辅助空间使用，返回链表使用的是原有节点组装，未开辟空间"
   ]
  },
  {
   "cell_type": "code",
   "execution_count": 2,
   "metadata": {},
   "outputs": [],
   "source": [
    "class Solution:\n",
    "    def Merge(self, pHead1: ListNode, pHead2: ListNode) -> ListNode:\n",
    "        if pHead1 is None:\n",
    "            return pHead2\n",
    "        elif pHead2 is None:\n",
    "            return pHead1\n",
    "        \n",
    "        head = ListNode(0)\n",
    "        current = head\n",
    "        while pHead1 and pHead2:\n",
    "            if pHead1.val < pHead2.val:\n",
    "                current.next = pHead1\n",
    "                pHead1 = pHead1.next\n",
    "            else:\n",
    "                current.next = pHead2\n",
    "                pHead2 = pHead2.next\n",
    "            current = current.next\n",
    "        if pHead1:\n",
    "            current.next = pHead1\n",
    "        elif pHead2:\n",
    "            current.next = pHead2\n",
    "        return head.next"
   ]
  }
 ],
 "metadata": {
  "kernelspec": {
   "display_name": "python311",
   "language": "python",
   "name": "python3"
  },
  "language_info": {
   "codemirror_mode": {
    "name": "ipython",
    "version": 3
   },
   "file_extension": ".py",
   "mimetype": "text/x-python",
   "name": "python",
   "nbconvert_exporter": "python",
   "pygments_lexer": "ipython3",
   "version": "3.11.5"
  }
 },
 "nbformat": 4,
 "nbformat_minor": 2
}
