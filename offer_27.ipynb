{
 "cells": [
  {
   "cell_type": "markdown",
   "metadata": {},
   "source": [
    "## 27. 二叉树的镜像\n",
    "\n",
    "操作给定的二叉树，将其变换为源二叉树的镜像。\n",
    "数据范围：二叉树的节点数 $0≤n≤1000$， 二叉树每个节点的值 $0≤val≤1000$\n",
    "要求： 空间复杂度 $O(n)$。本题也有原地操作，即空间复杂度 $O(1)$ 的解法，时间复杂度 $O(n)$。\n",
    "\n",
    "\n",
    "例子：\n",
    "源二叉树\n",
    "\n",
    "<center>\n",
    "    <img src = images/27_0.png width = 40%>\n",
    "</center>\n",
    "\n",
    "镜像二叉树\n",
    "\n",
    "<center>\n",
    "    <img src = images/27_1.png width = 40%>\n",
    "</center>"
   ]
  },
  {
   "cell_type": "code",
   "execution_count": 1,
   "metadata": {},
   "outputs": [],
   "source": [
    "class TreeNode:\n",
    "    def __init__(self, x):\n",
    "        self.val = x\n",
    "        self.left = None\n",
    "        self.right = None\n",
    "\n",
    "\n",
    "class Solution:\n",
    "    def Mirror(self , pRoot: TreeNode) -> TreeNode:\n",
    "        # write code here\n",
    "        if not pRoot:\n",
    "            return None\n",
    "        left = self.Mirror(pRoot.left)\n",
    "        right = self.Mirror(pRoot.right)\n",
    "        pRoot.left = right\n",
    "        pRoot.right = left\n",
    "        return pRoot"
   ]
  }
 ],
 "metadata": {
  "kernelspec": {
   "display_name": "python311",
   "language": "python",
   "name": "python3"
  },
  "language_info": {
   "codemirror_mode": {
    "name": "ipython",
    "version": 3
   },
   "file_extension": ".py",
   "mimetype": "text/x-python",
   "name": "python",
   "nbconvert_exporter": "python",
   "pygments_lexer": "ipython3",
   "version": "3.11.5"
  }
 },
 "nbformat": 4,
 "nbformat_minor": 2
}
