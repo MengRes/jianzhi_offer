{
 "cells": [
  {
   "cell_type": "markdown",
   "metadata": {},
   "source": [
    "## 29. 顺时针打印矩阵\n",
    "\n",
    "输入一个矩阵，按照从外向里以顺时针的顺序依次打印出每一个数字，例如，如果输入如下4 X 4矩阵：\n",
    "\n",
    "$$\n",
    " [[1,2,3,4], \\\\\n",
    " [5,6,7,8], \\\\\n",
    " [9,10,11,12], \\\\\n",
    " [13,14,15,16]]\n",
    "$$\n",
    "\n",
    "则依次打印出数字\n",
    "\n",
    "$$\n",
    "[1,2,3,4,8,12,16,15,14,13,9,5,6,7,11,10]\n",
    "$$\n"
   ]
  },
  {
   "cell_type": "markdown",
   "metadata": {},
   "source": [
    "每剔除矩阵最上面一行数据，并添加到顺序列表；然后逆时针90°旋转剩下的矩阵，重复之前的剔除操作；这样直到矩阵为空，此时顺序列表的数字就是我们要找的 顺时针打印的数字。\n",
    "\n"
   ]
  },
  {
   "cell_type": "code",
   "execution_count": null,
   "metadata": {},
   "outputs": [],
   "source": [
    "class Solution:\n",
    "    # matrix类型为二维列表，需要返回列表\n",
    "    def printMatrix(self, matrix):\n",
    "        # write code here\n",
    "        res = []                                #定义一个顺序列表\n",
    "        while matrix:\n",
    "            res += matrix.pop(0)                #每次去除矩阵最上面一行的数据，并添加到顺序列表中\n",
    "            matrix = list(zip(*matrix))[::-1]   #紧接着逆时针90°旋转矩阵，重复前面的步骤直到矩阵为空\n",
    "        return res"
   ]
  }
 ],
 "metadata": {
  "language_info": {
   "name": "python"
  }
 },
 "nbformat": 4,
 "nbformat_minor": 2
}
