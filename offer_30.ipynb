{
 "cells": [
  {
   "cell_type": "markdown",
   "metadata": {},
   "source": [
    "## 30. 包含min函数的栈\n",
    "\n",
    "定义栈的数据结构，请在该类型中实现一个能够得到栈中所含最小元素的 min 函数，输入操作时保证 pop、top 和 min 函数操作时，栈中一定有元素。\n",
    "\n",
    "此栈包含的方法有：\n",
    "+ push(value):将value压入栈中\n",
    "+ pop():弹出栈顶元素\n",
    "+ top():获取栈顶元素\n",
    "+ min():获取栈中最小元素\n",
    "\n",
    "数据范围：操作数量满足 $0≤n≤300$，输入的元素满足 $∣val∣≤10000$。  \n",
    "进阶：栈的各个操作的时间复杂度是 $O(1)$，空间复杂度是 $O(n)$。\n",
    "\n",
    "示例:  \n",
    "输入:[\"PSH-1\",\"PSH2\",\"MIN\",\"TOP\",\"POP\",\"PSH1\",\"TOP\",\"MIN\"]  \n",
    "输出: -1,2,1,-1  \n",
    "解析:  \n",
    "\"PSH-1\"表示将-1压入栈中，栈中元素为-1  \n",
    "\"PSH2\"表示将2压入栈中，栈中元素为2，-1  \n",
    "“MIN”表示获取此时栈中最小元素==>返回-1  \n",
    "\"TOP\"表示获取栈顶元素==>返回2  \n",
    "\"POP\"表示弹出栈顶元素，弹出2，栈中元素为-1  \n",
    "\"PSH1\"表示将1压入栈中，栈中元素为1，-1  \n",
    "\"TOP\"表示获取栈顶元素==>返回1  \n",
    "“MIN”表示获取此时栈中最小元素==>返回-1"
   ]
  },
  {
   "cell_type": "markdown",
   "metadata": {},
   "source": [
    "栈是一种仅支持在表尾进行插入和删除操作的线性表，这一端被称为栈顶，另一端被称为栈底。元素入栈指的是把新元素放到栈顶元素的上面，使之成为新的栈顶元素；元素出栈指的是从一个栈删除元素又称作出栈或退栈，它是把栈顶元素删除掉，使其相邻的元素成为新的栈顶元素。\n",
    "\n",
    "思路：\n",
    "\n",
    "我们都知道栈结构的push、pop、top操作都是 $O(1)$，但是min函数做不到，于是想到在push的时候就将最小值记录下来，由于栈先进后出的特殊性，我们可以构造一个单调栈，保证栈内元素都是递增的，栈顶元素就是当前最小的元素。\n",
    "\n",
    "具体做法：\n",
    "\n",
    "1. 使用一个栈记录进入栈的元素，正常进行push、pop、top操作。\n",
    "2. 使用另一个栈记录每次push进入的最小值。\n",
    "3. 每次push元素的时候与第二个栈的栈顶元素比较，若是较小，则进入第二个栈，若是较大，则第二个栈的栈顶元素再次入栈，因为即便加了一个元素，它依然是最小值。于是，每次访问最小值即访问第二个栈的栈顶。\n",
    "\n",
    "时间复杂度：$O(1)$，每个函数访问都是直接访问，无循环  \n",
    "空间复杂度：$O(n)$"
   ]
  },
  {
   "cell_type": "code",
   "execution_count": 1,
   "metadata": {},
   "outputs": [],
   "source": [
    "class Solution:\n",
    "    def __init__(self):\n",
    "        self.stack = []\n",
    "        self.minStack = []\n",
    "\n",
    "    def push(self, node):\n",
    "        # write code here\n",
    "        self.stack.append(node)\n",
    "        if self.minStack == [] or node < self.min():\n",
    "            self.minStack.append(node)\n",
    "        else:\n",
    "            temp = self.min()\n",
    "            self.minStack.append(temp)\n",
    "\n",
    "    def pop(self):\n",
    "        # write code here\n",
    "        if self.stack == None or self.minStack == None:\n",
    "            return None\n",
    "        self.minStack.pop()\n",
    "        self.stack.pop()\n",
    "\n",
    "    def top(self):\n",
    "        # write code here\n",
    "        return self.stack[-1]\n",
    "\n",
    "    def min(self):\n",
    "        # write code here\n",
    "        return self.minStack[-1]"
   ]
  }
 ],
 "metadata": {
  "kernelspec": {
   "display_name": "python312",
   "language": "python",
   "name": "python3"
  },
  "language_info": {
   "codemirror_mode": {
    "name": "ipython",
    "version": 3
   },
   "file_extension": ".py",
   "mimetype": "text/x-python",
   "name": "python",
   "nbconvert_exporter": "python",
   "pygments_lexer": "ipython3",
   "version": "3.12.7"
  }
 },
 "nbformat": 4,
 "nbformat_minor": 2
}
