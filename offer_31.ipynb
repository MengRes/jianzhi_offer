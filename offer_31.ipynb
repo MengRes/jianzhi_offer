{
 "cells": [
  {
   "cell_type": "markdown",
   "metadata": {},
   "source": [
    "## 31. 栈的压入、弹出序列\n",
    "\n",
    "输入两个整数序列，第一个序列表示栈的压入顺序，请判断第二个序列是否可能为该栈的弹出顺序。假设压入栈的所有数字均不相等。例如序列1,2,3,4,5是某栈的压入顺序，序列4,5,3,2,1是该压栈序列对应的一个弹出序列，但4,3,5,1,2就不可能是该压栈序列的弹出序列。\n",
    "\n",
    "1. 0<=pushV.length == popV.length <=1000\n",
    "2. -1000<=pushV[i]<=1000\n",
    "3. pushV 的所有数字均不相同\n",
    "\n",
    "输入：[1,2,3,4,5],[4,5,3,2,1]  \n",
    "返回值：true  \n",
    "说明：可以通过push(1)=>push(2)=>push(3)=>push(4)=>pop()=>push(5)=>pop()=>pop()=>pop()=>pop()\n",
    "这样的顺序得到[4,5,3,2,1]这个序列，返回true "
   ]
  },
  {
   "cell_type": "markdown",
   "metadata": {},
   "source": [
    "题目要我们判断两个序列是否符合入栈出栈的次序，我们就可以用一个栈来模拟。对于入栈序列，只要栈为空，序列肯定要依次入栈。那什么时候出来呢？自然是遇到一个元素等于当前的出栈序列的元素，那我们就放弃入栈，让它先出来。\n",
    "\n",
    "如果能按照这个次序将两个序列都访问完，那说明是可以匹配入栈出栈次序的。\n",
    "\n",
    "具体做法：\n",
    "\n",
    "1. 准备一个辅助栈，两个下标分别访问两个序列。\n",
    "2. 辅助栈为空或者栈顶不等于出栈数组当前元素，就持续将入栈数组加入栈中。\n",
    "3. 栈顶等于出栈数组当前元素就出栈。\n",
    "4. 当入栈数组访问完，出栈数组无法依次弹出，就是不匹配的，否则两个序列都访问完就是匹配的。"
   ]
  },
  {
   "cell_type": "code",
   "execution_count": null,
   "metadata": {},
   "outputs": [],
   "source": [
    "class Solution:\n",
    "    def IsPopOrder(self , pushV: List[int], popV: List[int]) -> bool:\n",
    "        n = len(pushV)\n",
    "        #辅助栈\n",
    "        s = []\n",
    "        #遍历入栈的下标\n",
    "        j = 0\n",
    "        #遍历出栈的数组\n",
    "        for i in range(n):\n",
    "            #入栈：栈为空或者栈顶不等于出栈数组\n",
    "            while j < n and (len(s) == 0 or s[-1] != popV[i]):\n",
    "                s.append(pushV[j])\n",
    "                j += 1\n",
    "            #栈顶等于出栈数组\n",
    "            if s[-1] == popV[i]:\n",
    "                s.pop()\n",
    "            #不匹配序列\n",
    "            else:\n",
    "                return False\n",
    "        return True\n"
   ]
  }
 ],
 "metadata": {
  "language_info": {
   "name": "python"
  }
 },
 "nbformat": 4,
 "nbformat_minor": 2
}
