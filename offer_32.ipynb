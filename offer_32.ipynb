{
 "cells": [
  {
   "cell_type": "markdown",
   "metadata": {},
   "source": [
    "## 32. 从上往下打印二叉树\n",
    "\n",
    "不分行从上往下打印出二叉树的每个节点，同层节点从左至右打印。例如输入{8,6,10,#,#,2,1}，如以下图中的示例二叉树，则依次打印8,6,10,2,1(空节点不打印，跳过)，请你将打印的结果存放到一个数组里面，返回。\n",
    "\n",
    "<center>\n",
    "    <img src = images/32_0.png width = 40%>\n",
    "</center>"
   ]
  },
  {
   "cell_type": "markdown",
   "metadata": {},
   "source": [
    "方法一：层次遍历\n",
    "\n",
    "思路：\n",
    "\n",
    "二叉树的层次遍历就是按照从上到下每行，然后每行中从左到右依次遍历，得到的二叉树的元素值。对于层次遍历，我们通常会使用队列来辅助：\n",
    "\n",
    "因为队列是一种先进先出的数据结构，我们依照它的性质，如果从左到右访问完一行节点，并在访问的时候依次把它们的子节点加入队列，那么它们的子节点也是从左到右的次序，且排在本行节点的后面，因此队列中出现的顺序正好也是从左到右，正好符合层次遍历的特点。\n",
    "\n",
    "具体做法：\n",
    "\n",
    "1. 首先判断二叉树是否为空，空树没有遍历结果。\n",
    "2. 建立辅助队列，根节点首先进入队列。不管层次怎么访问，根节点一定是第一个，那它肯定排在队伍的最前面。\n",
    "3. 每次遍历队首节点，如果它们有子节点，依次加入队列排队等待访问。"
   ]
  },
  {
   "cell_type": "code",
   "execution_count": 3,
   "metadata": {},
   "outputs": [],
   "source": [
    "import queue\n",
    "from typing import List\n",
    "\n",
    "class TreeNode:\n",
    "    def __init__(self, x):\n",
    "        self.val = x\n",
    "        self.left = None\n",
    "        self.right = None\n",
    "\n",
    "\n",
    "class Solution:\n",
    "    def PrintFromTopToBottom(self , root: TreeNode) -> List[int]:\n",
    "        res = []\n",
    "        if not root:\n",
    "            # 如果是空，则直接返回空数组\n",
    "            return res \n",
    "        # 队列存储，进行层次遍历\n",
    "        q = queue.Queue() \n",
    "        q.put(root)\n",
    "        while not q.empty():\n",
    "            cur = q.get()\n",
    "            res.append(cur.val)\n",
    "            # 若是左右孩子存在，则存入左右孩子作为下一个层次\n",
    "            if cur.left:\n",
    "                q.put(cur.left)\n",
    "            if cur.right:\n",
    "                q.put(cur.right)\n",
    "        return res\n"
   ]
  }
 ],
 "metadata": {
  "kernelspec": {
   "display_name": "python312",
   "language": "python",
   "name": "python3"
  },
  "language_info": {
   "codemirror_mode": {
    "name": "ipython",
    "version": 3
   },
   "file_extension": ".py",
   "mimetype": "text/x-python",
   "name": "python",
   "nbconvert_exporter": "python",
   "pygments_lexer": "ipython3",
   "version": "3.12.7"
  }
 },
 "nbformat": 4,
 "nbformat_minor": 2
}
