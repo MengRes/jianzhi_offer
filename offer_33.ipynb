{
 "cells": [
  {
   "cell_type": "markdown",
   "metadata": {},
   "source": [
    "## 33. 二叉搜索树的后序遍历序列\n",
    "\n",
    "输入一个整数数组，判断该数组是不是某二叉搜索树的后序遍历的结果。如果是则返回 true ,否则返回 false 。假设输入的数组的任意两个数字都互不相同。\n",
    "\n",
    "提示：\n",
    "1. 二叉搜索树是指父亲节点大于左子树中的全部节点，但是小于右子树中的全部节点的树。\n",
    "2. 该题我们约定空树不是二叉搜索树\n",
    "3. 后序遍历是指按照 “左子树-右子树-根节点” 的顺序遍历\n",
    "\n",
    "数据范围： 节点数量 $0≤n≤1000$，节点上的值满足 $1≤val≤10^5$，保证节点上的值各不相同  \n",
    "要求：空间复杂度 $O(n)$，时间时间复杂度 $O(n^2)$"
   ]
  },
  {
   "cell_type": "markdown",
   "metadata": {},
   "source": [
    "思路：单调栈 首先我们需要按照题目给出列表的逆序进行遍历，这样我们的遍历视角转成了 [根−右子树−左子树]。假定原输入列表的顺序为 [tn, t(n-1), t(n-2), ..., t1, t0]，则该逆序后列表内容为 [] 有如下特性：\n",
    "- 若 t(i) < t(i+1)，则 t(i) 必定为栈顶元素，且栈顶元素必定大于等于 t(i+1)\n",
    "- 若 t(i) > t(i+1)，则 t(i) 必定为栈顶元素的右子节点，且栈顶元素必定小于 t(i+1)\n",
    "  \n",
    "因此，我们可以维护一个单调栈 s，不断迭代一个根节点 root（初始化为 INT_MAX），并通过循环反向遍历给定的列表，模拟逆序操作。\n",
    "\n",
    "1. 首先处理特殊情况，sequence为空的情况，返回false\n",
    "2. 维护一个单调栈s，不断迭代一个根节点root（初始化为INT_MAX）\n",
    "3. 通过循环反向遍历给定的列表，模拟逆序操作\n",
    "4. 循环内，如果当前遍历节点大于root，则返回false\n",
    "5. 如果当前节点小于栈顶节点且栈非空，则内循环更新root，并不断退栈，这一过程在找到当前节点的父节点\n",
    "6. 内循环结束后，将数字进入单调栈"
   ]
  },
  {
   "cell_type": "code",
   "execution_count": null,
   "metadata": {},
   "outputs": [],
   "source": [
    "from typing import List\n",
    "\n",
    "class Solution:\n",
    "    def VerifySquenceOfBST(self , sequence: List[int]) -> bool:\n",
    "        # 特殊情况处理\n",
    "        if not sequence: return False\n",
    "        # 初始化\n",
    "        s, root = [], 999999\n",
    "        # 倒序遍历\n",
    "        for i in range(len(sequence) -1, -1, -1):\n",
    "            # 存在左子树大于父节点root的情况，违背二叉搜索树性质\n",
    "            if sequence[i] > root: return False;\n",
    "            # 找当前遍历节点的父节点\n",
    "            while s and sequence[i] < s[-1]:\n",
    "                root = s.pop()\n",
    "            s.append(sequence[i])\n",
    "        return True\n"
   ]
  }
 ],
 "metadata": {
  "language_info": {
   "name": "python"
  }
 },
 "nbformat": 4,
 "nbformat_minor": 2
}
