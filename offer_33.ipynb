{
 "cells": [
  {
   "cell_type": "markdown",
   "metadata": {},
   "source": [
    "## 33. 二叉搜索树的后序遍历序列\n",
    "\n",
    "输入一个整数数组，判断该数组是不是某二叉搜索树的后序遍历的结果。如果是则返回 true ,否则返回 false 。假设输入的数组的任意两个数字都互不相同。\n",
    "\n",
    "提示：\n",
    "1. 二叉搜索树是指父亲节点大于左子树中的全部节点，但是小于右子树中的全部节点的树。\n",
    "2. 该题我们约定空树不是二叉搜索树\n",
    "3. 后序遍历是指按照 “左子树-右子树-根节点” 的顺序遍历"
   ]
  },
  {
   "cell_type": "code",
   "execution_count": null,
   "metadata": {},
   "outputs": [],
   "source": []
  }
 ],
 "metadata": {
  "language_info": {
   "name": "python"
  }
 },
 "nbformat": 4,
 "nbformat_minor": 2
}
