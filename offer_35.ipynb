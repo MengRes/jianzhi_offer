{
 "cells": [
  {
   "cell_type": "markdown",
   "metadata": {},
   "source": [
    "## 35. 复杂链表的复制\n",
    "\n",
    "输入一个复杂链表（每个节点中有节点值，以及两个指针，一个指向下一个节点，另一个特殊指针random指向一个随机节点），请对此链表进行深拷贝，并返回拷贝后的头结点。（注意，输出结果中请不要返回参数中的节点引用，否则判题程序会直接返回空）。 下图是一个含有5个结点的复杂链表。图中实线箭头表示next指针，虚线箭头表示random指针。为简单起见，指向null的指针没有画出。\n",
    "\n",
    "<center>\n",
    "    <img src = images/35_0.png width = 50%>\n",
    "</center>"
   ]
  },
  {
   "cell_type": "code",
   "execution_count": null,
   "metadata": {},
   "outputs": [],
   "source": [
    "class RandomListNode:\n",
    "    def __init__(self, x):\n",
    "        self.label = x\n",
    "        self.next = None\n",
    "        self.random = None\n",
    "        \n",
    "        \n",
    "class Solution:\n",
    "    # 返回 RandomListNode\n",
    "    def Clone(self, pHead):\n",
    "        # write code here\n",
    "        #空节点直接返回\n",
    "        if pHead is None:\n",
    "            return pHead\n",
    "        \n",
    "        pivot = pHead\n",
    "        while pivot:\n",
    "            clone = RandomListNode(pivot.label)\n",
    "            pivot.next = pivot\n",
    "            pivot = clone.next\n",
    "        pivot = pHead\n",
    "        clone = pHead.next\n",
    "        res = pHead.next\n",
    "\n",
    "        while pivot:\n",
    "            if pivot.random is None:\n",
    "                clone.random = None\n",
    "            else:\n",
    "                clone.random = pivot.random.next\n",
    "            pivot = pivot.next.next\n",
    "            if clone.next is not None:\n",
    "                clone = clone.next.next\n",
    "        cur = pHead\n",
    "        clone = pHead.next\n",
    "        #拆分两个链表\n",
    "        while cur is not None:\n",
    "            #cur.next必定不为空\n",
    "            cur.next = cur.next.next\n",
    "            cur = cur.next\n",
    "            #检查末尾节点\n",
    "            if clone.next is not None:\n",
    "                clone.next = clone.next.next\n",
    "            clone = clone.next\n",
    "        return res"
   ]
  }
 ],
 "metadata": {
  "language_info": {
   "name": "python"
  }
 },
 "nbformat": 4,
 "nbformat_minor": 2
}
