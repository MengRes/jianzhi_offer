{
 "cells": [
  {
   "cell_type": "markdown",
   "metadata": {},
   "source": [
    "## 36. 二叉搜索树与双向链表\n",
    "\n",
    "输入一棵二叉搜索树，将该二叉搜索树转换成一个排序的双向链表。如下图所示\n",
    "\n",
    "<center>\n",
    "    <img src = images/36_0.png width = 50%>\n",
    "</center>\n",
    "\n",
    "数据范围：输入二叉树的节点数 0≤n≤1000，二叉树中每个节点的值 0≤val≤1000\n",
    "要求：空间复杂度 O(1)（即在原树上操作），时间复杂度 O(n)\n",
    "\n",
    "注意:\n",
    "1. 要求不能创建任何新的结点，只能调整树中结点指针的指向。当转化完成以后，树中节点的左指针需要指向前驱，树中节点的右指针需要指向后继\n",
    "2. 返回链表中的第一个节点的指针\n",
    "3. 函数返回的TreeNode，有左右指针，其实可以看成一个双向链表的数据结构\n",
    "4. 你不用输出双向链表，程序会根据你的返回值自动打印输出"
   ]
  },
  {
   "cell_type": "markdown",
   "metadata": {},
   "source": [
    "二叉搜索树最左端的元素一定最小，最右端的元素一定最大，符合“左中右”的特性，因此二叉搜索树的中序遍历就是一个递增序列，我们只要对它中序遍历就可以组装称为递增双向链表。\n",
    "\n",
    "具体做法：\n",
    "\n",
    "1. 创建两个指针，一个指向题目中要求的链表头（head），一个指向当前遍历的前一节点（pre)。\n",
    "2. 首先递归到最左，初始化head与pre。\n",
    "3. 然后处理中间根节点，依次连接pre与当前节点，连接后更新pre为当前节点。\n",
    "4. 最后递归进入右子树，继续处理。\n",
    "5. 递归出口即是节点为空则返回。"
   ]
  },
  {
   "cell_type": "code",
   "execution_count": null,
   "metadata": {},
   "outputs": [],
   "source": [
    "class TreeNode:\n",
    "    def __init__(self, x):\n",
    "        self.val = x\n",
    "        self.left = None\n",
    "        self.right = None\n",
    "\n",
    "class Solution:\n",
    "    head = None\n",
    "    pre = None\n",
    "    def Convert(self , pRootOfTree ):\n",
    "        if not pRootOfTree:\n",
    "            # 中序递归，叶子为空则返回\n",
    "            return None       \n",
    "        # 首先递归到最左最小值\n",
    "        self.Convert(pRootOfTree.left) \n",
    "        # 找到最小值，初始化head与pre\n",
    "        if not self.pre:       \n",
    "            self.head = pRootOfTree\n",
    "            self.pre = pRootOfTree\n",
    "        # 当前节点与上一节点建立连接，将pre设置为当前值\n",
    "        else:       \n",
    "            self.pre.right = pRootOfTree\n",
    "            pRootOfTree.left = self.pre\n",
    "            self.pre = pRootOfTree\n",
    "        self.Convert(pRootOfTree.right)\n",
    "        return self.head"
   ]
  }
 ],
 "metadata": {
  "kernelspec": {
   "display_name": "python312",
   "language": "python",
   "name": "python3"
  },
  "language_info": {
   "name": "python",
   "version": "3.12.7"
  }
 },
 "nbformat": 4,
 "nbformat_minor": 2
}
