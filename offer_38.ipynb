{
 "cells": [
  {
   "cell_type": "markdown",
   "metadata": {},
   "source": [
    "## 38. 字符串的排列\n",
    "\n",
    "输入一个长度为 n 字符串，打印出该字符串中字符的所有排列，你可以以任意顺序返回这个字符串数组。\n",
    "例如输入字符串ABC,则输出由字符A,B,C所能排列出来的所有字符串ABC,ACB,BAC,BCA,CBA和CAB。"
   ]
  },
  {
   "cell_type": "markdown",
   "metadata": {},
   "source": [
    "递归法，问题转换为先固定第一个字符，求剩余字符的排列；求剩余字符排列时跟原问题一样。\n",
    "遍历字符串，固定可能出现在第一个位置的字符，作为第一个字符，后面剩下的字符串的组合用递归使用本函数的方式得到。"
   ]
  },
  {
   "cell_type": "code",
   "execution_count": null,
   "metadata": {},
   "outputs": [],
   "source": [
    "class Solution:\n",
    "    def Permutation(self, ss):\n",
    "        # write code here\n",
    "        length = len(ss)\n",
    "        if length <= 1:\n",
    "            return ss\n",
    "        lists = []\n",
    "        for i in range(length):\n",
    "            first_str = ss[i]\n",
    "            # 这里的ss[:i]+ss[i+1:] 刚好把ss[i]扣出来\n",
    "            for temp_sub_list in self.Permutation(ss[:i]+ss[i+1:]):\n",
    "                temp = first_str + temp_sub_list\n",
    "                if temp not in lists:\n",
    "                    lists.append(temp)\n",
    "        return lists"
   ]
  }
 ],
 "metadata": {
  "kernelspec": {
   "display_name": "python312",
   "language": "python",
   "name": "python3"
  },
  "language_info": {
   "name": "python",
   "version": "3.12.7"
  }
 },
 "nbformat": 4,
 "nbformat_minor": 2
}
