{
 "cells": [
  {
   "cell_type": "markdown",
   "metadata": {},
   "source": [
    "## 39. 数组中出现次数超过一半的数字\n",
    "\n",
    "给一个长度为 n 的数组，数组中有一个数字出现的次数超过数组长度的一半，请找出这个数字。\n",
    "例如输入一个长度为9的数组[1,2,3,2,2,2,5,4,2]。由于数字2在数组中出现了5次，超过数组长度的一半，因此输出2。\n",
    "\n",
    "数据范围：n≤50000，数组中元素的值 0≤val≤10000  \n",
    "要求：空间复杂度：O(1)，时间复杂度 O(n)  \n",
    "输入描述：保证数组输入非空，且保证有解\n",
    "\n",
    "示例  \n",
    "输入：[1,2,3,2,2,2,5,4,2]  \n",
    "返回值：2"
   ]
  },
  {
   "cell_type": "markdown",
   "metadata": {},
   "source": [
    "首先我们分析一下，数组某个元素出现次数超过了数组长度的一半，那它肯定出现最多，而且只要超过了一半，其他数字不可能超过一半了，必定是它。\n",
    "\n",
    "如果给定的数组是有序的，那我们在连续的相同数字中找到出现次数最多即可，但是题目没有要求有序，一种方法是对数组排序后解决，但是时间复杂度就上去了。那我们可以考虑遍历一次数组统计各个元素出现的次数，找到出现次数大于数组长度一半的那个数字。\n",
    "\n",
    "具体做法：\n",
    "\n",
    "1. 构建一个哈希表，统计数组元素各自出现了多少次，即key值为数组元素，value值为其出现次数。\n",
    "2. 遍历数组，每遇到一个元素就把哈希表中相应key值的value值加1，用来统计出现次数。\n",
    "3. 本来可以统计完了之后统一遍历哈希表找到频次大于数组长度一半的key值，但是根据我们上面加粗的点，只要它出现超过了一半，不管后面还有没有，必定就是这个元素了，因此每次统计后，我们都可以检查value值是否大于数组长度的一半，如果大于则找到了。"
   ]
  },
  {
   "cell_type": "code",
   "execution_count": null,
   "metadata": {},
   "outputs": [],
   "source": [
    "class Solution:\n",
    "    def MoreThanHalfNum_Solution(self , numbers: List[int]) -> int:\n",
    "        #无序哈希表统计每个数字出现的次数\n",
    "        mp = dict() \n",
    "        #遍历数组\n",
    "        for i in range(len(numbers)): \n",
    "            if numbers[i] in mp:\n",
    "                #哈希表中相应数字个数加1\n",
    "                mp[numbers[i]] += 1  \n",
    "            else:\n",
    "                mp[numbers[i]] = 1\n",
    "            #一旦有个数大于长度一半的情况即可返回\n",
    "            if mp[numbers[i]] > (int)(len(numbers) / 2): \n",
    "                return numbers[i]\n",
    "        return 0\n"
   ]
  }
 ],
 "metadata": {
  "kernelspec": {
   "display_name": "python312",
   "language": "python",
   "name": "python3"
  },
  "language_info": {
   "name": "python",
   "version": "3.12.7"
  }
 },
 "nbformat": 4,
 "nbformat_minor": 2
}
