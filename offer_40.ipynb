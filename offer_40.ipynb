{
 "cells": [
  {
   "cell_type": "markdown",
   "metadata": {},
   "source": [
    "## 40. 最小的 k 个数\n",
    "\n",
    "给定一个长度为 n 的可能有重复值的数组，找出其中不去重的最小的 k 个数。例如数组元素是 4,5,1,6,2,7,3,8 这 8 个数字，则最小的 4 个数字是 1,2,3,4 (任意顺序皆可)。\n",
    "\n",
    "Leetcode link: [LC.215](https://leetcode.cn/problems/kth-largest-element-in-an-array/description/)"
   ]
  },
  {
   "cell_type": "markdown",
   "metadata": {},
   "source": [
    "如果这个数组本来就是有序的（递增序），那最小的k个数字，是不是就是数组前k个呢？那我们只要对整个数组进行了一次排序，那最小的k个元素不就手到擒来了。\n",
    "\n",
    "具体做法：\n",
    "\n",
    "1. 优先判断k为0或者输入数组长度为0的特殊情况。\n",
    "2. 使用sort函数对整个数组排序。\n",
    "3. 遍历排序后的数组前k个元素即可获取最小的k个。"
   ]
  },
  {
   "cell_type": "code",
   "execution_count": null,
   "metadata": {},
   "outputs": [],
   "source": [
    "from typing import List\n",
    "\n",
    "class Solution:\n",
    "    def GetLeastNumbers_Solution(self , input: List[int], k: int) -> List[int]:\n",
    "        # write code here\n",
    "        def quick_sort(arr):\n",
    "            if len(arr) <= 1:\n",
    "                return arr  # 基础情况：空数组或单元素数组已排序\n",
    "            else:\n",
    "                pivot = arr[len(arr) // 2]  # 选择中间元素作为基准\n",
    "                left = [x for x in arr if x < pivot]  # 所有小于基准的元素\n",
    "                middle = [x for x in arr if x == pivot]  # 等于基准的元素\n",
    "                right = [x for x in arr if x > pivot]  # 所有大于基准的元素\n",
    "            return quick_sort(left) + middle + quick_sort(right)\n",
    "        result = quick_sort(input)\n",
    "        return result[:k]"
   ]
  }
 ],
 "metadata": {
  "kernelspec": {
   "display_name": "python312",
   "language": "python",
   "name": "python3"
  },
  "language_info": {
   "name": "python",
   "version": "3.12.7"
  }
 },
 "nbformat": 4,
 "nbformat_minor": 2
}
