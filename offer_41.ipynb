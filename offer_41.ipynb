{
 "cells": [
  {
   "cell_type": "markdown",
   "metadata": {},
   "source": [
    "## 41. 数据流中的中位数\n",
    "\n",
    "如何得到一个数据流中的中位数？如果从数据流中读出奇数个数值，那么中位数就是所有数值排序之后位于中间的数值。如果从数据流中读出偶数个数值，那么中位数就是所有数值排序之后中间两个数的平均值。我们使用Insert()方法读取数据流，使用GetMedian()方法获取当前读取数据的中位数。\n",
    "\n",
    "数据范围：数据流中数个数满足 $1≤n≤1000$，大小满足 $1≤val≤1000$。  \n",
    "进阶： 空间复杂度 $O(n)$， 时间复杂度 $O(nlogn)$。  \n",
    "\n",
    "输入：[5,2,3,4,1,6,7,0,8]  \n",
    "返回值：\"5.00 3.50 3.00 3.50 3.00 3.50 4.00 3.50 4.00 \"\n",
    "\n",
    "说明：数据流里面不断吐出的是5,2,3...,则得到的平均数分别为5,(5+2)/2,3... "
   ]
  },
  {
   "cell_type": "markdown",
   "metadata": {},
   "source": [
    "方法一\n",
    "\n",
    "1. 用一数组存储输入的数据流。\n",
    "2. Insert函数在插入的同时，遍历之前存储在数组中的数据，按照递增顺序依次插入，如此一来，加入的数据流便是有序的。\n",
    "3. GetMedian函数可以根据下标直接访问中位数，分为数组为奇数个元素和偶数个元素两种情况。记得需要类型转换为double。"
   ]
  },
  {
   "cell_type": "code",
   "execution_count": null,
   "metadata": {},
   "outputs": [],
   "source": [
    "class Solution:\n",
    "    def __init__(self):\n",
    "        self.val = []\n",
    "    def Insert(self, num):\n",
    "        if len(self.val) == 0:\n",
    "            #val中没有数据，直接加入\n",
    "            self.val.append(num) \n",
    "        #val中有数据，需要插入排序\n",
    "        else: \n",
    "            i = 0\n",
    "            #遍历找到插入点\n",
    "            while i < len(self.val):  \n",
    "                if num <= self.val[i]:\n",
    "                   break\n",
    "                i = i + 1\n",
    "            #插入相应位置\n",
    "            self.val.insert(i, num) \n",
    "    def GetMedian(self):\n",
    "        n = len(self.val)\n",
    "        #奇数个数字\n",
    "        if n % 2 == 1: \n",
    "            #类型转换\n",
    "            return self.val[n // 2] \n",
    "        #偶数个数字\n",
    "        else: \n",
    "            return (self.val[n // 2] + self.val[n // 2 - 1]) / 2.0\n"
   ]
  }
 ],
 "metadata": {
  "language_info": {
   "name": "python"
  }
 },
 "nbformat": 4,
 "nbformat_minor": 2
}
