{
 "cells": [
  {
   "cell_type": "markdown",
   "metadata": {},
   "source": [
    "## 43. 整数中1出现的次数\n",
    "\n",
    "输入一个整数 n ，求 1～n 这 n 个整数的十进制表示中 1 出现的次数  \n",
    "例如， 1~13 中包含 1 的数字有 1 、 10 、 11 、 12 、 13 因此共出现 6 次\n",
    "\n",
    "注意：11 这种情况算两次"
   ]
  },
  {
   "cell_type": "markdown",
   "metadata": {},
   "source": [
    "遍历1到n的每个数字，然后对每个数字单独遍历它的每一位，检查是否是1，如果是1则计数。\n",
    "\n",
    "具体做法：\n",
    "\n",
    "1. 从1遍历到n，查看每一个数字。\n",
    "2. 对于每个数字，用连除法每次判断最后一位数字是否为1，并进行计数。\n",
    "\n",
    "时间复杂度：$O(nlog10n)$，外循环一共循环n次，内循环最大循环次数不会超过最大数字的位数，即$log10n$。  \n",
    "空间复杂度：$O(1)$，常数级变量，无额外辅助空间使用"
   ]
  },
  {
   "cell_type": "code",
   "execution_count": null,
   "metadata": {},
   "outputs": [],
   "source": [
    "class Solution:\n",
    "    def NumberOf1Between1AndN_Solution(self , n: int) -> int:\n",
    "        res = 0\n",
    "        #遍历1-n\n",
    "        for i in range(1, n + 1):\n",
    "            #遍历每个数的每一位\n",
    "            j = i\n",
    "            while j > 0:\n",
    "                #遇到数字1计数\n",
    "                if j % 10 == 1:\n",
    "                    res += 1\n",
    "                j = j // 10\n",
    "        return res\n"
   ]
  }
 ],
 "metadata": {
  "language_info": {
   "name": "python"
  }
 },
 "nbformat": 4,
 "nbformat_minor": 2
}
