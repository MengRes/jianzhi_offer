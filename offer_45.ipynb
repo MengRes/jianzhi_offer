{
 "cells": [
  {
   "cell_type": "markdown",
   "metadata": {},
   "source": [
    "## 45. 把数组排成最小的数\n",
    "\n",
    "输入一个非负整数数组numbers，把数组里所有数字拼接起来排成一个数，打印能拼接出的所有数字中最小的一个。\n",
    "例如输入数组[3，32，321]，则打印出这三个数字能排成的最小数字为321323。\n",
    "1.输出结果可能非常大，所以你需要返回一个字符串而不是整数\n",
    "2.拼接起来的数字可能会有前导 0，最后结果不需要去掉前导 0\n",
    "\n",
    "数据范围: 0<=len(numbers)<=100\n",
    "\n",
    "输入：[11,3]  \n",
    "返回值：\"113\""
   ]
  },
  {
   "cell_type": "markdown",
   "metadata": {},
   "source": [
    "方法一：字符串排序\n",
    "\n",
    "1. 优先判断空数组的特殊情况。\n",
    "2. 将数组中的数字元素转换成字符串类型。\n",
    "3. 使用冒泡排序，两层遍历数组，每次比较数组相邻位置字符串拼接的大小，如果顺序拼接比逆序拼接更大，则需要交换位置。\n",
    "4. 将排序结果再按照字符串拼接成一个整体。"
   ]
  },
  {
   "cell_type": "code",
   "execution_count": 1,
   "metadata": {},
   "outputs": [
    {
     "name": "stdout",
     "output_type": "stream",
     "text": [
      "321323\n"
     ]
    }
   ],
   "source": [
    "class Solution:\n",
    "    def PrintMinNumber(self, numbers):\n",
    "        # write code hereu\n",
    "        if not numbers:\n",
    "            return ''\n",
    "        numbers = [str(num) for num in numbers]\n",
    "        for i in range(len(numbers)-1):\n",
    "            for j in range(i+1, len(numbers)):\n",
    "                if numbers[j] + numbers[i] < numbers[i] + numbers[j]:\n",
    "                    numbers[i],numbers[j] = numbers[j],numbers[i]\n",
    "        return ''.join(numbers)\n",
    "\n",
    "\n",
    "solution = Solution()\n",
    "numbers = [3,32,321]\n",
    "result = solution.PrintMinNumber(numbers)\n",
    "print(result)"
   ]
  }
 ],
 "metadata": {
  "kernelspec": {
   "display_name": "python312",
   "language": "python",
   "name": "python3"
  },
  "language_info": {
   "codemirror_mode": {
    "name": "ipython",
    "version": 3
   },
   "file_extension": ".py",
   "mimetype": "text/x-python",
   "name": "python",
   "nbconvert_exporter": "python",
   "pygments_lexer": "ipython3",
   "version": "3.12.7"
  }
 },
 "nbformat": 4,
 "nbformat_minor": 2
}
