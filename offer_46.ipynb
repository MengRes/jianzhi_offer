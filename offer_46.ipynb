{
 "cells": [
  {
   "cell_type": "markdown",
   "metadata": {},
   "source": [
    "## 46. 把数字翻译成字符串\n",
    "\n",
    "有一种将字母编码成数字的方式：'a'->1, 'b->2', ... , 'z->26'。\n",
    "\n",
    "现在给一串数字，返回有多少种可能的译码结果\n",
    "\n",
    "数据范围：字符串长度满足 $0<n≤90$\n",
    "进阶：空间复杂度 $O(n)$，时间复杂度 $O(n)$\n"
   ]
  },
  {
   "cell_type": "markdown",
   "metadata": {},
   "source": [
    "对于普通数组1-9，译码方式只有一种，但是对于11-19，21-26，译码方式有可选择的两种方案，因此我们使用动态规划将两种方案累计。\n",
    "\n",
    "具体做法：\n",
    "\n",
    "1. 用辅助数组dp表示前i个数的译码方法有多少种。\n",
    "2. 对于一个数，我们可以直接译码它，也可以将其与前面的1或者2组合起来译码：如果直接译码，则 dp[i]=dp[i−1]；如果组合译码，则 dp[i]=dp[i−2]。\n",
    "3. 对于只有一种译码方式的，选上种 dp[i−1] 即可，对于满足两种译码方式（10，20不能）则是 dp[i−1]+dp[i−2]\n",
    "4. 依次相加，最后的 dp[length] 即为所求答案。"
   ]
  },
  {
   "cell_type": "code",
   "execution_count": null,
   "metadata": {},
   "outputs": [],
   "source": [
    "class Solution:\n",
    "    def solve(self , nums: str) -> int:\n",
    "        #排除0\n",
    "        if nums == \"0\":  \n",
    "            return 0\n",
    "        #排除只有一种可能的10 和 20\n",
    "        if nums == \"10\" or nums == \"20\":   \n",
    "            return 1\n",
    "        #当0的前面不是1或2时，无法译码，0种\n",
    "        for i in range(1, len(nums)): \n",
    "            if nums[i] == '0':\n",
    "                if nums[i - 1] != '1' and nums[i - 1] != '2':\n",
    "                    return 0\n",
    "        #辅助数组初始化为1\n",
    "        dp = [1 for i in range(len(nums) + 1)]  \n",
    "        for i in range(2, len(nums) + 1):\n",
    "            #在11-19，21-26之间的情况\n",
    "            if (nums[i - 2] == '1' and nums[i - 1] != '0') or (nums[i - 2] == '2' and nums[i - 1] > '0' and nums[i - 1] < '7'):\n",
    "                dp[i] = dp[i - 1] + dp[i - 2]\n",
    "            else:\n",
    "                dp[i] = dp[i - 1]\n",
    "        return dp[len(nums)]\n"
   ]
  }
 ],
 "metadata": {
  "language_info": {
   "name": "python"
  }
 },
 "nbformat": 4,
 "nbformat_minor": 2
}
