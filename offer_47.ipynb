{
 "cells": [
  {
   "cell_type": "markdown",
   "metadata": {},
   "source": [
    "## 47. 礼物的最大价值\n",
    "\n",
    "在一个 m x n 的棋盘的每一格都放有一个礼物，每个礼物都有一定的价值（价值大于 0）。你可以从棋盘的左上角开始拿格子里的礼物，并每次向右或者向下移动一格，直到到达棋盘的右下角。给定一个棋盘及其上面的礼物，请计算你最多能拿到多少价值的礼物？\n",
    "\n",
    "\n",
    "示例 1：\n",
    "输入：\n",
    "\n",
    "$$\n",
    "[\n",
    "  [1,3,1], \\\\\n",
    "  [1,5,1], \\\\\n",
    "  [4,2,1]  \n",
    "]\n",
    "$$\n",
    "\n",
    "输出：12  \n",
    "解释：路径 1→3→5→2→1 可以拿到最多价值的礼物\n",
    "\n",
    "+ 0<grid.length≤200 \n",
    "+ 0<grid[0].length≤200\n"
   ]
  },
  {
   "cell_type": "markdown",
   "metadata": {},
   "source": [
    "如果我们现在已经身处最右下角的一个格子，获取了这个礼物，那我们肯定是加上来自左边累计的最大礼物价值与来自上边累计的最大礼物价值的较大值，这样我们能获取的礼物价值才会更大，因此我们用dp[i][j]表示从左上角到第i行第j列的格子总共能获取的最大价值，因此转移方程为\n",
    "\n",
    "$$\n",
    "dp[i][j]=grid[i][j]+max(dp[i−1][j],dp[i][j−1]).\n",
    "$$\n",
    "\n",
    "同时因为在遍历的时候我们可以将累加的礼物价值的dp数组直接添加在原数组grid中，这样我们可以省下一个辅助空间。\n",
    "\n",
    "具体做法：\n",
    "\n",
    "1. 初始化第一列，每个元素只能累加自上方。\n",
    "2. 初始化第一行，每个元素只能累加自左方。\n",
    "3. 然后遍历数组，对于每个元素添加来自上方或者左方的较大值。\n",
    "\n",
    "时间复杂度：$O(mn)$，其中m,n分别为矩阵的边长，遍历整个矩阵\n",
    "空间复杂度：$O(1)$，原数组中修改，无额外辅助空间"
   ]
  },
  {
   "cell_type": "code",
   "execution_count": null,
   "metadata": {},
   "outputs": [],
   "source": [
    "class Solution:\n",
    "    def maxValue(self , grid: List[List[int]]) -> int:\n",
    "        m = len(grid)\n",
    "        n = len(grid[0])\n",
    "        #第一列只能来自上方\n",
    "        for i in range(1, m):\n",
    "            grid[i][0] += grid[i - 1][0]\n",
    "        #第一行只能来自左边\n",
    "        for i in range(1, n):\n",
    "            grid[0][i] += grid[0][i - 1]\n",
    "        #遍历后续每一个位置\n",
    "        for i in range(1, m):\n",
    "            for j in range(1, n):\n",
    "                #增加来自左边的与上边的之间的较大值\n",
    "                grid[i][j] += max(grid[i - 1][j], grid[i][j - 1])\n",
    "        return grid[m - 1][n - 1]\n"
   ]
  }
 ],
 "metadata": {
  "language_info": {
   "name": "python"
  }
 },
 "nbformat": 4,
 "nbformat_minor": 2
}
