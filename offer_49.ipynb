{
 "cells": [
  {
   "cell_type": "markdown",
   "metadata": {},
   "source": [
    "## 49. 丑数\n",
    "\n",
    "把只包含质因子2、3和5的数称作丑数（Ugly Number）。例如6、8都是丑数，但14不是，因为它包含质因子7。 习惯上我们把1当做是第一个丑数。求按从小到大的顺序的第 n个丑数。\n",
    "\n",
    "数据范围：$0≤n≤2000$\n",
    "要求：空间复杂度 $O(n)$， 时间复杂度 $O(n)$"
   ]
  },
  {
   "cell_type": "code",
   "execution_count": null,
   "metadata": {},
   "outputs": [],
   "source": [
    "class Solution:\n",
    "    def GetUglyNumber_Solution(self , index: int) -> int:\n",
    "        #排除0\n",
    "        if index == 0:\n",
    "            return 0\n",
    "        #要乘的因数\n",
    "        factors = [2, 3, 5]\n",
    "        #去重\n",
    "        mp = dict()\n",
    "        #小顶堆\n",
    "        import heapq\n",
    "        pq = []  \n",
    "        #1先进去\n",
    "        mp[1] = 1 \n",
    "        heapq.heappush(pq, 1)\n",
    "        res = 0\n",
    "        for i in range(index):\n",
    "            #每次取最小的\n",
    "            res = pq[0] \n",
    "            heapq.heappop(pq)\n",
    "            for j in range(3):\n",
    "                #乘上因数\n",
    "                next = res * factors[j]\n",
    "                #只取未出现过的\n",
    "                if next not in mp:\n",
    "                    mp[next] = 1\n",
    "                    heapq.heappush(pq, next)\n",
    "        return res\n"
   ]
  }
 ],
 "metadata": {
  "kernelspec": {
   "display_name": "python312",
   "language": "python",
   "name": "python3"
  },
  "language_info": {
   "name": "python",
   "version": "3.12.7"
  }
 },
 "nbformat": 4,
 "nbformat_minor": 2
}
