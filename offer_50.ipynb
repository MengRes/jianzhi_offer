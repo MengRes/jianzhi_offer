{
 "cells": [
  {
   "cell_type": "markdown",
   "metadata": {},
   "source": [
    "## 50. 第一个只出现一次的字符\n",
    "\n",
    "在一个长为 字符串中找到第一个只出现一次的字符,并返回它的位置, 如果没有则返回 -1（需要区分大小写）.（从0开始计数）\n",
    "\n",
    "\n",
    "数据范围：$0≤n≤10000$，且字符串只有字母组成。  \n",
    "要求：空间复杂度 $O(n)$，时间复杂度 $O(n)$\n",
    "\n",
    "输入：\"google\"  \n",
    "返回值：4"
   ]
  },
  {
   "cell_type": "markdown",
   "metadata": {},
   "source": [
    "既然要找第一个只出现一次的字符，那只要我们统计每个字符在字符串中出现的次数，后续不就可以找到第一个只出现一次的字符了吗？\n",
    "\n",
    "统计频率可以建立一个哈希表，遍历字符串的同时，统计每个字符出现的频率，然后再从头遍历一次字符串，在哈希表中查看每个字符串的频率，找到第一个只出现一次的字符串，返回位置，如果没找到返回-1即可。\n",
    "\n",
    "具体做法：\n",
    "\n",
    "1. 遍历一次字符串，对于每个字符，放入哈希表中统计出现次数。\n",
    "2. 再次遍历字符串，对于每个字符，检查哈希表中出现次数是否为1，找到第一个即可。\n",
    "3. 遍历结束都没找到，那就是没有，返回-1.\n",
    "\n",
    "时间复杂度：$O(n)$，其中n为字符串长度，两次单独的遍历  \n",
    "空间复杂度：$O(1)$，哈希表的大小最多不会超过字符集，即52个字符，属于常数空间"
   ]
  },
  {
   "cell_type": "code",
   "execution_count": null,
   "metadata": {},
   "outputs": [],
   "source": [
    "class Solution:\n",
    "    def FirstNotRepeatingChar(self , str: str) -> int:\n",
    "        mp = dict()\n",
    "        #统计每个字符出现的次数\n",
    "        for i in str:\n",
    "            if i in mp:\n",
    "                mp[i] += 1\n",
    "            else:\n",
    "                mp[i] = 1\n",
    "        #找到第一个只出现一次的字母\n",
    "        for i in range(len(str)):\n",
    "            if mp[str[i]] == 1:\n",
    "                return i\n",
    "        #没有找到\n",
    "        return -1\n"
   ]
  }
 ],
 "metadata": {
  "language_info": {
   "name": "python"
  }
 },
 "nbformat": 4,
 "nbformat_minor": 2
}
