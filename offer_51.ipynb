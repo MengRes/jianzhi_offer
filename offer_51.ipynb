{
 "cells": [
  {
   "cell_type": "markdown",
   "metadata": {},
   "source": [
    "### 51. 数组中的逆序对\n",
    "\n",
    "在数组中的两个数字，如果前面一个数字大于后面的数字，则这两个数字组成一个逆序对。输入一个数组,求出这个数组中的逆序对的总数P。\n",
    "\n",
    "数据范围：\n",
    "+ 对于 50% 的数据，size <= $10^4$\n",
    "+ 对于 100% 的数据，size <= $10^5$\n",
    "+ 数组中所有数字的值满足 0 <= val <= $10^9$\n",
    "\n",
    "要求：空间复杂度 $O(n)$，时间复杂度 $O(nlogn)$\n",
    "\n",
    "题目保证输入的数组中没有的相同的数字\n",
    "\n",
    "示例：\n",
    "\n",
    "```\n",
    "输入：[1,2,3,4,5,6,7,0]\n",
    "返回值：7\n",
    "```\n",
    "\n",
    "Leetcode link: [493](https://leetcode.cn/problems/reverse-pairs/description/)"
   ]
  },
  {
   "cell_type": "markdown",
   "metadata": {},
   "source": [
    "### 方法 1\n",
    "\n",
    "分析：\n",
    "\n",
    "暴力解法。遍历输入列表的元素，当轮到第 i 个元素时，遍历 i+1, i+2.. 元素，比较第 i 个元素和第 i+1 个元素的大小，以此类推。\n",
    "\n",
    "时间复杂度：$O(n^2)$\n",
    "空间复杂度：$O(n)$\n",
    "\n",
    "时间复杂度较高，会超时。"
   ]
  },
  {
   "cell_type": "code",
   "execution_count": 1,
   "metadata": {},
   "outputs": [],
   "source": [
    "from typing import List\n",
    "\n",
    "class Solution:\n",
    "    def InversePairs(self , nums: List[int]) -> int:\n",
    "        # write code here\n",
    "        output = 0\n",
    "        for i in range(1, len(nums)):\n",
    "            for j in range(i):\n",
    "                if nums[i] < nums[j]:\n",
    "                    output += 1\n",
    "        return output\n",
    "    "
   ]
  },
  {
   "cell_type": "code",
   "execution_count": 2,
   "metadata": {},
   "outputs": [
    {
     "name": "stdout",
     "output_type": "stream",
     "text": [
      "7\n"
     ]
    }
   ],
   "source": [
    "input_list = [1, 2, 3, 4, 5, 6, 7, 0]\n",
    "find_solution = Solution()\n",
    "output = find_solution.InversePairs(input_list)\n",
    "print(output)"
   ]
  },
  {
   "cell_type": "markdown",
   "metadata": {},
   "source": [
    "### 方法 2\n",
    "\n",
    "分析：\n",
    "\n",
    "算法思路\n",
    "\n",
    "1. 定义逆序对：给定数组中，若 i < j 且 nums[i] > nums[j]，则 (nums[i], nums[j]) 是一个逆序对。\n",
    "2. 分治法：\n",
    "    + 将数组递归分为左右两部分，分别统计左半部分和右半部分的逆序对数。\n",
    "    + 在合并左右两部分时，统计跨越两部分的逆序对数。\n",
    "3. 归并排序统计逆序对：\n",
    "    + 在合并时，如果左部分的当前元素大于右部分的当前元素，则当前右部分剩余所有元素都与左部分当前元素构成逆序对。\n",
    "    + 继续归并剩余元素。\n",
    "4. 取模：由于结果可能非常大，每次统计逆序对数时都对 1000000007 取模，避免溢出。\n"
   ]
  },
  {
   "cell_type": "code",
   "execution_count": null,
   "metadata": {},
   "outputs": [],
   "source": [
    "class Solution:\n",
    "    def InversePairs(self , nums: List[int]) -> int:\n",
    "        # write code here\n",
    "        MOD = 1000000007\n",
    "\n",
    "        def merge_sort(arr, temp, left, right):\n",
    "            if left >= right:\n",
    "                return 0\n",
    "\n",
    "            mid = (left + right) // 2\n",
    "            # 分治统计左、右部分的逆序对数\n",
    "            count = merge_sort(arr, temp, left, mid) + merge_sort(arr, temp, mid + 1, right)\n",
    "            count %= MOD\n",
    "\n",
    "            # 合并时统计跨越左右部分的逆序对数\n",
    "            i, j, k = left, mid + 1, left\n",
    "            while i <= mid and j <= right:\n",
    "                if arr[i] <= arr[j]:\n",
    "                    temp[k] = arr[i]\n",
    "                    i += 1\n",
    "                else:\n",
    "                    temp[k] = arr[j]\n",
    "                    j += 1\n",
    "                    # 左半部分剩余的元素都与 arr[j] 构成逆序对\n",
    "                    count += (mid - i + 1)\n",
    "                    count %= MOD\n",
    "                k += 1\n",
    "\n",
    "            # 将剩余元素拷贝到临时数组\n",
    "            while i <= mid:\n",
    "                temp[k] = arr[i]\n",
    "                i += 1\n",
    "                k += 1\n",
    "            while j <= right:\n",
    "                temp[k] = arr[j]\n",
    "                j += 1\n",
    "                k += 1\n",
    "\n",
    "            # 将排序后的结果复制回原数组\n",
    "            for i in range(left, right + 1):\n",
    "                arr[i] = temp[i]\n",
    "\n",
    "            return count\n",
    "\n",
    "        # 初始化临时数组用于归并排序\n",
    "        temp = [0] * len(nums)\n",
    "        return merge_sort(nums, temp, 0, len(nums) - 1)"
   ]
  },
  {
   "cell_type": "code",
   "execution_count": 3,
   "metadata": {},
   "outputs": [
    {
     "name": "stdout",
     "output_type": "stream",
     "text": [
      "7\n"
     ]
    }
   ],
   "source": [
    "input_list = [1, 2, 3, 4, 5, 6, 7, 0]\n",
    "find_solution = Solution()\n",
    "output = find_solution.InversePairs(input_list)\n",
    "print(output)"
   ]
  }
 ],
 "metadata": {
  "kernelspec": {
   "display_name": "python312",
   "language": "python",
   "name": "python3"
  },
  "language_info": {
   "codemirror_mode": {
    "name": "ipython",
    "version": 3
   },
   "file_extension": ".py",
   "mimetype": "text/x-python",
   "name": "python",
   "nbconvert_exporter": "python",
   "pygments_lexer": "ipython3",
   "version": "3.12.7"
  }
 },
 "nbformat": 4,
 "nbformat_minor": 2
}
