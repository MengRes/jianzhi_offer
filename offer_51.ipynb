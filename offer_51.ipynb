{
 "cells": [
  {
   "cell_type": "markdown",
   "metadata": {},
   "source": [
    "### 51. 数组中的逆序对\n",
    "\n",
    "在数组中的两个数字，如果前面一个数字大于后面的数字，则这两个数字组成一个逆序对。输入一个数组,求出这个数组中的逆序对的总数P。\n",
    "\n",
    "数据范围：\n",
    "+ 对于 50% 的数据，size <= $10^4$\n",
    "+ 对于 100% 的数据，size <= $10^5$\n",
    "+ 数组中所有数字的值满足 0 <= val <= $10^9$\n",
    "\n",
    "要求：空间复杂度 $O(n)$，时间复杂度 $O(nlogn)$\n",
    "\n",
    "题目保证输入的数组中没有的相同的数字\n",
    "\n",
    "示例：\n",
    "\n",
    "```\n",
    "输入：[1,2,3,4,5,6,7,0]\n",
    "返回值：7\n",
    "```"
   ]
  },
  {
   "cell_type": "markdown",
   "metadata": {},
   "source": [
    "#### 方法 1\n",
    "\n",
    "分析：\n",
    "\n",
    "暴力解法。遍历输入列表的元素，当轮到第 i 个元素时，遍历 i+1, i+2.. 元素，比较第 i 个元素和第 i+1 个元素的大小，以此类推。\n",
    "\n",
    "时间复杂度：$O(n^2)$\n",
    "空间复杂度：$O(n)$"
   ]
  },
  {
   "cell_type": "code",
   "execution_count": 2,
   "metadata": {},
   "outputs": [
    {
     "name": "stdout",
     "output_type": "stream",
     "text": [
      "7\n"
     ]
    }
   ],
   "source": [
    "from typing import List\n",
    "\n",
    "class Solution:\n",
    "    def InversePairs(self , nums: List[int]) -> int:\n",
    "        # write code here\n",
    "        output = 0\n",
    "        for i in range(1, len(nums)):\n",
    "            for j in range(i):\n",
    "                if nums[i] < nums[j]:\n",
    "                    output += 1\n",
    "        return output\n",
    "    \n",
    "input_list = [1, 2, 3, 4, 5, 6, 7, 0]\n",
    "find_solution = Solution()\n",
    "output = find_solution.InversePairs(input_list)\n",
    "print(output)"
   ]
  },
  {
   "cell_type": "markdown",
   "metadata": {},
   "source": [
    "#### 方法 2\n",
    "\n",
    "分析：\n",
    "\n"
   ]
  }
 ],
 "metadata": {
  "kernelspec": {
   "display_name": "python38",
   "language": "python",
   "name": "python3"
  },
  "language_info": {
   "codemirror_mode": {
    "name": "ipython",
    "version": 3
   },
   "file_extension": ".py",
   "mimetype": "text/x-python",
   "name": "python",
   "nbconvert_exporter": "python",
   "pygments_lexer": "ipython3",
   "version": "3.8.17"
  }
 },
 "nbformat": 4,
 "nbformat_minor": 2
}
