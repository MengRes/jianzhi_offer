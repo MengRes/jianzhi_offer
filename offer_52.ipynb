{
 "cells": [
  {
   "cell_type": "markdown",
   "metadata": {},
   "source": [
    "## 52. 两个链表的第一个公共结点\n",
    "\n",
    "输入两个无环的单向链表，找出它们的第一个公共结点，如果没有公共节点则返回空。（注意因为传入数据是链表，所以错误测试数据的提示是用其他方式显示的，保证传入数据是正确的）\n",
    "\n",
    "Leetcode link: [160](https://leetcode.cn/problems/intersection-of-two-linked-lists/description/)"
   ]
  },
  {
   "cell_type": "markdown",
   "metadata": {},
   "source": [
    "**双指针法**\n",
    "\n",
    "双指针法通过对齐链表长度来解决问题。\n",
    "\n",
    "1. 定义两个指针 pA 和 pB，分别指向链表 A 和链表 B 的头节点。\n",
    "2. 两个指针分别遍历链表，当到达链表尾部时切换到另一链表的头部继续遍历。\n",
    "   + 如果有公共节点，两个指针会在公共节点相遇。\n",
    "   + 如果没有公共节点，最终两个指针会同时到达 null。\n",
    "\n",
    "算法步骤\n",
    "\n",
    "1. 初始化指针 pA = headA 和 pB = headB。\n",
    "2. 当 pA != pB 时：\n",
    "    + pA 遍历链表 A，当到达尾部时切换到链表 B 的头节点。\n",
    "    + pB 遍历链表 B，当到达尾部时切换到链表 A 的头节点。\n",
    "3. 当 pA == pB 时，返回该节点。\n",
    "4. 如果两个链表没有公共节点，最后返回 null。"
   ]
  },
  {
   "cell_type": "code",
   "execution_count": 1,
   "metadata": {},
   "outputs": [],
   "source": [
    "class ListNode:\n",
    "    def __init__(self, x):\n",
    "        self.val = x\n",
    "        self.next = None\n",
    "\n",
    "class Solution:\n",
    "    def FindFirstCommonNode(self , pHead1 , pHead2 ):\n",
    "        # write code here\n",
    "        if not pHead1 or not pHead2:\n",
    "            return None\n",
    "\n",
    "        pA, pB = pHead1, pHead2\n",
    "\n",
    "        while pA != pB:\n",
    "        # 切换到另一个链表的头部或继续向下遍历\n",
    "            pA = pA.next if pA else pHead2\n",
    "            pB = pB.next if pB else pHead1\n",
    "\n",
    "        return pA"
   ]
  }
 ],
 "metadata": {
  "kernelspec": {
   "display_name": "python312",
   "language": "python",
   "name": "python3"
  },
  "language_info": {
   "codemirror_mode": {
    "name": "ipython",
    "version": 3
   },
   "file_extension": ".py",
   "mimetype": "text/x-python",
   "name": "python",
   "nbconvert_exporter": "python",
   "pygments_lexer": "ipython3",
   "version": "3.12.7"
  }
 },
 "nbformat": 4,
 "nbformat_minor": 2
}
