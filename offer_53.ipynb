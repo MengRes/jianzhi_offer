{
 "cells": [
  {
   "cell_type": "markdown",
   "metadata": {},
   "source": [
    "## 剑指 Offer 52. 两个链表的第一个公共节点\n",
    "\n",
    "输入两个无环的单向链表，找出它们的第一个公共结点，如果没有公共节点则返回空。（注意因为传入数据是链表，所以错误测试数据的提示是用其他方式显示的，保证传入数据是正确的）\n",
    "\n",
    "数据范围： $n≤1000$\n",
    "\n",
    "要求：空间复杂度 $O(1)$，时间复杂度 $O(n)$。\n",
    "\n",
    "例如，输入{1,2,3},{4,5},{6,7}时，两个无环的单向链表的结构如下图所示：\n",
    "\n",
    "<center>\n",
    "    <img src = https://uploadfiles.nowcoder.com/images/20211104/423483716_1635999204882/394BB7AFD5CEA3DC64D610F62E6647A6 width=80%>\n",
    "</center>\n",
    "\n",
    "可以看到它们的第一个公共结点的结点值为6，所以返回结点值为6的结点。\n",
    "\n",
    "输入描述：\n",
    "\n",
    "输入分为是3段，第一段是第一个链表的非公共部分，第二段是第二个链表的非公共部分，第三段是第一个链表和第二个链表的公共部分。 后台会将这3个参数组装为两个链表，并将这两个链表对应的头节点传入到函数FindFirstCommonNode里面，用户得到的输入只有pHead1和pHead2。\n",
    "\n",
    "返回值描述：\n",
    "\n",
    "返回传入的pHead1和pHead2的第一个公共结点，后台会打印以该节点为头节点的链表。"
   ]
  },
  {
   "cell_type": "code",
   "execution_count": 1,
   "metadata": {},
   "outputs": [],
   "source": [
    "class Solution:\n",
    "    def FindFirstCommonNode(self , pHead1 , pHead2 ):\n",
    "        # write code here\n",
    "        pivot_1 = pHead1\n",
    "        pivot_2 = pHead2\n",
    "        if pivot_1 is None or pivot_2 is None:\n",
    "            return None\n",
    "        val_list_1 = []\n",
    "        while pivot_1 is not None:\n",
    "            val_list_1.append(pivot_1)\n",
    "            pivot_1 = pivot_1.next\n",
    "        while pivot_2 is not None:\n",
    "            if pivot_2 in val_list_1:\n",
    "                return pivot_2\n",
    "            pivot_2 = pivot_2.next\n",
    "        return None"
   ]
  }
 ],
 "metadata": {
  "kernelspec": {
   "display_name": "python311",
   "language": "python",
   "name": "python3"
  },
  "language_info": {
   "codemirror_mode": {
    "name": "ipython",
    "version": 3
   },
   "file_extension": ".py",
   "mimetype": "text/x-python",
   "name": "python",
   "nbconvert_exporter": "python",
   "pygments_lexer": "ipython3",
   "version": "3.11.5"
  }
 },
 "nbformat": 4,
 "nbformat_minor": 2
}
