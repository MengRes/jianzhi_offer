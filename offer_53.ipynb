{
 "cells": [
  {
   "cell_type": "markdown",
   "metadata": {},
   "source": [
    "## 53. 数字在升序数组中出现的次数\n",
    "\n",
    "给定一个长度为 n 的非降序数组和一个非负数整数 k ，要求统计 k 在数组中出现的次数\n",
    "\n",
    "数据范围：$0≤n≤1000,0≤k≤100$，数组中每个元素的值满足 $0≤val≤100$\n",
    "要求：空间复杂度 $O(1)$，时间复杂度 $O(logn)$"
   ]
  },
  {
   "cell_type": "markdown",
   "metadata": {},
   "source": [
    "方法一\n",
    "\n",
    "主要是等于的情况怎么处理，当data[mid]等于k的时候，left，和right边界怎么处理\n",
    "\n",
    "+ 如果k < data[right]表示右边界需要缩小，如果等于的话右边界不需要处理，因为是循序数组，k不可能大于right，大于说明不存在数组中\n",
    "+ 如果k > data[left]表示左边界需要往右边移动，如果等于需不要处理，因为是循序数组，k不可能小于left，小于说明不存在数组中\n",
    "+ 如果k==data[left]==data[right],就可以得出范围了"
   ]
  },
  {
   "cell_type": "code",
   "execution_count": null,
   "metadata": {},
   "outputs": [],
   "source": [
    "from typing import List\n",
    "\n",
    "class Solution:\n",
    "    def GetNumberOfK(self , data: List[int], k: int) -> int:\n",
    "        # write code here5\n",
    "        left = 0\n",
    "        right = len(data) - 1\n",
    "        while left <= right:\n",
    "            mid = (left+right) // 2\n",
    "            if k > data[mid]:\n",
    "                left = mid + 1\n",
    "            elif k < data[mid]:\n",
    "                right = mid - 1\n",
    "            else:\n",
    "                if k < data[right]:\n",
    "                    right = right - 1\n",
    "                elif k > data[left]:\n",
    "                    left= left + 1\n",
    "                else:\n",
    "                    return right - left + 1\n",
    "                     \n",
    "        return 0\n",
    "        "
   ]
  }
 ],
 "metadata": {
  "kernelspec": {
   "display_name": "python311",
   "language": "python",
   "name": "python3"
  },
  "language_info": {
   "codemirror_mode": {
    "name": "ipython",
    "version": 3
   },
   "file_extension": ".py",
   "mimetype": "text/x-python",
   "name": "python",
   "nbconvert_exporter": "python",
   "pygments_lexer": "ipython3",
   "version": "3.11.5"
  }
 },
 "nbformat": 4,
 "nbformat_minor": 2
}
