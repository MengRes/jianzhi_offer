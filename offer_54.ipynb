{
 "cells": [
  {
   "cell_type": "markdown",
   "metadata": {},
   "source": [
    "## 54. 二叉搜索树的第k大节点\n",
    "\n",
    "给定一棵结点数为n 二叉搜索树，请找出其中的第 k 小的TreeNode结点值。\n",
    "1.返回第k小的节点值即可\n",
    "2.不能查找的情况，如二叉树为空，则返回-1，或者k大于n等等，也返回-1\n",
    "3.保证n个节点的值不一样\n",
    "\n",
    "\n",
    "数据范围：$0≤n≤1000$，$0≤k≤1000$，树上每个结点的值满足 $0≤val≤1000$  \n",
    "进阶：空间复杂度 $O(n)$，时间复杂度 $O(n)$\n",
    "\n",
    "如输入{5,3,7,2,4,6,8},3时，二叉树{5,3,7,2,4,6,8}如下图所示：\n",
    "\n",
    "<center>\n",
    "    <img src = images/54_0.png width = 40%>\n",
    "</center>\n",
    "\n",
    "该二叉树所有节点按结点值升序排列后可得[2,3,4,5,6,7,8]，所以第3个结点的结点值为4，故返回对应结点值为4的结点即可。"
   ]
  },
  {
   "cell_type": "markdown",
   "metadata": {},
   "source": [
    "根据二叉搜索树的性质，左子树的元素都小于根节点，右子树的元素都大于根节点。因此它的中序遍历（左中右）序列正好是由小到大的次序，因此我们可以尝试递归中序遍历，也就是从最小的一个节点开始，找到k个就是我们要找的目标。\n",
    "\n",
    "具体做法：\n",
    "\n",
    "1. 设置全局变量count记录遍历了多少个节点，res记录第k个节点。\n",
    "2. 另写一函数进行递归中序遍历，当节点为空或者超过k时，结束递归，返回。\n",
    "3. 优先访问左子树，再访问根节点，访问时统计数字，等于k则找到。\n",
    "4. 最后访问右子树。"
   ]
  },
  {
   "cell_type": "code",
   "execution_count": null,
   "metadata": {},
   "outputs": [],
   "source": [
    "class Solution:\n",
    "    def __init__(self):\n",
    "        #记录返回的节点\n",
    "        self.res = None \n",
    "        #记录中序遍历了多少个\n",
    "        self.count = 0 \n",
    "        \n",
    "    def midOrder(self, root, k):\n",
    "        #当遍历到节点为空或者超过k时，返回\n",
    "        if not root or self.count > k: \n",
    "            return\n",
    "        self.midOrder(root.left, k)\n",
    "        self.count += 1\n",
    "        #只记录第k个\n",
    "        if self.count == k:  \n",
    "            self.res = root\n",
    "        self.midOrder(root.right, k)\n",
    "\n",
    "    def KthNode(self , proot: TreeNode, k: int) -> int:\n",
    "        self.midOrder(proot, k)\n",
    "        if self.res:\n",
    "            return self.res.val\n",
    "        #二叉树为空，或是找不到\n",
    "        else: \n",
    "            return -1\n"
   ]
  }
 ],
 "metadata": {
  "language_info": {
   "name": "python"
  }
 },
 "nbformat": 4,
 "nbformat_minor": 2
}
