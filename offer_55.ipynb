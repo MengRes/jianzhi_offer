{
 "cells": [
  {
   "cell_type": "markdown",
   "metadata": {},
   "source": [
    "## 55. 二叉树的深度\n",
    "\n",
    "输入一棵二叉树，求该树的深度。从根结点到叶结点依次经过的结点（含根、叶结点）形成树的一条路径，最长路径的长度为树的深度，根节点的深度视为 1 。\n",
    "\n",
    "数据范围：节点的数量满足 $0≤n≤100$ ，节点上的值满足 0≤val≤100\n",
    "进阶：空间复杂度 $O(1)$, 时间复杂度 $O(n)$."
   ]
  },
  {
   "cell_type": "code",
   "execution_count": null,
   "metadata": {},
   "outputs": [],
   "source": [
    "class TreeNode:\n",
    "    def __init__(self, x):\n",
    "        self.val = x\n",
    "        self.left = None\n",
    "        self.right = None\n",
    "\n",
    "\n",
    "class Solution:\n",
    "    def TreeDepth(self , pRoot: TreeNode) -> int:\n",
    "        # write code here\n",
    "        if pRoot is None:\n",
    "            return 0\n",
    "        left_depth = self.TreeDepth(pRoot.left)\n",
    "        right_depth = self.TreeDepth(pRoot.right)\n",
    "        return max(left_depth, right_depth) + 1"
   ]
  },
  {
   "cell_type": "markdown",
   "metadata": {},
   "source": [
    "最大深度是所有叶子节点的深度的最大值，深度是指树的根节点到任一叶子节点路径上节点的数量，因此从根节点每次往下一层深度就会加1。因此二叉树的深度就等于根节点这个1层加上左子树和右子树深度的最大值，即 $\\text{root}_{depth} = max(\\text{left}_{depth}, \\text{right}_{depth}) + 1$.\n",
    "\n",
    "而每个子树我们都可以看成一个根节点，继续用上述方法求的深度，于是我们可以对这个问题划为子问题，利用递归来解决：\n",
    "\n",
    "+ 终止条件： 当进入叶子节点后，再进入子节点，即为空，没有深度可言，返回0.\n",
    "+ 返回值： 每一级按照上述公式，返回两边子树深度的最大值加上本级的深度，即加1.\n",
    "+ 本级任务： 每一级的任务就是进入左右子树，求左右子树的深度。\n",
    "\n",
    "在上述代码中，我们定义了一个TreeNode类，表示二叉树的节点，每个节点包括一个值val、一个左子树left和一个右子树right。然后，我们定义了一个名为maxDepth的函数，该函数接受根节点root作为输入，返回树的深度。\n",
    "\n",
    "在函数内部，我们首先检查根节点是否为空（即树为空），如果为空，则返回深度0。然后，我们递归调用maxDepth函数来获取左子树和右子树的深度，并返回左子树深度和右子树深度的最大值加1，表示整个树的深度。\n",
    "\n",
    "时间复杂度：$O(n)$, n 为二叉树节点数量，遍历整棵二叉树.\n",
    "\n",
    "空间复杂度: $O(n)$, 最坏情况下，二叉树化为链表，递归栈深度最大为 n."
   ]
  }
 ],
 "metadata": {
  "kernelspec": {
   "display_name": "python38",
   "language": "python",
   "name": "python3"
  },
  "language_info": {
   "name": "python",
   "version": "3.8.17"
  }
 },
 "nbformat": 4,
 "nbformat_minor": 2
}
