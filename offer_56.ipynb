{
 "cells": [
  {
   "cell_type": "markdown",
   "metadata": {},
   "source": [
    "## 56. 数组中只出现一次的两个数字\n",
    "\n",
    "一个整型数组里除了两个数字只出现一次，其他的数字都出现了两次。请写程序找出这两个只出现一次的数字。输出时按非降序排列。\n",
    "\n",
    "Leetcode link: [260.single-number-iii](https://leetcode.cn/problems/single-number-iii/description/)"
   ]
  },
  {
   "cell_type": "code",
   "execution_count": 1,
   "metadata": {},
   "outputs": [],
   "source": [
    "from typing import List\n",
    "\n",
    "class Solution:\n",
    "    def FindNumsAppearOnce(self , nums: List[int]) -> List[int]:\n",
    "        # write code here\n",
    "        result = []\n",
    "        for i in range(len(nums)):\n",
    "            count_num = nums.count(nums[i])\n",
    "            if count_num == 1:\n",
    "                result.append(nums[i])\n",
    "        result = sorted(result)\n",
    "        return result"
   ]
  },
  {
   "cell_type": "code",
   "execution_count": 2,
   "metadata": {},
   "outputs": [
    {
     "name": "stdout",
     "output_type": "stream",
     "text": [
      "[1, 9]\n"
     ]
    }
   ],
   "source": [
    "solution = Solution()\n",
    "nums = [1, 2, 3, 3, 2, 9]\n",
    "result = solution.FindNumsAppearOnce(nums)\n",
    "print(result)"
   ]
  }
 ],
 "metadata": {
  "kernelspec": {
   "display_name": "python312",
   "language": "python",
   "name": "python3"
  },
  "language_info": {
   "codemirror_mode": {
    "name": "ipython",
    "version": 3
   },
   "file_extension": ".py",
   "mimetype": "text/x-python",
   "name": "python",
   "nbconvert_exporter": "python",
   "pygments_lexer": "ipython3",
   "version": "3.12.7"
  }
 },
 "nbformat": 4,
 "nbformat_minor": 2
}
