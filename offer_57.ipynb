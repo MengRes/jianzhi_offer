{
 "cells": [
  {
   "cell_type": "markdown",
   "metadata": {},
   "source": [
    "## 57. 和为 S 的两个数字\n",
    "\n",
    "输入一个升序数组 array 和一个数字S，在数组中查找两个数，使得他们的和正好是S，如果有多对数字的和等于 S，返回任意一组即可，如果无法找出这样的数字，返回一个空数组即可。\n",
    "\n",
    "示例：\n",
    "\n",
    "```\n",
    "输入：[1,2,4,7,11,15],15\n",
    "返回值：[4,11]\n",
    "说明：返回 [4,11] 或者 [11,4] 都是可以的 \n",
    "```\n",
    "\n",
    "Leetcode link: [LC.1](https://leetcode.cn/problems/two-sum/description/)"
   ]
  },
  {
   "cell_type": "code",
   "execution_count": 1,
   "metadata": {},
   "outputs": [],
   "source": [
    "from typing import List\n",
    "\n",
    "class Solution:\n",
    "    def FindNumbersWithSum(self , array: List[int], sum: int) -> List[int]:\n",
    "        # write code here\n",
    "        left_pivot = 0\n",
    "        right_pivot = len(array) - 1\n",
    "        while left_pivot < right_pivot:\n",
    "            if array[left_pivot] + array[right_pivot] == sum:\n",
    "                return [array[left_pivot], array[right_pivot]]\n",
    "            elif array[left_pivot] + array[right_pivot] < sum:\n",
    "                left_pivot += 1\n",
    "            else:\n",
    "                right_pivot = right_pivot - 1\n",
    "        return []"
   ]
  },
  {
   "cell_type": "code",
   "execution_count": 2,
   "metadata": {},
   "outputs": [
    {
     "name": "stdout",
     "output_type": "stream",
     "text": [
      "[4, 11]\n"
     ]
    }
   ],
   "source": [
    "array = [1, 2, 4, 7, 11, 15]\n",
    "sum = 15\n",
    "find_solution = Solution()\n",
    "output_list = find_solution.FindNumbersWithSum(array, sum)\n",
    "print(output_list)"
   ]
  },
  {
   "cell_type": "markdown",
   "metadata": {},
   "source": [
    "分析：\n",
    "\n",
    "由于给定的数组是升序的，可以设置两个指针，一个从前往后，一个从后往前，计算两个指针对应的元素之和。如何元素之和小于给定的 sum，则左指针继续右移，如果元素之和大于给定的 sum，则右指针左移。当元素之和等于给定的 sum 时，返回对应的元素值。"
   ]
  }
 ],
 "metadata": {
  "kernelspec": {
   "display_name": "python312",
   "language": "python",
   "name": "python3"
  },
  "language_info": {
   "codemirror_mode": {
    "name": "ipython",
    "version": 3
   },
   "file_extension": ".py",
   "mimetype": "text/x-python",
   "name": "python",
   "nbconvert_exporter": "python",
   "pygments_lexer": "ipython3",
   "version": "3.12.7"
  },
  "orig_nbformat": 4
 },
 "nbformat": 4,
 "nbformat_minor": 2
}
