{
 "cells": [
  {
   "cell_type": "markdown",
   "metadata": {},
   "source": [
    "## 58. 左旋转字符串\n",
    "\n",
    "汇编语言中有一种移位指令叫做循环左移（ROL），现在有个简单的任务，就是用字符串模拟这个指令的运算结果。对于一个给定的字符序列  S ，请你把其循环左移 K 位后的序列输出。例如，字符序列 S = ”abcXYZdef” , 要求输出循环左移 3 位后的结果，即 “XYZdefabc”\n",
    "\n",
    "数据范围：输入的字符串长度满足 $0≤len≤100$，$0≤n≤100$\n",
    "进阶：空间复杂度 $O(n)$，时间复杂度 $O(n)$ "
   ]
  },
  {
   "cell_type": "code",
   "execution_count": null,
   "metadata": {},
   "outputs": [],
   "source": [
    "class Solution:\n",
    "    def LeftRotateString(self , str: str, n: int) -> str:\n",
    "        # write code here\n",
    "        output_str = \"\"\n",
    "        if len(str) == 0:\n",
    "            output_str = \"\"\n",
    "        elif n < len(str):\n",
    "            left_str = str[0: n]\n",
    "            right_str = str[n:]\n",
    "            output_str = right_str + left_str\n",
    "        elif n >= len(str):\n",
    "            n = n % len(str)\n",
    "            left_str = str[0: n]\n",
    "            right_str = str[n:]\n",
    "            output_str = right_str + left_str\n",
    "        return output_str"
   ]
  }
 ],
 "metadata": {
  "language_info": {
   "name": "python"
  }
 },
 "nbformat": 4,
 "nbformat_minor": 2
}
