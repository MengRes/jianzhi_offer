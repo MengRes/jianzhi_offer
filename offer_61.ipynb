{
 "cells": [
  {
   "cell_type": "markdown",
   "metadata": {},
   "source": [
    "## 61. 扑克牌中的顺子\n",
    "\n",
    "现在有2副扑克牌，从扑克牌中随机五张扑克牌，我们需要来判断一下是不是顺子。\n",
    "有如下规则：\n",
    "\n",
    "1. A为1，J为11，Q为12，K为13，A不能视为14\n",
    "2. 大、小王为 0，0可以看作任意牌\n",
    "3. 如果给出的五张牌能组成顺子（即这五张牌是连续的）就输出true，否则就输出false。\n",
    "4. 数据保证每组5个数字，每组最多含有4个零，数组的数取值为 [0, 13]\n",
    "\n",
    "Leetcode link: [LCR.186](https://leetcode.cn/problems/bu-ke-pai-zhong-de-shun-zi-lcof/description/)"
   ]
  },
  {
   "cell_type": "code",
   "execution_count": 2,
   "metadata": {},
   "outputs": [],
   "source": [
    "from typing import List\n",
    "\n",
    "class Solution:\n",
    "    def IsContinuous(self , numbers: List[int]) -> bool:\n",
    "        # write code here\n",
    "        zero_count = numbers.count(0)\n",
    "\n",
    "        sorted_numbers= sorted(numbers)\n",
    "        for i in range(len(sorted_numbers)-1):\n",
    "            if sorted_numbers[i] == 0:\n",
    "                continue\n",
    "            elif sorted_numbers[i+1] - sorted_numbers[i] == 0:\n",
    "                return False\n",
    "                break\n",
    "            elif sorted_numbers[i+1] - sorted_numbers[i] == 1:\n",
    "                continue\n",
    "            elif sorted_numbers[i+1] - sorted_numbers[i] > 1:\n",
    "                gap = sorted_numbers[i+1] - sorted_numbers[i] - 1\n",
    "                zero_count = zero_count - gap\n",
    "        if zero_count < 0:\n",
    "            return False\n",
    "        else:\n",
    "            return True"
   ]
  },
  {
   "cell_type": "code",
   "execution_count": 3,
   "metadata": {},
   "outputs": [
    {
     "name": "stdout",
     "output_type": "stream",
     "text": [
      "True\n"
     ]
    }
   ],
   "source": [
    "solution = Solution()\n",
    "numbers = [6, 0, 2, 0, 4]\n",
    "result = solution.IsContinuous(numbers)\n",
    "print(result)"
   ]
  },
  {
   "cell_type": "markdown",
   "metadata": {},
   "source": [
    "numbers: List[int] 是扑克牌的数字列表，其中 0 可以看作“万能牌”或“任意牌”，可以用来替代任何数字。numbers.count(0) 统计列表中 0 的数量，zero_count 表示可以使用的万能牌数量。\n",
    "\n",
    "+ 先将扑克牌数字按升序排序（小的数字在前）。\n",
    "+ 遍历排序后的扑克牌序列，从第一个数字到倒数第二个数字进行逐对检查。\n",
    "  + 如果当前数字是 0，直接跳过，不进行后续的检查。\n",
    "  + 如果相邻两张牌的值相同（并且不是 0），说明有重复数字，无法组成顺子，直接返回 False。\n",
    "  + 如果相邻两张牌的差值为 1，说明是连续的，无需处理，继续检查下一对牌。\n",
    "  + 如果相邻两张牌之间有差值大于 1，则需要用万能牌（0）来填补差距。计算间隙大小 gap。用 zero_count 减去需要填补的间隙数。\n",
    "+ 如果最终 zero_count 小于 0，说明万能牌不足以填补间隙，返回 False。如果 zero_count 足够，说明可以组成顺子，返回 True。\n",
    "\n",
    "**时间复杂度**\n",
    "1. 排序：排序的时间复杂度为 $O(n \\log n)$，其中 $n$ 是输入列表 `numbers` 的长度。\n",
    "\n",
    "2. 遍历检查：需要遍历一次排序后的列表（长度为 $n$），因此这部分的时间复杂度为 $O(n)$。\n",
    "\n",
    "总时间复杂度：$O(n \\log n) + O(n) = O(n \\log n)$\n",
    "\n",
    "**空间复杂度**\n",
    "1. 排序的空间复杂度：\n",
    "   排序操作通常需要额外的存储空间来存放排序结果。在 Python 的 `sorted` 实现中，排序的空间复杂度为 $O(n)$。\n",
    "\n",
    "2. 额外变量：\n",
    "   - `zero_count`：常量空间，$O(1)$。\n",
    "   - 变量 `gap` 和循环索引 `i`：常量空间，$O(1)$。\n",
    "\n",
    "总空间复杂度：$O(n) + O(1) = O(n)$\n",
    "\n",
    "+ 时间复杂度：$O(n \\log n)$，主要由排序操作决定。\n",
    "+ 空间复杂度：$O(n)$，主要是排序操作占用的额外空间。"
   ]
  }
 ],
 "metadata": {
  "kernelspec": {
   "display_name": "python312",
   "language": "python",
   "name": "python3"
  },
  "language_info": {
   "codemirror_mode": {
    "name": "ipython",
    "version": 3
   },
   "file_extension": ".py",
   "mimetype": "text/x-python",
   "name": "python",
   "nbconvert_exporter": "python",
   "pygments_lexer": "ipython3",
   "version": "3.12.7"
  }
 },
 "nbformat": 4,
 "nbformat_minor": 2
}
