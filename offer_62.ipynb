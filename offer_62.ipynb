{
 "cells": [
  {
   "cell_type": "markdown",
   "metadata": {},
   "source": [
    "## 62. 孩子们的游戏(圆圈中最后剩下的数)\n",
    "\n",
    "每年六一儿童节，牛客都会准备一些小礼物和小游戏去看望孤儿院的孩子们。其中，有个游戏是这样的：首先，让 n 个小朋友们围成一个大圈，小朋友们的编号是0~n-1。然后，随机指定一个数 m ，让编号为0的小朋友开始报数。每次喊到 m-1 的那个小朋友要出列唱首歌，然后可以在礼品箱中任意的挑选礼物，并且不再回到圈中，从他的下一个小朋友开始，继续0... m-1报数....这样下去....直到剩下最后一个小朋友，可以不用表演，并且拿到牛客礼品，请你试着想下，哪个小朋友会得到这份礼品呢？\n",
    "\n",
    "Leetcode link: [LCR.187](https://leetcode.cn/problems/yuan-quan-zhong-zui-hou-sheng-xia-de-shu-zi-lcof/)"
   ]
  },
  {
   "cell_type": "markdown",
   "metadata": {},
   "source": [
    "解法 1：数学递推法（约瑟夫环公式）\n",
    "\n",
    "约瑟夫问题可以通过递推公式计算：\n",
    "\n",
    "1. 定义 $f(n, m)$ 为最终幸存者的编号（0-indexed）。\n",
    "2. 递推公式为：\n",
    "\n",
    "$$\n",
    "f(1, m) = 0 \\quad \\text{(只有一个人时，编号为 0)}\n",
    "$$\n",
    "\n",
    "$$\n",
    "f(n, m) = (f(n-1, m) + m) \\mod n \\quad \\text{(n > 1)}\n",
    "$$\n",
    "\n",
    "3. 每次移除一个人后，问题规模缩小为 $n-1$，并且从新的起点开始。\n",
    "\n",
    "+ 时间复杂度：$O(n)$\n",
    "+ 空间复杂度：$O(n)$"
   ]
  },
  {
   "cell_type": "code",
   "execution_count": null,
   "metadata": {},
   "outputs": [],
   "source": [
    "class Solution:\n",
    "    def LastRemaining_Solution(self, n: int, m: int) -> int:\n",
    "        # write code here\n",
    "        if n == 0:  # 边界情况：如果没有小朋友\n",
    "            return -1\n",
    "        survivor = 0  # 初始时，只有一个小朋友时，幸存者编号为 0\n",
    "        for i in range(2, n + 1):  # 从 2 人问题递推到 n 人问题\n",
    "            survivor = (survivor + m) % i\n",
    "        return survivor\n"
   ]
  },
  {
   "cell_type": "code",
   "execution_count": null,
   "metadata": {},
   "outputs": [
    {
     "name": "stdout",
     "output_type": "stream",
     "text": [
      "3\n"
     ]
    }
   ],
   "source": [
    "solution = Solution()\n",
    "n = 5\n",
    "m = 3\n",
    "result = solution.LastRemaining_Solution(n, m)\n",
    "print(result)\n"
   ]
  },
  {
   "cell_type": "markdown",
   "metadata": {},
   "source": [
    "解法 2：模拟法\n",
    "\n",
    "通过模拟整个过程解决问题：\n",
    "\n",
    "1. 使用列表表示小朋友编号。\n",
    "2. 按照规则循环报数并移除对应的小朋友，直到只剩下一个小朋友。"
   ]
  },
  {
   "cell_type": "code",
   "execution_count": null,
   "metadata": {},
   "outputs": [],
   "source": [
    "class Solution:\n",
    "    def LastRemaining_Solution(self, n: int, m: int) -> int:\n",
    "        if n == 0:\n",
    "            return -1  # 边界情况\n",
    "        children = list(range(n))  # 小朋友编号列表\n",
    "        idx = 0  # 从第 0 号小朋友开始\n",
    "        while len(children) > 1:\n",
    "            idx = (idx + m - 1) % len(children)  # 计算当前出列小朋友的索引\n",
    "            children.pop(idx)  # 移除该小朋友\n",
    "        return children[0]  # 最后剩下的小朋友\n"
   ]
  },
  {
   "cell_type": "code",
   "execution_count": null,
   "metadata": {},
   "outputs": [
    {
     "name": "stdout",
     "output_type": "stream",
     "text": [
      "3\n"
     ]
    }
   ],
   "source": [
    "solution = Solution()\n",
    "n = 5\n",
    "m = 3\n",
    "result = solution.LastRemaining_Solution(n, m)\n",
    "print(result)\n"
   ]
  }
 ],
 "metadata": {
  "kernelspec": {
   "display_name": "python312",
   "language": "python",
   "name": "python3"
  },
  "language_info": {
   "codemirror_mode": {
    "name": "ipython",
    "version": 3
   },
   "file_extension": ".py",
   "mimetype": "text/x-python",
   "name": "python",
   "nbconvert_exporter": "python",
   "pygments_lexer": "ipython3",
   "version": "3.12.7"
  }
 },
 "nbformat": 4,
 "nbformat_minor": 2
}
