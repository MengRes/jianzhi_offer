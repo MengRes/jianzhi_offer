{
 "cells": [
  {
   "cell_type": "markdown",
   "metadata": {},
   "source": [
    "## 64. 求 1+2+3...+n.\n",
    "\n",
    "求1+2+3+...+n，要求不能使用乘除法、for、while、if、else、switch、case等关键字及条件判断语句（A?B:C）。\n",
    "\n",
    "Leetcode link: [LCR.189](https://leetcode.cn/problems/qiu-12n-lcof/description/)"
   ]
  },
  {
   "cell_type": "code",
   "execution_count": 3,
   "metadata": {},
   "outputs": [
    {
     "name": "stdout",
     "output_type": "stream",
     "text": [
      "5050\n"
     ]
    }
   ],
   "source": [
    "class Solution:\n",
    "    def Sum_Solution(self, n):\n",
    "        # write code here\n",
    "        return n and n + Solution().Sum_Solution(n-1)\n",
    "\n",
    "# test code\n",
    "solution = Solution()\n",
    "n = 100\n",
    "result = solution.Sum_Solution(n)\n",
    "print(result)"
   ]
  },
  {
   "cell_type": "markdown",
   "metadata": {},
   "source": [
    "这是一个经典的问题，可以使用递归和逻辑运算符的短路特性来解决，避免使用限制的关键字。\n",
    "\n",
    "**解释：**\n",
    "1. 递归：函数 `sum_n(n)` 的核心思想是将 `n` 加上 `sum_n(n-1)`，直到 `n` 等于 0 时停止递归。\n",
    "   \n",
    "2. 逻辑短路：表达式 `n and n + sum_n(n - 1)` 使用了逻辑运算符 `and` 的短路特性：\n",
    "   + 当 `n == 0` 时，`n and ...` 的第一个条件为 `False`，直接返回 `n`（即 0），停止递归。\n",
    "   + 当 `n > 0` 时，`n and ...` 的第一个条件为 `True`，继续执行 `n + sum_n(n - 1)`。\n",
    "\n",
    "3. 无条件判断：逻辑短路特性避免了使用 `if-else` 或三元运算符。\n",
    "\n",
    "示例运行：\n",
    "对于 `n = 4`，递归过程如下：\n",
    "+ `sum_n(4)` = `4 + sum_n(3)`\n",
    "+ `sum_n(3)` = `3 + sum_n(2)`\n",
    "+ `sum_n(2)` = `2 + sum_n(1)`\n",
    "+ `sum_n(1)` = `1 + sum_n(0)`\n",
    "+ `sum_n(0)` = `0`（递归终止条件）\n",
    "\n",
    "最终结果为 `4 + 3 + 2 + 1 + 0 = 10`。\n",
    "\n",
    "时间复杂度：$O(n)$.\n",
    "空间复杂度：$O(n)$."
   ]
  }
 ],
 "metadata": {
  "kernelspec": {
   "display_name": "python312",
   "language": "python",
   "name": "python3"
  },
  "language_info": {
   "codemirror_mode": {
    "name": "ipython",
    "version": 3
   },
   "file_extension": ".py",
   "mimetype": "text/x-python",
   "name": "python",
   "nbconvert_exporter": "python",
   "pygments_lexer": "ipython3",
   "version": "3.12.7"
  }
 },
 "nbformat": 4,
 "nbformat_minor": 2
}
