{
 "cells": [
  {
   "cell_type": "markdown",
   "metadata": {},
   "source": [
    "## 65. 不用加减乘除做加法\n",
    "\n",
    "题目描述：写一个函数，求两个整数之和，要求在函数体内不得使用“+”、“-”、“*”、“/”四则运算符号。\n",
    "\n",
    "数据范围：两个数都满足 -10 <= n <= 1000\n"
   ]
  },
  {
   "cell_type": "markdown",
   "metadata": {},
   "source": [
    "由于题目禁止我们使用+，-，*，/运算符，我们需要通过位运算来实现加法。我们需要通过循环迭代两个变量实现，一个变量指代进位，一个变量指代非进位。\n",
    "\n",
    "位运算中两数进行异或运算可以提供两数加和后二进制非进位信息，位运算中的两数进行与运算的结果可以提供两数加和后的二进制进位信息。因此我们将两数与运算的结果进行循环左移一位，并在下一轮循环中继续将移位后的进位结果和非进位结果求和，重复此过程，直到不再产生进位为止。\n",
    "\n",
    "1. 两数进行与运算可以产生进位的信息\n",
    "2. 运算后执行左移1位就是每轮需要进位的方案\n",
    "3. 两数进行异或运算可以产生非进位的加和结果\n",
    "4. 将移位后的进位结果与非进位结果继续重复 step 1 - step 3 的步骤，直到不再产生进位为止"
   ]
  },
  {
   "cell_type": "code",
   "execution_count": null,
   "metadata": {},
   "outputs": [],
   "source": [
    "class Solution:\n",
    "    def Add(self , num1: int, num2: int) -> int:\n",
    "        # add表示进位值\n",
    "        add = num2\n",
    "        # sum表示总和\n",
    "        sum = num1\n",
    "        # 当不再有进位的时候终止循环\n",
    "        while add:\n",
    "            # 将每轮的无进位和与进位值做异或求和\n",
    "            temp = sum ^ add\n",
    "            # 进位值是用与运算产生的\n",
    "            add = (sum & add) << 1\n",
    "            # 更新sum为新的和(处理负数问题)\n",
    "            sum = temp & 0xFFFFFFFF \n",
    "        return sum if sum >> 31 == 0 else sum - 4294967296"
   ]
  }
 ],
 "metadata": {
  "kernelspec": {
   "display_name": "python312",
   "language": "python",
   "name": "python3"
  },
  "language_info": {
   "name": "python",
   "version": "3.12.7"
  }
 },
 "nbformat": 4,
 "nbformat_minor": 2
}
