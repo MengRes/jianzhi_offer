{
 "cells": [
  {
   "cell_type": "markdown",
   "metadata": {},
   "source": [
    "## 66. 构建乘积数组\n",
    "\n",
    "给定一个数组 A[0,1,…,n-1]，请构建一个数组 B[0,1,…,n-1]，其中 B[i] 的值是数组 A 中除了下标 i 以外的元素的积, 即 B[i]=A[0]×A[1]×…×A[i-1]×A[i+1]×…×A[n-1]。不能使用除法。注意：规定 B[0] = A[1]×A[2]×…×A[n-1]，B[n-1] = A[0]×A[1]×…×A[n-2]。对于 A 长度为 1，B 为空。\n",
    "\n",
    "数据范围：1 ≤ n ≤ 10，|A[i]| ≤ 10\n",
    "\n",
    "示例:  \n",
    "输入: [1,2,3,4,5]  \n",
    "输出: [120,60,40,30,24]  "
   ]
  },
  {
   "cell_type": "markdown",
   "metadata": {},
   "source": [
    "按照题目意思，B[i] 是 A 中除了下标 i 以外的元素的积\n",
    "\n",
    "时间复杂度 $O(n^2)$  \n",
    "空间复杂度 $O(n)$"
   ]
  },
  {
   "cell_type": "code",
   "execution_count": null,
   "metadata": {},
   "outputs": [],
   "source": [
    "from typing import List\n",
    "\n",
    "class Solution:\n",
    "    def multiply(self , A: List[int]) -> List[int]:\n",
    "        # write code here\n",
    "        result = []\n",
    "        if len(A) == 1:\n",
    "            return result\n",
    "        for i in range(len(A)):\n",
    "            num = 1\n",
    "            for j in range(len(A)):\n",
    "                if i != j:\n",
    "                    num = num * A[j]\n",
    "            result.append(num)\n",
    "        return result"
   ]
  },
  {
   "cell_type": "markdown",
   "metadata": {},
   "source": [
    "1. 初始化数组B，第一个元素为1.\n",
    "2. 从左到右遍历数组A，将数组B的前一个数与数组A的前一个数相乘就得到了下三角中数组B的当前数。\n",
    "3. 再从右到左遍历数组A，用一个数字记录从右到左上三角中的累乘，每次只会乘上一个数，同时给数组B对应部分也乘上该累乘。\n",
    "\n",
    "\n",
    "时间复杂度：$O(n)$，其中n为数组A的长度，遍历两次数组\n",
    "空间复杂度：$O(1)$，数组B为返回必要空间，不属于额外空间"
   ]
  },
  {
   "cell_type": "code",
   "execution_count": null,
   "metadata": {},
   "outputs": [],
   "source": [
    "from typing import List\n",
    "\n",
    "class Solution:\n",
    "    def multiply(self , A: List[int]) -> List[int]:\n",
    "        #初始化数组B\n",
    "        B = [1 for i in range(len(A))]\n",
    "        #先乘左边，从左到右\n",
    "        for i in range(1, len(A)):\n",
    "            #每多一位由数组B左边的元素多乘一个前面A的元素\n",
    "            B[i] = B[i - 1] * A[i - 1]\n",
    "        temp = 1\n",
    "        #再乘右边，从右到左\n",
    "        for i in reversed(range(len(A))):\n",
    "            #temp为右边的累乘\n",
    "            B[i] *= temp\n",
    "            temp *= A[i]\n",
    "        return B\n"
   ]
  }
 ],
 "metadata": {
  "kernelspec": {
   "display_name": "python312",
   "language": "python",
   "name": "python3"
  },
  "language_info": {
   "name": "python",
   "version": "3.12.7"
  }
 },
 "nbformat": 4,
 "nbformat_minor": 2
}
