{
 "cells": [
  {
   "cell_type": "markdown",
   "metadata": {},
   "source": [
    "## 68. 二叉搜索树的最近公共祖先\n",
    "\n",
    "给定一个二叉搜索树, 找到该树中两个指定节点的最近公共祖先。\n",
    "\n",
    "1. 对于该题的最近的公共祖先定义:对于有根树T的两个节点 p、q，最近公共祖先 LCA(T,p,q)表示一个节点 x，满足 x 是 p 和 q 的祖先且 x 的深度尽可能大。在这里，一个节点也可以是它自己的祖先.\n",
    "2. 二叉搜索树是若它的左子树不空，则左子树上所有节点的值均小于它的根节点的值, 若它的右子树不空，则右子树上所有节点的值均大于它的根节点的值\n",
    "3. 所有节点的值都是唯一的。\n",
    "4. p, q 为不同节点且均存在于给定的二叉搜索树中。\n",
    "\n",
    "\n",
    "给定以下搜索二叉树: {7,1,12,0,4,11,14,#,#,3,5}\n",
    "\n",
    "<center>\n",
    "    <img src = images/68_0.png width = 40%>\n",
    "</center>\n",
    "\n",
    "输入：{7,1,12,0,4,11,14,#,#,3,5},1,12\n",
    "\n",
    "返回值：7\n",
    "\n",
    "说明：节点 1 和节点 12 的最近公共祖先是 7\n",
    "\n",
    "Leetcode link: [235](https://leetcode.cn/problems/lowest-common-ancestor-of-a-binary-search-tree/description/)"
   ]
  },
  {
   "cell_type": "code",
   "execution_count": 1,
   "metadata": {},
   "outputs": [],
   "source": [
    "class TreeNode:\n",
    "    def __init__(self, x):\n",
    "        self.val = x         \n",
    "        self.left = None\n",
    "        self.right = None\n",
    "\n",
    "\n",
    "class Solution:\n",
    "    def lowestCommonAncestor(self, root: TreeNode, p: int, q: int) -> int:\n",
    "        # write code here\n",
    "        if not root:\n",
    "            return -1\n",
    "        # pq在该节点两边说明这就是最近公共祖先\n",
    "        if (p >= root.val and q <= root.val) or (p <= root.val and q >= root.val):\n",
    "            return root.val\n",
    "        # pq都在该节点的左边\n",
    "        elif p <= root.val and q <= root.val:\n",
    "            # 进入左子树\n",
    "            return self.lowestCommonAncestor(root.left, p, q)\n",
    "        #pq都在该节点的右边\n",
    "        else:\n",
    "            # 进入右子树\n",
    "            return self.lowestCommonAncestor(root.right, p, q)"
   ]
  }
 ],
 "metadata": {
  "kernelspec": {
   "display_name": "python312",
   "language": "python",
   "name": "python3"
  },
  "language_info": {
   "codemirror_mode": {
    "name": "ipython",
    "version": 3
   },
   "file_extension": ".py",
   "mimetype": "text/x-python",
   "name": "python",
   "nbconvert_exporter": "python",
   "pygments_lexer": "ipython3",
   "version": "3.12.7"
  }
 },
 "nbformat": 4,
 "nbformat_minor": 2
}
