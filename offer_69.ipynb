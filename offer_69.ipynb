{
 "cells": [
  {
   "cell_type": "markdown",
   "metadata": {},
   "source": [
    "## 69. 跳台阶\n",
    "\n",
    "一只青蛙一次可以跳上1级台阶，也可以跳上2级。求该青蛙跳上一个 n 级的台阶总共有多少种跳法（先后次序不同算不同的结果）。"
   ]
  },
  {
   "cell_type": "markdown",
   "metadata": {},
   "source": [
    "方法一\n",
    "\n",
    "一只青蛙一次可以跳1阶或2阶，直到跳到第 n 阶，也可以看成这只青蛙从 n 阶往下跳，到 0 阶，按照原路返回的话，两种方法事实上可以的跳法是一样的——即怎么来的，怎么回去！ 当青蛙在第 n 阶往下跳，它可以选择跳 1 阶到 n−1，也可以选择跳 2 阶到 n−2，即它后续的跳法变成了 f(n−1)+f(n−2)，这就变成了斐波那契数列。因此可以按照斐波那契数列的做法来做：即输入n，输出第n个斐波那契数列的值，初始化0阶有1种，1阶有1种。\n",
    "\n",
    "具体做法：\n",
    "\n",
    "1. 低于2项的数列，直接返回n。\n",
    "2. 初始化第0项，与第1项分别为0，1.\n",
    "3. 从第2项开始，逐渐按照公式累加，并更新相加数始终为下一项的前两项。"
   ]
  },
  {
   "cell_type": "code",
   "execution_count": null,
   "metadata": {},
   "outputs": [],
   "source": [
    "class Solution:\n",
    "    def jumpFloor(self , number: int) -> int:\n",
    "        #从0开始，第0项是1，第一项是1\n",
    "        if n <= 1:    \n",
    "            return 1\n",
    "        res = 0\n",
    "        a = 1\n",
    "        b = 1\n",
    "        #初始化的时候把a=1，b=1\n",
    "        for i in range(2, n + 1): \n",
    "        #第三项开始是前两项的和,然后保留最新的两项，更新数据相加\n",
    "            res = (a + b)\n",
    "            a = b\n",
    "            b = res\n",
    "        return res\n"
   ]
  },
  {
   "cell_type": "markdown",
   "metadata": {},
   "source": [
    "方法二\n",
    "\n",
    "具体做法：\n",
    "\n",
    "1. 创建一个长度为 n+1 的数组，因为只有 n+1 才能有下标第 n 项，我们用它记录前 n 项斐波那契数列。\n",
    "2. 根据公式，初始化第0项和第1项。\n",
    "3. 遍历数组，依照公式某一项等于前两项之和，将数组后续元素补齐，即可得到 fib[n]。"
   ]
  },
  {
   "cell_type": "code",
   "execution_count": null,
   "metadata": {},
   "outputs": [],
   "source": [
    "class Solution:\n",
    "    def jumpFloor(self , number: int) -> int:\n",
    "        #从0开始，第0项是1，第一项是1\n",
    "        if number <= 1:    \n",
    "            return 1\n",
    "        temp = [0 for i in range(number + 1)]\n",
    "        #初始化\n",
    "        temp[0] = 1\n",
    "        temp[1] = 1\n",
    "        #依次相加\n",
    "        for i in range(2, number + 1): \n",
    "            temp[i] = temp[i - 1] + temp[i - 2]\n",
    "        return temp[number]\n"
   ]
  }
 ],
 "metadata": {
  "language_info": {
   "name": "python"
  }
 },
 "nbformat": 4,
 "nbformat_minor": 2
}
