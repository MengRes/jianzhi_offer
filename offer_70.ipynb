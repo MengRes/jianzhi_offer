{
 "cells": [
  {
   "cell_type": "markdown",
   "metadata": {},
   "source": [
    "## 70. 矩形覆盖\n",
    "\n",
    "我们可以用 2 \\* 1 的小矩形横着或者竖着去覆盖更大的矩形。请问用 n 个 2 \\* 1 的小矩形无重叠地覆盖一个 2 \\* n 的大矩形，从同一个方向看总共有多少种不同的方法？\n",
    "\n",
    "数据范围：$0≤n≤38$   \n",
    "进阶：空间复杂度 $O(1)$，时间复杂度 $O(n)$ \n",
    "\n",
    "注意：约定 n == 0 时，输出 0\n",
    "\n",
    "比如n=3时，2 \\* 3的矩形块有3种不同的覆盖方法(从同一个方向看)：\n",
    "\n",
    "<center>\n",
    "    <img src = images/70_0.png width = 40%>\n",
    "</center>\n",
    "\n",
    "输入描述：2 \\* 1的小矩形的总个数n  \n",
    "返回值描述：覆盖一个2*n的大矩形总共有多少种不同的方法(从同一个方向看)"
   ]
  },
  {
   "cell_type": "markdown",
   "metadata": {},
   "source": [
    "首先如果n=0，则只有0种  \n",
    "如果n=1，也只有1种  \n",
    "如果n=2，有横竖2种情况  \n",
    "如果n=3，有3种情况  \n",
    "如果n=4，有5种情况  \n",
    "\n",
    "由规律发现，$2 * n$ 的矩形的情况数为 $f(n)=f(n−1)+f(n−2)$，即这就是一个斐波那契数列，按照斐波那契数列的解法来即可，需要注意不同点在于n小于等于2时，都只有n种。\n",
    "\n",
    "具体做法：\n",
    "\n",
    "1. 约定n等于0时输出0，当n等于1时，只有一种矩形。\n",
    "2. 其他情况根据公式 $f(n)=f(n−1)+f(n−2)$，将两个子问题的结果相加。\n",
    "3. Python版本为了防止超时，需要用数组记录递归中的结果，便于直接使用。\n",
    "\n",
    "\n",
    "时间复杂度：$O(2^n)$，树型递归，$T(n)=T(n−1)+T(n−2)$，优化后的python版本为 $O(n)$  \n",
    "空间复杂度为 $O(n)$。\n"
   ]
  },
  {
   "cell_type": "markdown",
   "metadata": {},
   "source": [
    "1. 约定n等于0时输出0，当n等于1时，只有一种矩形。\n",
    "2. 初始化两个变量。\n",
    "3. 遍历到目标数字number，两个变量交替滚动相加得到结果。\n",
    "\n",
    "时间复杂度：$O(n)$，一次遍历\n",
    "空间复杂度：$O(1)$，常数级变量，无额外辅助空间"
   ]
  },
  {
   "cell_type": "code",
   "execution_count": null,
   "metadata": {},
   "outputs": [],
   "source": [
    "class Solution:\n",
    "    def rectCover(self , number: int) -> int:\n",
    "        #约定 n == 0 时，输出 0, 1时也只有一种\n",
    "        if number <= 2:\n",
    "            return number\n",
    "        #初始化n=1\n",
    "        dpi_2 = 1\n",
    "        #初始化n=2\n",
    "        dpi_1 = 2 \n",
    "        res = 0\n",
    "        for i in range(3, number + 1):\n",
    "            #公式相加\n",
    "            res = dpi_1 + dpi_2 \n",
    "            #变量更新\n",
    "            dpi_2 = dpi_1\n",
    "            dpi_1 = res\n",
    "        return res\n"
   ]
  }
 ],
 "metadata": {
  "language_info": {
   "name": "python"
  }
 },
 "nbformat": 4,
 "nbformat_minor": 2
}
