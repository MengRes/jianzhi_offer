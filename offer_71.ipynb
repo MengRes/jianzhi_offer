{
 "cells": [
  {
   "cell_type": "markdown",
   "metadata": {},
   "source": [
    "## 71. 跳台阶扩展问题\n",
    "\n",
    "一只青蛙一次可以跳上1级台阶，也可以跳上2级……它也可以跳上n级。求该青蛙跳上一个n级的台阶(n为正整数)总共有多少种跳法。\n",
    "\n",
    "数据范围：$1≤n≤20$  \n",
    "进阶：空间复杂度 $O(1)$， 时间复杂度 $O(1)$"
   ]
  },
  {
   "cell_type": "markdown",
   "metadata": {},
   "source": [
    "具体做法：\n",
    "\n",
    "1. 使用动态规划数组，下标i表示第i级台阶的方案数。\n",
    "2. 初始化前面两个，即0级一种，1级一种。\n",
    "3. 遍历后续，后一个是前一个的两倍。\n",
    "\n",
    "\n",
    "时间复杂度：$O(n)$，其中n为台阶数，一次遍历  \n",
    "空间复杂度：$O(n)$，辅助数组dp的长度为 n"
   ]
  },
  {
   "cell_type": "code",
   "execution_count": 1,
   "metadata": {},
   "outputs": [],
   "source": [
    "class Solution:\n",
    "    def jumpFloorII(self , number: int) -> int:\n",
    "        dp = [0 for i in range(number + 1)]\n",
    "        #初始化前面两个\n",
    "        dp[0] = 1\n",
    "        dp[1] = 1\n",
    "        #依次乘2\n",
    "        for i in range(2, number + 1):\n",
    "            dp[i] = 2 * dp[i - 1]\n",
    "        return dp[number]\n"
   ]
  }
 ],
 "metadata": {
  "kernelspec": {
   "display_name": "python312",
   "language": "python",
   "name": "python3"
  },
  "language_info": {
   "codemirror_mode": {
    "name": "ipython",
    "version": 3
   },
   "file_extension": ".py",
   "mimetype": "text/x-python",
   "name": "python",
   "nbconvert_exporter": "python",
   "pygments_lexer": "ipython3",
   "version": "3.12.7"
  }
 },
 "nbformat": 4,
 "nbformat_minor": 2
}
