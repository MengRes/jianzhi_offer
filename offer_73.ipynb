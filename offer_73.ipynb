{
 "cells": [
  {
   "cell_type": "markdown",
   "metadata": {},
   "source": [
    "## 73. 翻转单词序列\n",
    "\n",
    "最近来了一个新员工Fish，每天早晨总是会拿着一本英文杂志，写些句子在本子上。同事Cat对Fish写的内容颇感兴趣，有一天他向Fish借来翻看，但却读不懂它的意思。例如，“nowcoder. a am I”。后来才意识到，这家伙原来把句子单词的顺序翻转了，正确的句子应该是“I am a nowcoder.”。Cat对一一的翻转这些单词顺序可不在行，你能帮助他么？\n",
    "\n",
    "数据范围：$1≤n≤100$ \n",
    "\n",
    "进阶：空间复杂度 $O(n)$，时间复杂度 $O(n)$，保证没有只包含空格的字符串"
   ]
  },
  {
   "cell_type": "markdown",
   "metadata": {},
   "source": [
    "方法一：两次反转\n",
    "\n",
    "我们需要的是将单词位置反转，也即是单词内部不变，属于字符串部分反转问题。如果将整个字符串反转，单词位置倒是反转了，但是内部次序也改变了，此时就需要将内部再反转回去，因此两次反转可以解决。\n",
    "\n",
    "具体做法：\n",
    "\n",
    "1. 将字符串整体反转。\n",
    "2. 遍历反转后的字符串，以空格为界限找到一个单词。\n",
    "3. 将每个单词部分反转。"
   ]
  },
  {
   "cell_type": "code",
   "execution_count": null,
   "metadata": {},
   "outputs": [],
   "source": [
    "class Solution:\n",
    "    def ReverseSentence(self , str: str) -> str:\n",
    "        #第一次整体反转\n",
    "        str = str[::-1]\n",
    "        s = str.split(' ')\n",
    "        #以空格为界部分反转\n",
    "        return (' '.join(s[i][::-1] for i in range(len(s))))\n"
   ]
  },
  {
   "cell_type": "markdown",
   "metadata": {},
   "source": [
    "方法二\n",
    "\n",
    "我们可以用方法一中分割单词的方式，在大的句子字符串中分割出一个一个地单词。然后从头到尾遍历单词，将分割出来的单词送入栈中，然后按照栈中弹出的字符串顺序拼接单词即可使单词之间逆序。\n",
    "\n",
    "具体做法：\n",
    "\n",
    "1. 遍历字符串，将整个字符串按照空格分割然后入栈。\n",
    "2. 遍历栈，将栈中内容弹出拼接成字符串。"
   ]
  },
  {
   "cell_type": "code",
   "execution_count": null,
   "metadata": {},
   "outputs": [],
   "source": [
    "class Solution:\n",
    "    def ReverseSentence(self , str: str) -> str:\n",
    "        #按照空格分开\n",
    "        strs = str.split(\" \")\n",
    "        st = []\n",
    "        #入栈\n",
    "        for s in strs:\n",
    "            st.append(s)\n",
    "        res = []\n",
    "        #出栈逆序\n",
    "        while len(st) > 0:\n",
    "            res.append(st.pop())\n",
    "        #拼接\n",
    "        return \" \".join([x for x in res])\n"
   ]
  }
 ],
 "metadata": {
  "language_info": {
   "name": "python"
  }
 },
 "nbformat": 4,
 "nbformat_minor": 2
}
