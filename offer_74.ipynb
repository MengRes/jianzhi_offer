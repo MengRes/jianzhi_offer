{
 "cells": [
  {
   "cell_type": "markdown",
   "metadata": {},
   "source": [
    "## 74. 和为 S 的连续正数序列\n",
    "\n",
    "小明很喜欢数学,有一天他在做数学作业时,要求计算出 9~16 的和,他马上就写出了正确答案是 100。但是他并不满足于此,他在想究竟有多少种连续的正数序列的和为 100 (至少包括两个数)。没多久,他就得到另一组连续正数和为 100 的序列: 18,19,20,21,22。现在把问题交给你,你能不能也很快的找出所有和为S的连续正数序列?"
   ]
  },
  {
   "cell_type": "markdown",
   "metadata": {},
   "source": [
    "方法一：滑动窗口法\n",
    "\n",
    "1. 定义两个指针  l  和  r ，表示当前窗口的起点和终点。\n",
    "2. 计算窗口内的和：\n",
    "    + 如果窗口和  $\\text{sum} < S$ ，右边界  r  增大。\n",
    "    + 如果窗口和  $\\text{sum} > S$ ，左边界  l  增大。\n",
    "    + 如果窗口和  $\\text{sum} = S$ ，记录序列并移动左边界。"
   ]
  },
  {
   "cell_type": "code",
   "execution_count": 2,
   "metadata": {},
   "outputs": [],
   "source": [
    "from typing import List\n",
    "\n",
    "class Solution:\n",
    "    def FindContinuousSequence(self , sum: int) -> List[List[int]]:\n",
    "        l, r = 1, 2  # 起始窗口\n",
    "        result = []\n",
    "        while l < r:\n",
    "            # 当前窗口的和\n",
    "            sum_window = (r - l + 1) * (l + r) // 2\n",
    "            if sum_window == sum:\n",
    "                result.append(list(range(l, r + 1)))\n",
    "                l += 1\n",
    "            elif sum_window < sum:\n",
    "                r += 1\n",
    "            else:\n",
    "                l += 1\n",
    "        return result"
   ]
  },
  {
   "cell_type": "code",
   "execution_count": 3,
   "metadata": {},
   "outputs": [
    {
     "name": "stdout",
     "output_type": "stream",
     "text": [
      "[[9, 10, 11, 12, 13, 14, 15, 16], [18, 19, 20, 21, 22]]\n"
     ]
    }
   ],
   "source": [
    "solution = Solution()\n",
    "sum = 100\n",
    "result = solution.FindContinuousSequence(sum)\n",
    "print(result)"
   ]
  }
 ],
 "metadata": {
  "kernelspec": {
   "display_name": "python312",
   "language": "python",
   "name": "python3"
  },
  "language_info": {
   "codemirror_mode": {
    "name": "ipython",
    "version": 3
   },
   "file_extension": ".py",
   "mimetype": "text/x-python",
   "name": "python",
   "nbconvert_exporter": "python",
   "pygments_lexer": "ipython3",
   "version": "3.12.7"
  }
 },
 "nbformat": 4,
 "nbformat_minor": 2
}
