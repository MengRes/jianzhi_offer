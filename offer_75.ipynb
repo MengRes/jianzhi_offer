{
 "cells": [
  {
   "cell_type": "markdown",
   "metadata": {},
   "source": [
    "## 75. 字符流中第一个不重复的字符\n",
    "\n",
    "请实现一个函数用来找出字符流中第一个只出现一次的字符。例如，当从字符流中只读出前两个字符 \"go\" 时，第一个只出现一次的字符是 \"g\" 。当从该字符流中读出前六个字符 “google\" 时，第一个只出现一次的字符是\"l\"。如果当前字符流没有存在出现一次的字符，返回#字符。\n",
    "\n",
    "数据范围：字符串长度满足 $1≤n≤1000$，字符串中出现的字符一定在 ASCII 码内。\n",
    "\n",
    "进阶：空间复杂度 $O(n)$，时间复杂度 $O(n)$ \n",
    "\n",
    "例子：\n",
    "\n",
    "输入：\"google\"\n",
    "\n",
    "返回值：\"ggg#ll\""
   ]
  },
  {
   "cell_type": "markdown",
   "metadata": {},
   "source": [
    "可以用哈希表来记录各个字符出现的次数，根据这样只要是字符串最前面且哈希表中次数为1的字符就是我们要找的。\n",
    "\n",
    "具体做法：\n",
    "\n",
    "1. 准备一个字符串来记录输入的字符流，用哈希表统计每个字符的次数，二者都是全局变量。\n",
    "2. 在Insert函数中对输入的字符，加到字符串最后，然后统计出现次数。\n",
    "3. 在FirstAppearingOnce函数遍历该字符串，对于每个字符查找哈希表，返回第一个计数为1的字符，如果遍历完字符串以后都没，则返回#。"
   ]
  },
  {
   "cell_type": "code",
   "execution_count": 1,
   "metadata": {},
   "outputs": [],
   "source": [
    "class Solution:\n",
    "    def __init__(self):\n",
    "        self.s = \"\"\n",
    "        self.mp = dict()\n",
    "        \n",
    "    def FirstAppearingOnce(self):\n",
    "        #遍历字符串\n",
    "        for c in self.s:\n",
    "            #找到第一个出现次数为1的\n",
    "            if self.mp[c] == 1:\n",
    "                return c\n",
    "        #没有找到\n",
    "        return '#' \n",
    "        \n",
    "    def Insert(self, char):\n",
    "        #插入字符\n",
    "        self.s += char  \n",
    "        #哈希表记录字符出现次数\n",
    "        if char in self.mp:\n",
    "            self.mp[char] += 1\n",
    "        else:\n",
    "            self.mp[char] = 1\n"
   ]
  }
 ],
 "metadata": {
  "kernelspec": {
   "display_name": "python311",
   "language": "python",
   "name": "python3"
  },
  "language_info": {
   "codemirror_mode": {
    "name": "ipython",
    "version": 3
   },
   "file_extension": ".py",
   "mimetype": "text/x-python",
   "name": "python",
   "nbconvert_exporter": "python",
   "pygments_lexer": "ipython3",
   "version": "3.11.5"
  }
 },
 "nbformat": 4,
 "nbformat_minor": 2
}
