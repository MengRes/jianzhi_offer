{
 "cells": [
  {
   "cell_type": "markdown",
   "metadata": {},
   "source": [
    "## 76. 删除链表中重复的结点\n",
    "\n",
    "在一个排序的链表中，存在重复的结点，请删除该链表中重复的结点，重复的结点不保留，返回链表头指针。 例如，链表 1->2->3->3->4->4->5  处理后为 1->2->5\n",
    "\n",
    "数据范围：链表长度满足 $0≤n≤1000$，链表中的值满足 $1≤val≤1000$ \n",
    "\n",
    "进阶：空间复杂度 $O(n)$，时间复杂度 $O(n)$ \n",
    "\n",
    "例如输入{1,2,3,3,4,4,5}时，对应的输出为{1,2,5}，对应的输入输出链表如下图所示：\n",
    "\n",
    "<center>\n",
    "    <img src = images/76_0.png width = 60%>\n",
    "</center>"
   ]
  },
  {
   "cell_type": "code",
   "execution_count": null,
   "metadata": {},
   "outputs": [],
   "source": [
    "class ListNode:\n",
    "    def __init__(self, x):\n",
    "        self.val = x\n",
    "        self.next = None\n",
    "\n",
    "class Solution:\n",
    "    def deleteDuplication(self , pHead: ListNode) -> ListNode:\n",
    "        #空链表\n",
    "        if pHead == None: \n",
    "            return None\n",
    "        res = ListNode(0)\n",
    "        #在链表前加一个表头\n",
    "        res.next = pHead \n",
    "        cur = res\n",
    "        while cur.next and cur.next.next: \n",
    "            #遇到相邻两个节点值相同\n",
    "            if cur.next.val == cur.next.next.val: \n",
    "                temp = cur.next.val\n",
    "                #将所有相同的都跳过\n",
    "                while cur.next != None and cur.next.val == temp: \n",
    "                    cur.next = cur.next.next\n",
    "            else:\n",
    "                cur = cur.next\n",
    "        #返回时去掉表头\n",
    "        return res.next\n"
   ]
  }
 ],
 "metadata": {
  "language_info": {
   "name": "python"
  }
 },
 "nbformat": 4,
 "nbformat_minor": 2
}
