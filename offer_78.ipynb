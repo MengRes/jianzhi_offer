{
 "cells": [
  {
   "cell_type": "markdown",
   "metadata": {},
   "source": [
    "## 78. 把二叉树打印成多行\n",
    "\n",
    "给定一个节点数为 n 二叉树，要求从上到下按层打印二叉树的 val 值，同一层结点从左至右输出，每一层输出一行，将输出的结果存放到一个二维数组中返回。\n",
    "\n",
    "例如：\n",
    "给定的二叉树是{1,2,3,#,#,4,5}\n",
    "\n",
    "<center>\n",
    "    <img src = images/78_0.png width = 30%>\n",
    "</center>\n",
    "\n",
    "该二叉树多行打印层序遍历的结果是\n",
    "[\n",
    "[1],\n",
    "[2,3],\n",
    "[4,5]\n",
    "]"
   ]
  },
  {
   "cell_type": "markdown",
   "metadata": {},
   "source": [
    "方法一：\n",
    "\n",
    "从上到下按层打印二叉树的值，即层序遍历（Level Order Traversal），可以通过以下方法实现：\n",
    "\n",
    "1. 借助队列进行广度优先搜索（BFS）：\n",
    "    + 使用一个队列保存每一层的节点，初始时将根节点加入队列。\n",
    "    + 每次从队列中取出当前层的所有节点，将它们的值保存，并将它们的子节点（左、右）加入队列。\n",
    "    + 重复上述操作，直到队列为空。\n",
    "2. 记录层级数据：\n",
    "    + 使用一个二维数组，每一层的值作为一个子数组。\n",
    "    + 每次处理完一层后，将该层的值存入结果中。"
   ]
  },
  {
   "cell_type": "code",
   "execution_count": 2,
   "metadata": {},
   "outputs": [],
   "source": [
    "from typing import List\n",
    "\n",
    "class TreeNode:\n",
    "    def __init__(self, x):\n",
    "        self.val = x\n",
    "        self.left = None\n",
    "        self.right = None\n",
    "\n",
    "class Solution:\n",
    "    def Print(self , pRoot: TreeNode) -> List[List[int]]:\n",
    "        if not pRoot:\n",
    "            return []  # 空树直接返回空数组\n",
    "        result = []\n",
    "        queue = [pRoot]  # 初始化队列，包含根节点\n",
    "\n",
    "        while queue:\n",
    "            level = []  # 存储当前层的节点值\n",
    "            for _ in range(len(queue)):\n",
    "                node = queue.pop(0)  # 弹出当前层的节点\n",
    "                level.append(node.val)  # 保存当前节点值\n",
    "                if node.left:\n",
    "                    queue.append(node.left)  # 加入左子节点\n",
    "                if node.right:\n",
    "                    queue.append(node.right)  # 加入右子节点\n",
    "            result.append(level)  # 将当前层结果加入最终结果\n",
    "\n",
    "        return result"
   ]
  },
  {
   "cell_type": "code",
   "execution_count": 3,
   "metadata": {},
   "outputs": [
    {
     "name": "stdout",
     "output_type": "stream",
     "text": [
      "[[3], [9, 20], [15, 7]]\n"
     ]
    }
   ],
   "source": [
    "root = TreeNode(3)\n",
    "root.left = TreeNode(9)\n",
    "root.right = TreeNode(20)\n",
    "root.right.left = TreeNode(15)\n",
    "root.right.right = TreeNode(7)\n",
    "\n",
    "solution = Solution()\n",
    "pRoot = root\n",
    "result = solution.Print(pRoot)\n",
    "print(result)"
   ]
  }
 ],
 "metadata": {
  "kernelspec": {
   "display_name": "python312",
   "language": "python",
   "name": "python3"
  },
  "language_info": {
   "codemirror_mode": {
    "name": "ipython",
    "version": 3
   },
   "file_extension": ".py",
   "mimetype": "text/x-python",
   "name": "python",
   "nbconvert_exporter": "python",
   "pygments_lexer": "ipython3",
   "version": "3.12.7"
  }
 },
 "nbformat": 4,
 "nbformat_minor": 2
}
