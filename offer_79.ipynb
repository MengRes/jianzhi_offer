{
 "cells": [
  {
   "cell_type": "markdown",
   "metadata": {},
   "source": [
    "## 79. 判断是不是平衡二叉树\n",
    "\n",
    "输入一棵节点数为 n 二叉树，判断该二叉树是否是平衡二叉树。在这里，我们只需要考虑其平衡性，不需要考虑其是不是排序二叉树。\n",
    "\n",
    "平衡二叉树（Balanced Binary Tree），具有以下性质：它是一棵空树或它的左右两个子树的高度差的绝对值不超过1，并且左右两个子树都是一棵平衡二叉树。\n",
    "\n",
    "例子：\n",
    "\n",
    "<center>\n",
    "    <img src = images/79_0.png width = 40%>\n",
    "</center>\n",
    "\n",
    "样例二叉树如图，为一颗平衡二叉树\n",
    "\n",
    "注：我们约定空树是平衡二叉树。"
   ]
  },
  {
   "cell_type": "code",
   "execution_count": null,
   "metadata": {},
   "outputs": [],
   "source": [
    "class TreeNode:\n",
    "    def __init__(self, x):\n",
    "        self.val = x\n",
    "        self.left = None\n",
    "        self.right = None\n",
    "\n",
    "class Solution:\n",
    "    def IsBalanced_Solution(self , pRoot: TreeNode) -> bool:\n",
    "        def deep(root: TreeNode):\n",
    "            if not root:\n",
    "                return 0\n",
    "            # 递归算左右子树的深度\n",
    "            left = deep(root.left)\n",
    "            right = deep(root.right)\n",
    "            # 子树最大深度加上自己\n",
    "            return left + 1 if left > right else right + 1\n",
    "        # write code here\n",
    "        if not pRoot:\n",
    "            return True\n",
    "        left = deep(pRoot.left)\n",
    "        right = deep(pRoot.right)\n",
    "        # 左子树深度减去右子树相差绝对值大于1\n",
    "        if left - right > 1 or left - right < -1:\n",
    "            return False\n",
    "        # 同时，左右子树还必须是平衡的\n",
    "        return self.IsBalanced_Solution(pRoot.left) and self.IsBalanced_Solution(pRoot.right)\n"
   ]
  }
 ],
 "metadata": {
  "kernelspec": {
   "display_name": "python312",
   "language": "python",
   "name": "python3"
  },
  "language_info": {
   "name": "python",
   "version": "3.12.7"
  }
 },
 "nbformat": 4,
 "nbformat_minor": 2
}
