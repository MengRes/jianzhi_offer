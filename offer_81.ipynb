{
 "cells": [
  {
   "cell_type": "markdown",
   "metadata": {},
   "source": [
    "## 81. 调整数组顺序使奇数位于偶数前面(二)\n",
    "\n",
    "输入一个长度为 n 整数数组，数组里面可能含有相同的元素，实现一个函数来调整该数组中数字的顺序，使得所有的奇数位于数组的前面部分，所有的偶数位于数组的后面部分，对奇数和奇数，偶数和偶数之间的相对位置不做要求，但是时间复杂度和空间复杂度必须如下要求:\n",
    "\n",
    "数据范围：$0≤n≤50000$，数组中每个数的值 $0≤val≤10000$\n",
    "\n",
    "要求：时间复杂度 $O(n)$，空间复杂度 $O(1)$\n",
    "\n",
    "Example:\n",
    "\n",
    "输入：[1,2,3,4]\n",
    "\n",
    "返回值：[1,3,2,4]\n",
    "\n",
    "说明：[3,1,2,4]或者[3,1,4,2]也是正确答案"
   ]
  },
  {
   "cell_type": "markdown",
   "metadata": {},
   "source": [
    "### Naive method\n",
    "\n",
    "遍历给定的 list，分别建立两个 list 用于写入奇数和偶数，然后拼接在一起。\n",
    "\n",
    "复杂度分析：\n",
    "\n",
    "时间复杂度 $O(n)$：$n$ 表示原数组的长度，遍历原数组\n",
    "\n",
    "空间复杂度 $O(n)$：需要 $n$ 个存储空间"
   ]
  },
  {
   "cell_type": "code",
   "execution_count": 1,
   "metadata": {},
   "outputs": [],
   "source": [
    "from typing import List\n",
    "\n",
    "class Solution:\n",
    "    def reOrderArrayTwo(self , array: List[int]) -> List[int]:\n",
    "        # write code here\n",
    "        odd_list = []\n",
    "        even_list = []\n",
    "        for i in range(len(array)):\n",
    "            if array[i] % 2 == 1:\n",
    "                odd_list.append(array[i])\n",
    "            else:\n",
    "                even_list.append(array[i])\n",
    "        output_list = odd_list + even_list\n",
    "        return output_list"
   ]
  },
  {
   "cell_type": "code",
   "execution_count": 2,
   "metadata": {},
   "outputs": [
    {
     "name": "stdout",
     "output_type": "stream",
     "text": [
      "[1, 3, 5, 2, 4, 6]\n"
     ]
    }
   ],
   "source": [
    "array = [1, 2, 3, 4, 5, 6]\n",
    "\n",
    "solution = Solution()\n",
    "result = solution.reOrderArrayTwo(array = array)\n",
    "print(result)"
   ]
  }
 ],
 "metadata": {
  "kernelspec": {
   "display_name": "python311",
   "language": "python",
   "name": "python3"
  },
  "language_info": {
   "codemirror_mode": {
    "name": "ipython",
    "version": 3
   },
   "file_extension": ".py",
   "mimetype": "text/x-python",
   "name": "python",
   "nbconvert_exporter": "python",
   "pygments_lexer": "ipython3",
   "version": "3.11.5"
  }
 },
 "nbformat": 4,
 "nbformat_minor": 2
}
