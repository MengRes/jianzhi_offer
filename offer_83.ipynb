{
 "cells": [
  {
   "cell_type": "markdown",
   "metadata": {},
   "source": [
    "## 83. 剪绳子（进阶版）\n",
    "\n",
    "给你一根长度为 n 的绳子，请把绳子剪成整数长的 m 段（ m 、 n 都是整数， n > 1 并且 m > 1 ， m <= n ），每段绳子的长度记为 k[1],...,k[m] 。请问 k[1]*k[2]*...*k[m] 可能的最大乘积是多少？例如，当绳子的长度是 8 时，我们把它剪成长度分别为 2、3、3 的三段，此时得到的最大乘积是 18 。\n",
    "\n",
    "由于答案过大，请对 998244353 取模。\n",
    "\n",
    "数据范围：$2≤n≤10^{14}$\n",
    " \n",
    "进阶：空间复杂度 $O(1)$， 时间复杂度 $O(logn)$"
   ]
  },
  {
   "cell_type": "code",
   "execution_count": null,
   "metadata": {},
   "outputs": [],
   "source": [
    "class Solution:\n",
    "    def __init__(self):\n",
    "        self.mod = 998244353\n",
    "         \n",
    "    #快速乘法\n",
    "    def fast(self, x: int, y: int) -> int:\n",
    "        res = 0\n",
    "        x %= self.mod\n",
    "        y %= self.mod\n",
    "        while y:\n",
    "            if y & 1:\n",
    "                #加法代替乘法，防止越界\n",
    "                res += x\n",
    "                if res >= self.mod:\n",
    "                    res -= self.mod\n",
    "            y = y >> 1\n",
    "            x = x << 1\n",
    "            if x >= self.mod:\n",
    "                x -= self.mod\n",
    "        return res\n",
    "     \n",
    "    #快速幂\n",
    "    def Pow(self, x: int, y: int) -> int:\n",
    "        res = 1\n",
    "        while y:\n",
    "            #可以再往上乘一个\n",
    "            if y & 1:\n",
    "                res = self.fast(res, x)\n",
    "            #叠加\n",
    "            x = self.fast(x, x)\n",
    "            #减少乘次数\n",
    "            y = y >> 1\n",
    "        return res\n",
    "     \n",
    "    def cutRope(self , number: int) -> int:\n",
    "        #不超过3直接计算\n",
    "        if number <= 3:\n",
    "            return number - 1\n",
    "        #能整除3\n",
    "        if number % 3 == 0:\n",
    "            return self.Pow(3, number // 3)\n",
    "        #最后剩余1\n",
    "        elif number % 3 == 1:\n",
    "            #4*3^{n-1}\n",
    "            return self.fast(self.Pow(3, number // 3 - 1), 4)\n",
    "        #最后剩余2\n",
    "        else:\n",
    "            #2*3^n\n",
    "            return self.fast(self.Pow(3, number // 3), 2)"
   ]
  }
 ],
 "metadata": {
  "language_info": {
   "name": "python"
  }
 },
 "nbformat": 4,
 "nbformat_minor": 2
}
