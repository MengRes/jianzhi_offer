{
 "cells": [
  {
   "cell_type": "markdown",
   "metadata": {},
   "source": [
    "## 84. 二叉树中和为某一值的路径(三)\n",
    "\n",
    "给定一个二叉树root和一个整数值 sum ，求该树有多少路径的的节点值之和等于 sum 。\n",
    "\n",
    "1. 该题路径定义不需要从根节点开始，也不需要在叶子节点结束，但是一定是从父亲节点往下到孩子节点\n",
    "2. 总节点数目为n\n",
    "3. 保证最后返回的路径个数在整形范围内(即路径个数小于 $2^31-1$)\n",
    "\n",
    "假如二叉树root为{1,2,3,4,5,4,3,#,#,-1}，sum=6，那么总共如下所示，有3条路径符合要求\n",
    "\n",
    "<center>\n",
    "    <img src = images/84_0.png width = 40%>\n",
    "</center>\n"
   ]
  },
  {
   "cell_type": "code",
   "execution_count": null,
   "metadata": {},
   "outputs": [],
   "source": [
    "class TreeNode:\n",
    "    def __init__(self, x):\n",
    "        self.val = x\n",
    "        self.left = None\n",
    "        self.right = None\n",
    "\n",
    "class Solution:\n",
    "    def __init__(self):\n",
    "        self.res = 0\n",
    "         \n",
    "    #dfs查询以某节点为根的路径数\n",
    "    def dfs(self, root: TreeNode, sum: int):\n",
    "        if root is None:\n",
    "            return\n",
    "        #符合目标值\n",
    "        if sum == root.val:\n",
    "            self.res += 1\n",
    "        #进入子节点继续找\n",
    "        self.dfs(root.left, sum - root.val)\n",
    "        self.dfs(root.right, sum - root.val)\n",
    "     \n",
    "    def FindPath(self , root: TreeNode, sum: int) -> int:\n",
    "        #为空则返回\n",
    "        if root is None:\n",
    "            return self.res\n",
    "        #查询以某节点为根的路径数\n",
    "        self.dfs(root, sum)\n",
    "        #以其子节点为新根\n",
    "        self.FindPath(root.left, sum);\n",
    "        self.FindPath(root.right, sum)\n",
    "        return self.res"
   ]
  }
 ],
 "metadata": {
  "language_info": {
   "name": "python"
  }
 },
 "nbformat": 4,
 "nbformat_minor": 2
}
