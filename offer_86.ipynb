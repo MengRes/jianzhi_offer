{
 "cells": [
  {
   "cell_type": "markdown",
   "metadata": {},
   "source": [
    "## 86. 在二叉树中找到两个节点的最近公共祖先\n",
    "\n",
    "给定一棵二叉树(保证非空)以及这棵树上的两个节点对应的val值 o1 和 o2，请找到 o1 和 o2 的最近公共祖先节点。\n",
    "\n",
    "\n",
    "数据范围：树上节点数满足 $1≤n≤10^5$, 节点值val满足区间 [0,n)\n",
    "要求：时间复杂度 $O(n)$\n",
    "\n",
    "注：本题保证二叉树中每个节点的val值均不相同。\n",
    "\n",
    "如当输入{3,5,1,6,2,0,8,#,#,7,4},5,1时，二叉树{3,5,1,6,2,0,8,#,#,7,4}如下图所示：\n",
    "\n",
    "<center>\n",
    "    <img src = images/86_0.png width = 40%>\n",
    "</center>\n",
    "\n",
    "所以节点值为5和节点值为1的节点的最近公共祖先节点的节点值为3，所以对应的输出为3。节点本身可以视为自己的祖先。"
   ]
  },
  {
   "cell_type": "code",
   "execution_count": null,
   "metadata": {},
   "outputs": [],
   "source": [
    "from typing import List\n",
    "\n",
    "class TreeNode:\n",
    "    def __init__(self, x):\n",
    "        self.val = x\n",
    "        self.left = None\n",
    "        self.right = None\n",
    "\n",
    "class Solution:\n",
    "    # 记录是否找到到o的路径\n",
    "    flag = False\n",
    "    # 求得根节点到目标节点的路径\n",
    "    def dfs(self, root: TreeNode, path: List[int], o: int):\n",
    "        if self.flag or not root:\n",
    "            return\n",
    "        path.append(root.val)\n",
    "        # 节点值都不同，可以直接用值比较\n",
    "        if root.val == o:\n",
    "            self.flag = True\n",
    "            return\n",
    "        # dfs遍历查找\n",
    "        self.dfs(root.left, path, o)\n",
    "        self.dfs(root.right, path, o)\n",
    "        #找到\n",
    "        if self.flag:\n",
    "            return\n",
    "        # 该子树没有，回溯\n",
    "        path.pop()\n",
    "\n",
    "    def lowestCommonAncestor(self , root: TreeNode, o1: int, o2: int) -> int:\n",
    "        path1, path2 = [], []\n",
    "        # 求根节点到两个节点的路径\n",
    "        self.dfs(root, path1, o1)\n",
    "        # 重置flag，查找下一个\n",
    "        self.flag = False\n",
    "        self.dfs(root, path2, o2)\n",
    "        i = 0\n",
    "        res = None\n",
    "        # 比较两个路径，找到第一个不同的点\n",
    "        while i < len(path1) and i < len(path2):\n",
    "            if path1[i] == path2[i]:\n",
    "                # 最后一个相同的节点就是最近公共祖先\n",
    "                res = path1[i]\n",
    "                i += 1\n",
    "            else:\n",
    "                break\n",
    "        return res"
   ]
  }
 ],
 "metadata": {
  "language_info": {
   "name": "python"
  }
 },
 "nbformat": 4,
 "nbformat_minor": 2
}
